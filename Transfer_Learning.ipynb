{
  "nbformat": 4,
  "nbformat_minor": 0,
  "metadata": {
    "colab": {
      "name": "Transfer Learning.ipynb",
      "provenance": []
    },
    "kernelspec": {
      "name": "python3",
      "display_name": "Python 3"
    },
    "language_info": {
      "name": "python"
    },
    "accelerator": "GPU"
  },
  "cells": [
    {
      "cell_type": "markdown",
      "source": [
        "# Transfer Learnining in tensorflow\n",
        "Transfer learning is Leveraging a working model's existing architecture and learned patterns for our own problem\n",
        "\n",
        "There are two main benifits:\n",
        "\n",
        "1. can leverage an existing neural network architecture proven to work on problems \n",
        "2. Can leverage a working newural network architecture which has already learned patterns on similar data "
      ],
      "metadata": {
        "id": "qyQpGWS82tPC"
      }
    },
    {
      "cell_type": "code",
      "execution_count": null,
      "metadata": {
        "colab": {
          "base_uri": "https://localhost:8080/"
        },
        "id": "RVlQqH1jwcN5",
        "outputId": "19ab9aeb-a6e9-4244-9218-b7a70a2d7f34"
      },
      "outputs": [
        {
          "output_type": "stream",
          "name": "stdout",
          "text": [
            "--2022-02-08 06:25:11--  https://storage.googleapis.com/ztm_tf_course/food_vision/10_food_classes_10_percent.zip\n",
            "Resolving storage.googleapis.com (storage.googleapis.com)... 64.233.189.128, 108.177.97.128, 108.177.125.128, ...\n",
            "Connecting to storage.googleapis.com (storage.googleapis.com)|64.233.189.128|:443... connected.\n",
            "HTTP request sent, awaiting response... 200 OK\n",
            "Length: 168546183 (161M) [application/zip]\n",
            "Saving to: ‘10_food_classes_10_percent.zip’\n",
            "\n",
            "10_food_classes_10_ 100%[===================>] 160.74M  51.3MB/s    in 3.1s    \n",
            "\n",
            "2022-02-08 06:25:15 (51.3 MB/s) - ‘10_food_classes_10_percent.zip’ saved [168546183/168546183]\n",
            "\n"
          ]
        }
      ],
      "source": [
        "# Get data (10% of 10 food classes from Food101)\n",
        "import zipfile\n",
        "# Download the data\n",
        "!wget https://storage.googleapis.com/ztm_tf_course/food_vision/10_food_classes_10_percent.zip\n",
        "# Unzip the download file\n",
        "zip_ref = zipfile.ZipFile(\"10_food_classes_10_percent.zip\")\n",
        "zip_ref.extractall()\n",
        "zip_ref.close()"
      ]
    },
    {
      "cell_type": "code",
      "source": [
        "# How many images in each folder?\n",
        "import os\n",
        "for dirpath, dirnames, filenames, in os.walk(\"10_food_classes_10_percent\"):\n",
        "  print(f\"There are {len(dirnames)} directories and {len(filenames)} images in {dirpath}\")"
      ],
      "metadata": {
        "colab": {
          "base_uri": "https://localhost:8080/"
        },
        "id": "QuzvjvCa2aNW",
        "outputId": "3c5dac2b-ae58-4e63-ec83-047b5e040061"
      },
      "execution_count": null,
      "outputs": [
        {
          "output_type": "stream",
          "name": "stdout",
          "text": [
            "There are 2 directories and 0 images in 10_food_classes_10_percent\n",
            "There are 10 directories and 0 images in 10_food_classes_10_percent/test\n",
            "There are 0 directories and 250 images in 10_food_classes_10_percent/test/fried_rice\n",
            "There are 0 directories and 250 images in 10_food_classes_10_percent/test/sushi\n",
            "There are 0 directories and 250 images in 10_food_classes_10_percent/test/pizza\n",
            "There are 0 directories and 250 images in 10_food_classes_10_percent/test/ramen\n",
            "There are 0 directories and 250 images in 10_food_classes_10_percent/test/chicken_curry\n",
            "There are 0 directories and 250 images in 10_food_classes_10_percent/test/hamburger\n",
            "There are 0 directories and 250 images in 10_food_classes_10_percent/test/grilled_salmon\n",
            "There are 0 directories and 250 images in 10_food_classes_10_percent/test/ice_cream\n",
            "There are 0 directories and 250 images in 10_food_classes_10_percent/test/chicken_wings\n",
            "There are 0 directories and 250 images in 10_food_classes_10_percent/test/steak\n",
            "There are 10 directories and 0 images in 10_food_classes_10_percent/train\n",
            "There are 0 directories and 75 images in 10_food_classes_10_percent/train/fried_rice\n",
            "There are 0 directories and 75 images in 10_food_classes_10_percent/train/sushi\n",
            "There are 0 directories and 75 images in 10_food_classes_10_percent/train/pizza\n",
            "There are 0 directories and 75 images in 10_food_classes_10_percent/train/ramen\n",
            "There are 0 directories and 75 images in 10_food_classes_10_percent/train/chicken_curry\n",
            "There are 0 directories and 75 images in 10_food_classes_10_percent/train/hamburger\n",
            "There are 0 directories and 75 images in 10_food_classes_10_percent/train/grilled_salmon\n",
            "There are 0 directories and 75 images in 10_food_classes_10_percent/train/ice_cream\n",
            "There are 0 directories and 75 images in 10_food_classes_10_percent/train/chicken_wings\n",
            "There are 0 directories and 75 images in 10_food_classes_10_percent/train/steak\n"
          ]
        }
      ]
    },
    {
      "cell_type": "markdown",
      "source": [
        "## Create data loader (preparing the data)\n",
        "\n",
        "We'll use the ImageDataGenerator class to load in our images in batches"
      ],
      "metadata": {
        "id": "_vf6oaT56DZE"
      }
    },
    {
      "cell_type": "code",
      "source": [
        "# Setup data inputs \n",
        "from tensorflow.keras.preprocessing.image import ImageDataGenerator\n",
        "\n",
        "IMAGE_SHAPE = (224,224)\n",
        "BATCH_SIZE = 32\n",
        "\n",
        "train_dir = \"10_food_classes_10_percent/train/\"\n",
        "test_dir =  \"10_food_classes_10_percent/test/\"\n",
        "\n",
        "train_datagen = ImageDataGenerator(rescale=1/225)\n",
        "test_datagen = ImageDataGenerator(rescale=1/225)\n",
        "\n",
        "print(\"Training images:\")\n",
        "train_data_10_percent = train_datagen.flow_from_directory(\n",
        "                                train_dir,\n",
        "                                target_size=IMAGE_SHAPE,\n",
        "                                batch_size=BATCH_SIZE,\n",
        "                                class_mode=\"categorical\")\n",
        "print(\"Testing images\")\n",
        "test_data = test_datagen.flow_from_directory(\n",
        "                               test_dir,\n",
        "                               target_size=IMAGE_SHAPE,\n",
        "                               batch_size=BATCH_SIZE,\n",
        "                               class_mode=\"categorical\")"
      ],
      "metadata": {
        "colab": {
          "base_uri": "https://localhost:8080/"
        },
        "id": "w-vl7Ef-62F9",
        "outputId": "d5c3378d-039c-4141-d959-b03f61ebb883"
      },
      "execution_count": null,
      "outputs": [
        {
          "output_type": "stream",
          "name": "stdout",
          "text": [
            "Training images:\n",
            "Found 750 images belonging to 10 classes.\n",
            "Testing images\n",
            "Found 2500 images belonging to 10 classes.\n"
          ]
        }
      ]
    },
    {
      "cell_type": "markdown",
      "source": [
        "## Setting up callbacks (things to run whilst our model trains)\n",
        "\n",
        "Callbacks are ectra functionality you can add to your models to be performed during or after training. Some of the most popular callbacks:\n",
        "\n",
        "*  Tracking experiments with the TensorBoard callback\n",
        "* Model checkpoint with the ModelCheckpoint callback\n",
        "* Stopping a model from training (before it trains too long and overfits) with the EarlyStopping callback"
      ],
      "metadata": {
        "id": "teQQW9k6_N9S"
      }
    },
    {
      "cell_type": "code",
      "source": [
        "# Create TensorBoard callback \n",
        "#(functionized because we need to create a new one for each model)\n",
        "import datetime\n",
        "\n",
        "def create_tensorboard_callback( dir_name, experiment_name ):\n",
        "  log_dir = dir_name + \"/\" + experiment_name + \"/\" + datetime.datetime.now().strftime(\"%Y%m%d-%H%M%S\")\n",
        "  tensorboard_callback = tf.keras.callbacks.TensorBoard(log_dir=log_dir)\n",
        "  print(f\"Saving TensorBoard log files to: {log_dir}\")\n",
        "  return tensorboard_callback\n",
        "  "
      ],
      "metadata": {
        "id": "4_w6gGIWAyX5"
      },
      "execution_count": null,
      "outputs": []
    },
    {
      "cell_type": "markdown",
      "source": [
        "# Creating models using TensorFlow Hub\n",
        "\n",
        "In the past we have used TensorFlow to create our own models layer by layer from scratch.\n",
        "\n",
        "Now we are going to do a similar process, except the majority of our model's layers are going to come from TensorFlow Hub \n",
        "\n",
        "https://tfhub.dev/tensorflow/efficientnet/b0/feature-vector/1"
      ],
      "metadata": {
        "id": "-hhD-RQ5FeJy"
      }
    },
    {
      "cell_type": "code",
      "source": [
        "# Let's compare the the following model\n",
        "resnet_url = \"https://tfhub.dev/google/imagenet/resnet_v2_50/feature_vector/5\"\n",
        "\n",
        "efficientnet_url = \"https://tfhub.dev/tensorflow/efficientnet/b0/feature-vector/1\""
      ],
      "metadata": {
        "id": "HjEQ9c6cGWVB"
      },
      "execution_count": null,
      "outputs": []
    },
    {
      "cell_type": "code",
      "source": [
        "# Import dependencies \n",
        "import tensorflow as tf\n",
        "import tensorflow_hub as hub\n",
        "from tensorflow.keras import layers"
      ],
      "metadata": {
        "id": "exOI3eclRjnN"
      },
      "execution_count": null,
      "outputs": []
    },
    {
      "cell_type": "code",
      "source": [
        "def create_model(model_url, num_classes=10):\n",
        "  \"\"\"\n",
        "  Takes a TensorFlow Hub URL and creates a Keras Sequential model with it.\n",
        "  \n",
        "  Args:\n",
        "    model_url (str): A TensorFlow Hub feature extraction URL.\n",
        "    num_classes (int): Number of output neurons in output layer,\n",
        "      should be equal to number of target classes, default 10.\n",
        "\n",
        "  Returns:\n",
        "    An uncompiled Keras Sequential model with model_url as feature\n",
        "    extractor layer and Dense output layer with num_classes outputs.\n",
        "  \"\"\"\n",
        "  # Download the pretrained model and save it as a Keras layer\n",
        "  feature_extractor_layer = hub.KerasLayer(model_url,\n",
        "                                           trainable=False, # freeze the underlying patterns\n",
        "                                           name='feature_extraction_layer',\n",
        "                                           input_shape=IMAGE_SHAPE+(3,)) # define the input image shape\n",
        "  \n",
        "  # Create our own model\n",
        "  model = tf.keras.Sequential([\n",
        "    feature_extractor_layer, # use the feature extraction layer as the base\n",
        "    layers.Dense(num_classes, activation='softmax', name='output_layer') # create our own output layer      \n",
        "  ])\n",
        "\n",
        "  return model"
      ],
      "metadata": {
        "id": "Z8NSncflTgsF"
      },
      "execution_count": null,
      "outputs": []
    },
    {
      "cell_type": "markdown",
      "source": [
        "# Creating ResNet TensorFlow Hub Feature Extraction Model"
      ],
      "metadata": {
        "id": "_zTXpDsyZ7-w"
      }
    },
    {
      "cell_type": "code",
      "source": [
        "# Create model\n",
        "resnet_model = create_model(resnet_url, num_classes=train_data_10_percent.num_classes)\n",
        "\n",
        "# Compile\n",
        "resnet_model.compile(loss='categorical_crossentropy',\n",
        "                     optimizer=tf.keras.optimizers.Adam(),\n",
        "                     metrics=['accuracy'])"
      ],
      "metadata": {
        "id": "4kh6DqRBZ1tH"
      },
      "execution_count": null,
      "outputs": []
    },
    {
      "cell_type": "code",
      "source": [
        "# Fit the model\n",
        "resnet_history = resnet_model.fit(train_data_10_percent,\n",
        "                                  epochs=5,\n",
        "                                  steps_per_epoch=len(train_data_10_percent),\n",
        "                                  validation_data=test_data,\n",
        "                                  validation_steps=len(test_data),\n",
        "                                  # Add TensorBoard callback to model (callbacks parameter takes a list)\n",
        "                                  callbacks=[create_tensorboard_callback(dir_name=\"tensorflow_hub\", # save experiment logs here\n",
        "                                                                         experiment_name=\"resnet50V2\")]) # name of log files"
      ],
      "metadata": {
        "colab": {
          "base_uri": "https://localhost:8080/"
        },
        "id": "G4242Py1b8x4",
        "outputId": "915158dc-b1ba-4f77-f4ed-11d41fc1f47c"
      },
      "execution_count": null,
      "outputs": [
        {
          "output_type": "stream",
          "name": "stdout",
          "text": [
            "Saving TensorBoard log files to: tensorflow_hub/resnet50V2/20220208-062533\n",
            "Epoch 1/5\n",
            "24/24 [==============================] - 38s 1s/step - loss: 2.0770 - accuracy: 0.3253 - val_loss: 1.2441 - val_accuracy: 0.5884\n",
            "Epoch 2/5\n",
            "24/24 [==============================] - 22s 957ms/step - loss: 0.9826 - accuracy: 0.7067 - val_loss: 0.8843 - val_accuracy: 0.7140\n",
            "Epoch 3/5\n",
            "24/24 [==============================] - 23s 973ms/step - loss: 0.6798 - accuracy: 0.8067 - val_loss: 0.7755 - val_accuracy: 0.7448\n",
            "Epoch 4/5\n",
            "24/24 [==============================] - 22s 950ms/step - loss: 0.5180 - accuracy: 0.8453 - val_loss: 0.7432 - val_accuracy: 0.7524\n",
            "Epoch 5/5\n",
            "24/24 [==============================] - 24s 1s/step - loss: 0.4116 - accuracy: 0.8987 - val_loss: 0.7120 - val_accuracy: 0.7532\n"
          ]
        }
      ]
    },
    {
      "cell_type": "code",
      "source": [
        "resnet_model.summary()"
      ],
      "metadata": {
        "id": "kLfzUNYPf92u",
        "colab": {
          "base_uri": "https://localhost:8080/"
        },
        "outputId": "c05db3c5-a078-4c97-875b-75bd8f76ed72"
      },
      "execution_count": null,
      "outputs": [
        {
          "output_type": "stream",
          "name": "stdout",
          "text": [
            "Model: \"sequential\"\n",
            "_________________________________________________________________\n",
            " Layer (type)                Output Shape              Param #   \n",
            "=================================================================\n",
            " feature_extraction_layer (K  (None, 2048)             23564800  \n",
            " erasLayer)                                                      \n",
            "                                                                 \n",
            " output_layer (Dense)        (None, 10)                20490     \n",
            "                                                                 \n",
            "=================================================================\n",
            "Total params: 23,585,290\n",
            "Trainable params: 20,490\n",
            "Non-trainable params: 23,564,800\n",
            "_________________________________________________________________\n"
          ]
        }
      ]
    },
    {
      "cell_type": "markdown",
      "source": [
        "Wow! \n",
        "That is incridable. Our transfer learning feature extractor model out preformed All of the previous models we built by hand... (substantially) and in a quicker training time and with only 10% of the training example"
      ],
      "metadata": {
        "id": "4V1Sw6ZA6iJy"
      }
    },
    {
      "cell_type": "markdown",
      "source": [
        "## Plot loss curves\n"
      ],
      "metadata": {
        "id": "1ZSGeL_J749L"
      }
    },
    {
      "cell_type": "code",
      "source": [
        "# Let's create the loss curve \n",
        "# plot validation and training curves \n",
        "\n",
        "def plot_loss_curves(history):\n",
        "  import matplotlib.pyplot as plt\n",
        "  \"\"\"\n",
        "  Return seperate loss curves for training and validation metrics\n",
        "  \"\"\"\n",
        "  loss = history.history[\"loss\"]\n",
        "  val_loss = history.history[\"val_loss\"]\n",
        "  \n",
        "  accuracy = history.history[\"accuracy\"]\n",
        "  val_accuracy = history.history[\"val_accuracy\"]\n",
        "\n",
        "  # how many epochs did we ran for?\n",
        "  epochs = range(len(history.history[\"loss\"])) \n",
        "\n",
        "  # plot loss\n",
        "#  plt.subplot(2,2,1)\n",
        "  plt.plot(epochs, loss, label=\"training_loss\")\n",
        "  plt.plot(epochs, val_loss, label=\"val_loss\")\n",
        "  plt.title(\"Loss\")\n",
        "  plt.xlabel(\"epochs\")\n",
        "  plt.legend()\n",
        "\n",
        "  # Plot the accuracy\n",
        "  plt.figure()\n",
        "  plt.plot(epochs, accuracy, label=\"accuracy\")\n",
        "  plt.plot(epochs, val_accuracy, label=\"val_accuracy\")\n",
        "  plt.title(\"Accuracy\")\n",
        "  plt.xlabel(\"epochs\")\n",
        "  plt.legend()\n"
      ],
      "metadata": {
        "id": "IGQ479Drf9ol"
      },
      "execution_count": null,
      "outputs": []
    },
    {
      "cell_type": "code",
      "source": [
        "plot_loss_curves(resnet_history)"
      ],
      "metadata": {
        "id": "IuQ2iB-If9aW",
        "colab": {
          "base_uri": "https://localhost:8080/",
          "height": 573
        },
        "outputId": "f6f37a36-d04b-414b-99fc-f70a0c4a6863"
      },
      "execution_count": null,
      "outputs": [
        {
          "output_type": "display_data",
          "data": {
            "image/png": "[encoded data removed]",
            "text/plain": [
              "<Figure size 432x288 with 1 Axes>"
            ]
          },
          "metadata": {
            "needs_background": "light"
          }
        },
        {
          "output_type": "display_data",
          "data": {
            "image/png": "[encoded data removed]",
            "text/plain": [
              "<Figure size 432x288 with 1 Axes>"
            ]
          },
          "metadata": {
            "needs_background": "light"
          }
        }
      ]
    },
    {
      "cell_type": "markdown",
      "source": [
        "Creating and testing EfficientNetB0 TensorFlow Hub Extraction model"
      ],
      "metadata": {
        "id": "dvD5g7gWA05A"
      }
    },
    {
      "cell_type": "code",
      "source": [
        "# Crearte EfficientNetB0 feature extractor model \n",
        "efficientnet_model = create_model(model_url=efficientnet_url,\n",
        "                                  num_classes=train_data_10_percent.num_classes)\n",
        "# Compile EfficientNet model\n",
        "efficientnet_model.compile(loss=\"categorical_crossentropy\",\n",
        "                           optimizer=tf.keras.optimizers.Adam(),\n",
        "                           metrics=[\"accuracy\"]\n",
        "                           )\n",
        "# Fir efficientNet Model to 1-% of training data\n",
        "efficientnet_history = efficientnet_model.fit(train_data_10_percent,\n",
        "                                              epochs=5,\n",
        "                                              steps_per_epoch=len(train_data_10_percent),\n",
        "                                              validation_data=test_data,\n",
        "                                              validation_steps=len(test_data),\n",
        "                                              callbacks=[create_tensorboard_callback(dir_name=\"tensorflow_hub\",\n",
        "                                                                                     experiment_name=\"efficientnet\")])"
      ],
      "metadata": {
        "colab": {
          "base_uri": "https://localhost:8080/"
        },
        "id": "qNvV-Qd0BEs_",
        "outputId": "112e976c-4052-46a0-8103-8569632e0576"
      },
      "execution_count": null,
      "outputs": [
        {
          "output_type": "stream",
          "name": "stdout",
          "text": [
            "Saving TensorBoard log files to: tensorflow_hub/efficientnet/20220208-071335\n",
            "Epoch 1/5\n",
            "24/24 [==============================] - 39s 1s/step - loss: 1.9077 - accuracy: 0.4027 - val_loss: 1.3651 - val_accuracy: 0.7040\n",
            "Epoch 2/5\n",
            "24/24 [==============================] - 19s 815ms/step - loss: 1.1287 - accuracy: 0.7453 - val_loss: 0.9150 - val_accuracy: 0.8048\n",
            "Epoch 3/5\n",
            "24/24 [==============================] - 19s 819ms/step - loss: 0.8035 - accuracy: 0.8240 - val_loss: 0.7396 - val_accuracy: 0.8308\n",
            "Epoch 4/5\n",
            "24/24 [==============================] - 25s 1s/step - loss: 0.6460 - accuracy: 0.8560 - val_loss: 0.6452 - val_accuracy: 0.8444\n",
            "Epoch 5/5\n",
            "24/24 [==============================] - 19s 810ms/step - loss: 0.5483 - accuracy: 0.8747 - val_loss: 0.5887 - val_accuracy: 0.8520\n"
          ]
        }
      ]
    },
    {
      "cell_type": "code",
      "source": [
        "plot_loss_curves(efficientnet_history)"
      ],
      "metadata": {
        "colab": {
          "base_uri": "https://localhost:8080/",
          "height": 573
        },
        "id": "IOU8HlFxBEf4",
        "outputId": "ce000b22-3311-40ce-cf46-9eb4292d45f9"
      },
      "execution_count": null,
      "outputs": [
        {
          "output_type": "display_data",
          "data": {
            "image/png": "[encoded data removed]",
            "text/plain": [
              "<Figure size 432x288 with 1 Axes>"
            ]
          },
          "metadata": {
            "needs_background": "light"
          }
        },
        {
          "output_type": "display_data",
          "data": {
            "image/png": "[encoded data removed]",
            "text/plain": [
              "<Figure size 432x288 with 1 Axes>"
            ]
          },
          "metadata": {
            "needs_background": "light"
          }
        }
      ]
    },
    {
      "cell_type": "code",
      "source": [
        "efficientnet_model.summary()"
      ],
      "metadata": {
        "colab": {
          "base_uri": "https://localhost:8080/"
        },
        "id": "nKxq_JYEBET8",
        "outputId": "f6e143ca-d8bc-4f0a-9491-225b5afcc7a8"
      },
      "execution_count": null,
      "outputs": [
        {
          "output_type": "stream",
          "name": "stdout",
          "text": [
            "Model: \"sequential_2\"\n",
            "_________________________________________________________________\n",
            " Layer (type)                Output Shape              Param #   \n",
            "=================================================================\n",
            " feature_extraction_layer (K  (None, 1280)             4049564   \n",
            " erasLayer)                                                      \n",
            "                                                                 \n",
            " output_layer (Dense)        (None, 10)                12810     \n",
            "                                                                 \n",
            "=================================================================\n",
            "Total params: 4,062,374\n",
            "Trainable params: 12,810\n",
            "Non-trainable params: 4,049,564\n",
            "_________________________________________________________________\n"
          ]
        }
      ]
    },
    {
      "cell_type": "code",
      "source": [
        "# Upload TensorBoard dev records\n",
        "!tensorboard dev upload --logdir ./tensorflow_hub/ \\\n",
        "  --name \"EfficientNetB0 vs. ResNet50V2\" \\\n",
        "  --description \"Comparing two different TF Hub feature extraction models architectures using 10% of training images\" \\\n",
        "  --one_shot"
      ],
      "metadata": {
        "colab": {
          "base_uri": "https://localhost:8080/"
        },
        "id": "Acz9gHSiBEEM",
        "outputId": "30cb48f8-0a68-47d7-e2da-836872659301"
      },
      "execution_count": null,
      "outputs": [
        {
          "output_type": "stream",
          "name": "stdout",
          "text": [
            "\n",
            "***** TensorBoard Uploader *****\n",
            "\n",
            "This will upload your TensorBoard logs to https://tensorboard.dev/ from\n",
            "the following directory:\n",
            "\n",
            "./tensorflow_hub/\n",
            "\n",
            "This TensorBoard will be visible to everyone. Do not upload sensitive\n",
            "data.\n",
            "\n",
            "Your use of this service is subject to Google's Terms of Service\n",
            "<https://policies.google.com/terms> and Privacy Policy\n",
            "<https://policies.google.com/privacy>, and TensorBoard.dev's Terms of Service\n",
            "<https://tensorboard.dev/policy/terms/>.\n",
            "\n",
            "This notice will not be shown again while you are logged into the uploader.\n",
            "To log out, run `tensorboard dev auth revoke`.\n",
            "\n",
            "Continue? (yes/NO) yes\n",
            "\n",
            "Please visit this URL to authorize this application: https://accounts.google.com/o/oauth2/auth?response_type=code&client_id=373649185512-8v619h5kft38l4456nm2dj4ubeqsrvh6.apps.googleusercontent.com&redirect_uri=urn%3Aietf%3Awg%3Aoauth%3A2.0%3Aoob&scope=openid+https%3A%2F%2Fwww.googleapis.com%2Fauth%2Fuserinfo.email&state=1hkL1ZOiNd4mvZMkl0psgZSvdH3rzF&prompt=consent&access_type=offline\n",
            "Enter the authorization code: 4/1AX4XfWiRvWnLBXybsW2y5sy0g_Bqa-ur6frV-XaVg_yl_EknXrlpJp9ad4Y\n",
            "\n",
            "\n",
            "New experiment created. View your TensorBoard at: https://tensorboard.dev/experiment/E4L6qhqQTBOgDAAMMMAGxg/\n",
            "\n",
            "\u001b[1m[2022-02-08T07:16:20]\u001b[0m Started scanning logdir.\n",
            "\u001b[1m[2022-02-08T07:16:29]\u001b[0m Total uploaded: 180 scalars, 0 tensors, 4 binary objects (13.3 MB)\n",
            "\u001b[1m[2022-02-08T07:16:29]\u001b[0m Done scanning logdir.\n",
            "\n",
            "\n",
            "Done. View your TensorBoard at https://tensorboard.dev/experiment/E4L6qhqQTBOgDAAMMMAGxg/\n"
          ]
        }
      ]
    },
    {
      "cell_type": "markdown",
      "source": [
        "TensorBoard exprements uploaded\n",
        "click on the link \n",
        "https://tensorboard.dev/experiment/E4L6qhqQTBOgDAAMMMAGxg/#scalars"
      ],
      "metadata": {
        "id": "fCra1mONMp5i"
      }
    },
    {
      "cell_type": "code",
      "source": [
        ""
      ],
      "metadata": {
        "id": "iPjiv7XcI2wp"
      },
      "execution_count": null,
      "outputs": []
    },
    {
      "cell_type": "code",
      "source": [
        ""
      ],
      "metadata": {
        "id": "QGjewi2KI2hG"
      },
      "execution_count": null,
      "outputs": []
    },
    {
      "cell_type": "code",
      "source": [
        ""
      ],
      "metadata": {
        "id": "VKmT82ToI2Ru"
      },
      "execution_count": null,
      "outputs": []
    },
    {
      "cell_type": "code",
      "source": [
        "tf.keras.callbacks.TensorBoard(\n",
        "    log_dir='logs',\n",
        "    histogram_freq=0, \n",
        "    write_graph=True,\n",
        "    write_images=False, \n",
        "    write_steps_per_second=False, \n",
        "    update_freq='epoch',\n",
        "    profile_batch=0, \n",
        "    embeddings_freq=0, \n",
        "    embeddings_metadata=None, \n",
        "    **kwargs\n",
        ")"
      ],
      "metadata": {
        "id": "53ybDq64f9Fz",
        "colab": {
          "base_uri": "https://localhost:8080/",
          "height": 217
        },
        "outputId": "b05ca34c-57e6-44f0-bcde-16df4843ac72"
      },
      "execution_count": null,
      "outputs": [
        {
          "output_type": "error",
          "ename": "NameError",
          "evalue": "ignored",
          "traceback": [
            "\u001b[0;31m---------------------------------------------------------------------------\u001b[0m",
            "\u001b[0;31mNameError\u001b[0m                                 Traceback (most recent call last)",
            "\u001b[0;32m<ipython-input-14-1ef353fe547d>\u001b[0m in \u001b[0;36m<module>\u001b[0;34m()\u001b[0m\n\u001b[1;32m      9\u001b[0m     \u001b[0membeddings_freq\u001b[0m\u001b[0;34m=\u001b[0m\u001b[0;36m0\u001b[0m\u001b[0;34m,\u001b[0m\u001b[0;34m\u001b[0m\u001b[0;34m\u001b[0m\u001b[0m\n\u001b[1;32m     10\u001b[0m     \u001b[0membeddings_metadata\u001b[0m\u001b[0;34m=\u001b[0m\u001b[0;32mNone\u001b[0m\u001b[0;34m,\u001b[0m\u001b[0;34m\u001b[0m\u001b[0;34m\u001b[0m\u001b[0m\n\u001b[0;32m---> 11\u001b[0;31m     \u001b[0;34m**\u001b[0m\u001b[0mkwargs\u001b[0m\u001b[0;34m\u001b[0m\u001b[0;34m\u001b[0m\u001b[0m\n\u001b[0m\u001b[1;32m     12\u001b[0m )\n",
            "\u001b[0;31mNameError\u001b[0m: name 'kwargs' is not defined"
          ]
        }
      ]
    },
    {
      "cell_type": "code",
      "source": [
        "flow_from_directory(\n",
        "                                      directory,\n",
        "                                      target_size=(256, 256),\n",
        "    color_mode='rgb',\n",
        "    classes=None,\n",
        "                                       class_mode='categorical', \n",
        "                                       batch_size=32, \n",
        "                                       shuffle=True, \n",
        "    seed=None,\n",
        "    save_to_dir=None, \n",
        "    save_prefix='', \n",
        "    save_format='png',\n",
        "    follow_links=False, \n",
        "    subset=None, \n",
        "    interpolation='nearest'\n",
        ")"
      ],
      "metadata": {
        "id": "rBY1gx-L6gWw"
      },
      "execution_count": null,
      "outputs": []
    },
    {
      "cell_type": "code",
      "source": [
        "hub.KerasLayer\n",
        "(\n",
        "handle, \n",
        "                             trainable=False, \n",
        "arguments=None, \n",
        "_sentinel=None, \n",
        "tags=None, \n",
        "signature=None, \n",
        "signature_outputs_as_dict=None, \n",
        "output_key=None, \n",
        "output_shape=None, \n",
        "load_options=None, \n",
        "**kwargs) "
      ],
      "metadata": {
        "id": "a34XwSsVWzQQ"
      },
      "execution_count": null,
      "outputs": []
    },
    {
      "cell_type": "code",
      "source": [
        "  !pip install --upgrade tensorflow_hub\n",
        "\n",
        "  import tensorflow_hub as hub\n",
        "\n",
        "  model = hub.KerasLayer(\"https://tfhub.dev/google/nnlm-en-dim128/2\")\n",
        "  embeddings = model([\"The rain in Spain.\", \"falls\",\n",
        "                      \"mainly\", \"In the plain!\"])\n",
        "\n",
        "  print(embeddings.shape)  #(4,128)"
      ],
      "metadata": {
        "id": "ZUoPQg3sFVto"
      },
      "execution_count": null,
      "outputs": []
    },
    {
      "cell_type": "code",
      "source": [
        "tf.keras.callbacks.TensorBoard(\n",
        "    log_dir='logs', \n",
        "    histogram_freq=0, \n",
        "    write_graph=True,\n",
        "    write_images=False, \n",
        "    write_steps_per_second=False, \n",
        "    update_freq='epoch',\n",
        "    profile_batch=0, \n",
        "    embeddings_freq=0, \n",
        "    embeddings_metadata=None, \n",
        "    **kwargs\n",
        ")"
      ],
      "metadata": {
        "id": "TsrO4MfuAyMJ"
      },
      "execution_count": null,
      "outputs": []
    },
    {
      "cell_type": "code",
      "source": [
        "Conv2D\n",
        "(\n",
        "filters, \n",
        "kernel_size,\n",
        "strides=(1, 1),\n",
        "padding='valid',\n",
        "data_format=None,\n",
        "dilation_rate=(1, 1),\n",
        "groups=1,\n",
        "activation=None,\n",
        "use_bias=True,\n",
        "kernel_initializer='glorot_uniform',\n",
        "bias_initializer='zeros',\n",
        "kernel_regularizer=None,\n",
        "bias_regularizer=None,\n",
        "activity_regularizer=None,\n",
        "kernel_constraint=None,\n",
        "bias_constraint=None,\n",
        "**kwargs\n",
        ")"
      ],
      "metadata": {
        "id": "8G-Iscsc6gmY"
      },
      "execution_count": null,
      "outputs": []
    },
    {
      "cell_type": "code",
      "source": [
        "fit(\n",
        "    x=None, y=None, \n",
        "    batch_size=None, \n",
        "                                  epochs=1, \n",
        "    verbose='auto',\n",
        "    callbacks=None, \n",
        "    validation_split=0.0, \n",
        "                                 validation_data=None, \n",
        "    shuffle=True,\n",
        "    class_weight=None, \n",
        "    sample_weight=None, \n",
        "    initial_epoch=0, \n",
        "                                 steps_per_epoch=None,\n",
        "                                 validation_steps=None, \n",
        "    validation_batch_size=None, \n",
        "    validation_freq=1,\n",
        "    max_queue_size=10, \n",
        "    workers=1, \n",
        "    use_multiprocessing=False\n",
        ")"
      ],
      "metadata": {
        "id": "FvGcACh66ggK"
      },
      "execution_count": null,
      "outputs": []
    },
    {
      "cell_type": "code",
      "source": [
        "MaxPool2D\n",
        "(\n",
        "pool_size=(2, 2),\n",
        "strides=None,\n",
        "padding='valid',\n",
        "data_format=None,\n",
        "**kwargs\n",
        ") "
      ],
      "metadata": {
        "id": "YCv8Z8JK6ga2"
      },
      "execution_count": null,
      "outputs": []
    },
    {
      "cell_type": "code",
      "source": [
        "compile(\n",
        "    optimizer=tf.keras.optimizers.Adam(learning_rate=1e-3),\n",
        "    loss=tf.keras.losses.BinaryCrossentropy(),\n",
        "    metrics=[tf.keras.metrics.BinaryAccuracy(),\n",
        "    tf.keras.metrics.FalseNegatives()])"
      ],
      "metadata": {
        "id": "kKXQNyrS6ZlC"
      },
      "execution_count": null,
      "outputs": []
    },
    {
      "cell_type": "code",
      "source": [
        "train_generator = train_datagen.flow_from_directory(\n",
        "        'data/train',\n",
        "        target_size=(150, 150),\n",
        "        batch_size=32,\n",
        "        class_mode='binary')\n",
        "validation_generator = test_datagen.flow_from_directory(\n",
        "        'data/validation',\n",
        "        target_size=(150, 150),\n",
        "        batch_size=32,\n",
        "        class_mode='binary')"
      ],
      "metadata": {
        "id": "dtw16fnf6Zfz"
      },
      "execution_count": null,
      "outputs": []
    },
    {
      "cell_type": "code",
      "source": [
        "ImageDataGenerator\n",
        "(\n",
        "featurewise_center=False,\n",
        "samplewise_center=False,\n",
        "featurewise_std_normalization=False,\n",
        "samplewise_std_normalization=False,\n",
        "zca_whitening=False,\n",
        "zca_epsilon=0.000001,\n",
        "                                         rotation_range=0, \n",
        "                                         width_shift_range=0, \n",
        "                                         height_shift_range=0, \n",
        "brightness_range=None, \n",
        "                                         shear_range=0, \n",
        "                                         zoom_range=0, \n",
        "channel_shift_range=0, \n",
        "fill_mode='nearest',\n",
        "cval=0, \n",
        "                                         horizontal_flip=False,\n",
        "vertical_flip=False, \n",
        "                                         rescale=None, \n",
        "preprocessing_function=None, \n",
        "data_format=None,\n",
        "validation_split=0, \n",
        "dtype=None\n",
        " ) "
      ],
      "metadata": {
        "id": "c88YG_8w6Zac"
      },
      "execution_count": null,
      "outputs": []
    },
    {
      "cell_type": "code",
      "source": [
        ""
      ],
      "metadata": {
        "id": "wI_pFI6R6ZV8"
      },
      "execution_count": null,
      "outputs": []
    }
  ]
}