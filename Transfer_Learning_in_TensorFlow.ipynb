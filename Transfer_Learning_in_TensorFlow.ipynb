{
  "nbformat": 4,
  "nbformat_minor": 0,
  "metadata": {
    "colab": {
      "name": "Transfer Learning in TensorFlow.ipynb",
      "provenance": [],
      "collapsed_sections": []
    },
    "kernelspec": {
      "name": "python3",
      "display_name": "Python 3"
    },
    "language_info": {
      "name": "python"
    },
    "accelerator": "GPU"
  },
  "cells": [
    {
      "cell_type": "code",
      "execution_count": null,
      "metadata": {
        "colab": {
          "base_uri": "https://localhost:8080/"
        },
        "id": "W7PGYL--nrNA",
        "outputId": "d605a7c8-044c-4c0c-aae9-e7bd791c8008"
      },
      "outputs": [
        {
          "output_type": "stream",
          "name": "stdout",
          "text": [
            "Tue Feb 15 01:59:32 2022       \n",
            "+-----------------------------------------------------------------------------+\n",
            "| NVIDIA-SMI 460.32.03    Driver Version: 460.32.03    CUDA Version: 11.2     |\n",
            "|-------------------------------+----------------------+----------------------+\n",
            "| GPU  Name        Persistence-M| Bus-Id        Disp.A | Volatile Uncorr. ECC |\n",
            "| Fan  Temp  Perf  Pwr:Usage/Cap|         Memory-Usage | GPU-Util  Compute M. |\n",
            "|                               |                      |               MIG M. |\n",
            "|===============================+======================+======================|\n",
            "|   0  Tesla K80           Off  | 00000000:00:04.0 Off |                    0 |\n",
            "| N/A   34C    P8    27W / 149W |      0MiB / 11441MiB |      0%      Default |\n",
            "|                               |                      |                  N/A |\n",
            "+-------------------------------+----------------------+----------------------+\n",
            "                                                                               \n",
            "+-----------------------------------------------------------------------------+\n",
            "| Processes:                                                                  |\n",
            "|  GPU   GI   CI        PID   Type   Process name                  GPU Memory |\n",
            "|        ID   ID                                                   Usage      |\n",
            "|=============================================================================|\n",
            "|  No running processes found                                                 |\n",
            "+-----------------------------------------------------------------------------+\n"
          ]
        }
      ],
      "source": [
        "# Check if we are using the GPU\n",
        "!nvidia-smi"
      ]
    },
    {
      "cell_type": "markdown",
      "source": [
        "# Creating helper functions"
      ],
      "metadata": {
        "id": "6pEjHvYxpV0Q"
      }
    },
    {
      "cell_type": "code",
      "source": [
        "# Previous notebook"
      ],
      "metadata": {
        "id": "sHHT8ni2pKjv"
      },
      "execution_count": null,
      "outputs": []
    },
    {
      "cell_type": "code",
      "source": [
        "!wget https://raw.githubusercontent.com/mrdbourke/tensorflow-deep-learning/main/extras/helper_functions.py"
      ],
      "metadata": {
        "colab": {
          "base_uri": "https://localhost:8080/"
        },
        "id": "59MuEPIOqzkX",
        "outputId": "a24fe364-22be-4a7b-fb39-edd6e0207ab6"
      },
      "execution_count": null,
      "outputs": [
        {
          "output_type": "stream",
          "name": "stdout",
          "text": [
            "--2022-02-15 01:59:40--  https://raw.githubusercontent.com/mrdbourke/tensorflow-deep-learning/main/extras/helper_functions.py\n",
            "Resolving raw.githubusercontent.com (raw.githubusercontent.com)... 185.199.111.133, 185.199.109.133, 185.199.108.133, ...\n",
            "Connecting to raw.githubusercontent.com (raw.githubusercontent.com)|185.199.111.133|:443... connected.\n",
            "HTTP request sent, awaiting response... 200 OK\n",
            "Length: 10246 (10K) [text/plain]\n",
            "Saving to: ‘helper_functions.py’\n",
            "\n",
            "helper_functions.py 100%[===================>]  10.01K  --.-KB/s    in 0s      \n",
            "\n",
            "2022-02-15 01:59:40 (56.4 MB/s) - ‘helper_functions.py’ saved [10246/10246]\n",
            "\n"
          ]
        }
      ]
    },
    {
      "cell_type": "code",
      "source": [
        "# Import helper functions we are going to use in this notebook\n",
        "from helper_functions import create_tensorboard_callback, plot_loss_curves\n"
      ],
      "metadata": {
        "id": "QCJbp6B8q2nj"
      },
      "execution_count": null,
      "outputs": []
    },
    {
      "cell_type": "code",
      "source": [
        "from helper_functions import unzip_data, walk_through_dir"
      ],
      "metadata": {
        "id": "d8IxxBd6tFv5"
      },
      "execution_count": null,
      "outputs": []
    },
    {
      "cell_type": "markdown",
      "source": [
        "**Note** if you are running this notebook in Google Colab, when it times out colab will delete \"helper_functions\".\n",
        "so you will have to redownload it if you want to access to your helper functions"
      ],
      "metadata": {
        "id": "URzdF9ZrtlkU"
      }
    },
    {
      "cell_type": "markdown",
      "source": [
        "## Let's get some data\n",
        "\n",
        "This time we are going to see how we can use the pretrained models within tf.keras.applications "
      ],
      "metadata": {
        "id": "XueQ0MZouOA7"
      }
    },
    {
      "cell_type": "code",
      "source": [
        "!wget https://storage.googleapis.com/ztm_tf_course/food_vision/10_food_classes_10_percent.zip\n"
      ],
      "metadata": {
        "id": "F1G9meyAtdWo",
        "colab": {
          "base_uri": "https://localhost:8080/"
        },
        "outputId": "9e0111ce-8949-4172-907e-d4572e8ce93b"
      },
      "execution_count": null,
      "outputs": [
        {
          "output_type": "stream",
          "name": "stdout",
          "text": [
            "--2022-02-14 12:54:09--  https://storage.googleapis.com/ztm_tf_course/food_vision/10_food_classes_10_percent.zip\n",
            "Resolving storage.googleapis.com (storage.googleapis.com)... 74.125.129.128, 74.125.124.128, 172.217.212.128, ...\n",
            "Connecting to storage.googleapis.com (storage.googleapis.com)|74.125.129.128|:443... connected.\n",
            "HTTP request sent, awaiting response... 200 OK\n",
            "Length: 168546183 (161M) [application/zip]\n",
            "Saving to: ‘10_food_classes_10_percent.zip’\n",
            "\n",
            "10_food_classes_10_ 100%[===================>] 160.74M   109MB/s    in 1.5s    \n",
            "\n",
            "2022-02-14 12:54:11 (109 MB/s) - ‘10_food_classes_10_percent.zip’ saved [168546183/168546183]\n",
            "\n"
          ]
        }
      ]
    },
    {
      "cell_type": "code",
      "source": [
        "unzip_data(\"/content/10_food_classes_10_percent.zip\")"
      ],
      "metadata": {
        "id": "9llzp2HXHrF4"
      },
      "execution_count": null,
      "outputs": []
    },
    {
      "cell_type": "code",
      "source": [
        "# Check out how many images and subdirectories are in our datasets\n",
        "walk_through_dir(\"/content/10_food_classes_10_percent\")"
      ],
      "metadata": {
        "colab": {
          "base_uri": "https://localhost:8080/"
        },
        "id": "lDf5Wh9XITVN",
        "outputId": "15b9c06e-bc8c-4e99-8c0f-c3d4e2006759"
      },
      "execution_count": null,
      "outputs": [
        {
          "output_type": "stream",
          "name": "stdout",
          "text": [
            "There are 2 directories and 0 images in '/content/10_food_classes_10_percent'.\n",
            "There are 10 directories and 0 images in '/content/10_food_classes_10_percent/test'.\n",
            "There are 0 directories and 250 images in '/content/10_food_classes_10_percent/test/chicken_wings'.\n",
            "There are 0 directories and 250 images in '/content/10_food_classes_10_percent/test/pizza'.\n",
            "There are 0 directories and 250 images in '/content/10_food_classes_10_percent/test/steak'.\n",
            "There are 0 directories and 250 images in '/content/10_food_classes_10_percent/test/chicken_curry'.\n",
            "There are 0 directories and 250 images in '/content/10_food_classes_10_percent/test/ice_cream'.\n",
            "There are 0 directories and 250 images in '/content/10_food_classes_10_percent/test/ramen'.\n",
            "There are 0 directories and 250 images in '/content/10_food_classes_10_percent/test/fried_rice'.\n",
            "There are 0 directories and 250 images in '/content/10_food_classes_10_percent/test/hamburger'.\n",
            "There are 0 directories and 250 images in '/content/10_food_classes_10_percent/test/sushi'.\n",
            "There are 0 directories and 250 images in '/content/10_food_classes_10_percent/test/grilled_salmon'.\n",
            "There are 10 directories and 0 images in '/content/10_food_classes_10_percent/train'.\n",
            "There are 0 directories and 75 images in '/content/10_food_classes_10_percent/train/chicken_wings'.\n",
            "There are 0 directories and 75 images in '/content/10_food_classes_10_percent/train/pizza'.\n",
            "There are 0 directories and 75 images in '/content/10_food_classes_10_percent/train/steak'.\n",
            "There are 0 directories and 75 images in '/content/10_food_classes_10_percent/train/chicken_curry'.\n",
            "There are 0 directories and 75 images in '/content/10_food_classes_10_percent/train/ice_cream'.\n",
            "There are 0 directories and 75 images in '/content/10_food_classes_10_percent/train/ramen'.\n",
            "There are 0 directories and 75 images in '/content/10_food_classes_10_percent/train/fried_rice'.\n",
            "There are 0 directories and 75 images in '/content/10_food_classes_10_percent/train/hamburger'.\n",
            "There are 0 directories and 75 images in '/content/10_food_classes_10_percent/train/sushi'.\n",
            "There are 0 directories and 75 images in '/content/10_food_classes_10_percent/train/grilled_salmon'.\n"
          ]
        }
      ]
    },
    {
      "cell_type": "code",
      "source": [
        "# Create training and test directory paths\n",
        "train_dir = \"/content/10_food_classes_10_percent/train\"\n",
        "test_dir = \"/content/10_food_classes_10_percent/test\""
      ],
      "metadata": {
        "id": "8Fb5xpCpIiwY"
      },
      "execution_count": null,
      "outputs": []
    },
    {
      "cell_type": "code",
      "source": [
        "import tensorflow as tf"
      ],
      "metadata": {
        "id": "ZfbxOgQGI8Xb"
      },
      "execution_count": null,
      "outputs": []
    },
    {
      "cell_type": "code",
      "source": [
        "IMG_SIZE = (224, 224)\n",
        "BATCH_SIZE = 32\n",
        "train_data_10_percent = tf.keras.preprocessing.image_dataset_from_directory(\n",
        "    directory=train_dir,\n",
        "    image_size=IMG_SIZE,\n",
        "    label_mode=\"categorical\",\n",
        "    batch_size=BATCH_SIZE)\n",
        "\n",
        "test_data = tf.keras.preprocessing.image_dataset_from_directory(\n",
        "    directory=test_dir,\n",
        "    image_size=IMG_SIZE,\n",
        "    label_mode=\"categorical\",\n",
        "    batch_size=BATCH_SIZE)"
      ],
      "metadata": {
        "colab": {
          "base_uri": "https://localhost:8080/"
        },
        "id": "1Ew3G2mLJDZd",
        "outputId": "a514cccf-15e2-419d-949c-7bba77791c37"
      },
      "execution_count": null,
      "outputs": [
        {
          "output_type": "stream",
          "name": "stdout",
          "text": [
            "Found 750 files belonging to 10 classes.\n",
            "Found 2500 files belonging to 10 classes.\n"
          ]
        }
      ]
    },
    {
      "cell_type": "code",
      "source": [
        "train_data_10_percent"
      ],
      "metadata": {
        "colab": {
          "base_uri": "https://localhost:8080/"
        },
        "id": "8-PHiSVJKIcJ",
        "outputId": "f2c9d798-38df-486f-fde7-017b8cdcbd3e"
      },
      "execution_count": null,
      "outputs": [
        {
          "output_type": "execute_result",
          "data": {
            "text/plain": [
              "<BatchDataset shapes: ((None, 224, 224, 3), (None, 10)), types: (tf.float32, tf.float32)>"
            ]
          },
          "metadata": {},
          "execution_count": 12
        }
      ]
    },
    {
      "cell_type": "code",
      "source": [
        "# Check out classs name of our dataset\n",
        "train_data_10_percent.class_names"
      ],
      "metadata": {
        "colab": {
          "base_uri": "https://localhost:8080/"
        },
        "id": "4um0WCgcKIMz",
        "outputId": "8e40595f-9c46-4c53-8102-1e5a921563db"
      },
      "execution_count": null,
      "outputs": [
        {
          "output_type": "execute_result",
          "data": {
            "text/plain": [
              "['chicken_curry',\n",
              " 'chicken_wings',\n",
              " 'fried_rice',\n",
              " 'grilled_salmon',\n",
              " 'hamburger',\n",
              " 'ice_cream',\n",
              " 'pizza',\n",
              " 'ramen',\n",
              " 'steak',\n",
              " 'sushi']"
            ]
          },
          "metadata": {},
          "execution_count": 13
        }
      ]
    },
    {
      "cell_type": "code",
      "source": [
        "for images, labels in train_data_10_percent.take(1):\n",
        "  print(images, labels)"
      ],
      "metadata": {
        "id": "FvyJPTzZKIBR",
        "colab": {
          "base_uri": "https://localhost:8080/"
        },
        "outputId": "33078b7b-906e-452e-b263-b4a255ab889e"
      },
      "execution_count": null,
      "outputs": [
        {
          "output_type": "stream",
          "name": "stdout",
          "text": [
            "tf.Tensor(\n",
            "[[[[1.62857132e+01 1.32857151e+01 4.28571415e+00]\n",
            "   [1.52142859e+01 1.22142859e+01 3.21428585e+00]\n",
            "   [1.42857141e+01 1.12857141e+01 3.85714316e+00]\n",
            "   ...\n",
            "   [3.70663338e+01 2.80663319e+01 2.10663319e+01]\n",
            "   [3.54489403e+01 2.64489403e+01 1.94489403e+01]\n",
            "   [3.38163261e+01 2.48163280e+01 1.78163280e+01]]\n",
            "\n",
            "  [[1.40714283e+01 1.40714283e+01 4.07142830e+00]\n",
            "   [1.50000000e+01 1.50000000e+01 7.00000000e+00]\n",
            "   [1.50000000e+01 1.50000000e+01 7.00000000e+00]\n",
            "   ...\n",
            "   [3.71734695e+01 2.81734695e+01 2.11734695e+01]\n",
            "   [3.62244682e+01 2.72244701e+01 2.02244701e+01]\n",
            "   [3.71479530e+01 2.81479511e+01 2.11479511e+01]]\n",
            "\n",
            "  [[1.33571424e+01 1.47857141e+01 7.00000000e+00]\n",
            "   [1.23265305e+01 1.37551022e+01 5.96938753e+00]\n",
            "   [1.19285707e+01 1.33571424e+01 6.80612230e+00]\n",
            "   ...\n",
            "   [3.39285431e+01 2.49285450e+01 1.83571167e+01]\n",
            "   [2.71274681e+01 1.81274681e+01 1.15560389e+01]\n",
            "   [2.57806072e+01 1.67806072e+01 1.02091789e+01]]\n",
            "\n",
            "  ...\n",
            "\n",
            "  [[6.08673744e+01 4.32959023e+01 2.90816383e+01]\n",
            "   [5.19743767e+01 3.39743767e+01 1.99743767e+01]\n",
            "   [4.77396049e+01 3.03569679e+01 1.51222401e+01]\n",
            "   ...\n",
            "   [2.10255871e+01 1.24541149e+01 3.66837883e+00]\n",
            "   [2.83572388e+01 1.97857666e+01 1.10000305e+01]\n",
            "   [2.67806549e+01 1.82091827e+01 9.42344570e+00]]\n",
            "\n",
            "  [[5.24339638e+01 3.64339638e+01 2.14339619e+01]\n",
            "   [7.19543686e+01 5.59543762e+01 4.09543762e+01]\n",
            "   [7.43163452e+01 5.83163452e+01 4.25306282e+01]\n",
            "   ...\n",
            "   [2.46836452e+01 1.54693508e+01 6.46935034e+00]\n",
            "   [2.29234257e+01 1.29234257e+01 3.92342615e+00]\n",
            "   [2.59439259e+01 1.59439268e+01 5.94392681e+00]]\n",
            "\n",
            "  [[6.85759430e+01 5.25759468e+01 3.75759468e+01]\n",
            "   [8.01623535e+01 6.41623535e+01 4.81623535e+01]\n",
            "   [5.94736481e+01 4.34736481e+01 2.74736481e+01]\n",
            "   ...\n",
            "   [2.60816708e+01 1.60816708e+01 6.86737680e+00]\n",
            "   [2.44081898e+01 1.44081907e+01 4.40819073e+00]\n",
            "   [2.83518143e+01 1.83518143e+01 8.35181427e+00]]]\n",
            "\n",
            "\n",
            " [[[2.33556122e+02 2.14556122e+02 1.72556122e+02]\n",
            "   [2.27096939e+02 2.08096939e+02 1.66096939e+02]\n",
            "   [2.28923477e+02 2.09923477e+02 1.67923477e+02]\n",
            "   ...\n",
            "   [2.50428589e+02 2.34505188e+02 1.96132782e+02]\n",
            "   [2.52071442e+02 2.38071442e+02 2.03071442e+02]\n",
            "   [2.54173508e+02 2.41428635e+02 2.06428635e+02]]\n",
            "\n",
            "  [[2.31142853e+02 2.12142853e+02 1.70142853e+02]\n",
            "   [2.26071426e+02 2.07071426e+02 1.65071426e+02]\n",
            "   [2.29071426e+02 2.10071426e+02 1.68071426e+02]\n",
            "   ...\n",
            "   [2.51785736e+02 2.36142944e+02 1.96928680e+02]\n",
            "   [2.53000000e+02 2.39000000e+02 2.02000000e+02]\n",
            "   [2.53025513e+02 2.39025513e+02 2.04025513e+02]]\n",
            "\n",
            "  [[2.27137756e+02 2.07709183e+02 1.65494904e+02]\n",
            "   [2.21127548e+02 2.01698975e+02 1.59484695e+02]\n",
            "   [2.23831635e+02 2.04403061e+02 1.62188782e+02]\n",
            "   ...\n",
            "   [2.51188843e+02 2.33188843e+02 1.94760315e+02]\n",
            "   [2.52372452e+02 2.36372452e+02 2.00372452e+02]\n",
            "   [2.52862259e+02 2.38433685e+02 2.03219391e+02]]\n",
            "\n",
            "  ...\n",
            "\n",
            "  [[1.28571411e+02 1.09571404e+02 7.75714035e+01]\n",
            "   [1.28000000e+02 1.09000000e+02 7.70000000e+01]\n",
            "   [1.29000000e+02 1.10000000e+02 7.80000000e+01]\n",
            "   ...\n",
            "   [1.75457573e+01 1.35457563e+01 1.42855835e+01]\n",
            "   [1.54130983e+01 1.11274538e+01 1.18978825e+01]\n",
            "   [1.56376114e+01 1.19234390e+01 1.26326447e+01]]\n",
            "\n",
            "  [[1.27096954e+02 1.08096954e+02 7.80969543e+01]\n",
            "   [1.28071457e+02 1.09071457e+02 7.90714569e+01]\n",
            "   [1.29000046e+02 1.10000038e+02 8.00000381e+01]\n",
            "   ...\n",
            "   [1.10561342e+01 1.10561342e+01 1.30561342e+01]\n",
            "   [1.22143250e+01 1.22143250e+01 1.42143250e+01]\n",
            "   [1.53316603e+01 1.53316603e+01 1.73316612e+01]]\n",
            "\n",
            "  [[1.28642822e+02 1.09642822e+02 7.96428223e+01]\n",
            "   [1.30903061e+02 1.11903061e+02 8.19030609e+01]\n",
            "   [1.32709183e+02 1.13709175e+02 8.37091751e+01]\n",
            "   ...\n",
            "   [1.42142944e+01 1.52142944e+01 1.72142944e+01]\n",
            "   [1.66173058e+01 1.76173058e+01 1.96173058e+01]\n",
            "   [1.51580687e+01 1.61580677e+01 1.81580677e+01]]]\n",
            "\n",
            "\n",
            " [[[1.14852043e+02 1.03923470e+02 8.82806168e+01]\n",
            "   [1.08209183e+02 9.98724518e+01 8.45408173e+01]\n",
            "   [1.11872444e+02 1.03367348e+02 8.93571396e+01]\n",
            "   ...\n",
            "   [6.42852783e+00 8.00000000e+00 7.21426392e+00]\n",
            "   [6.00000000e+00 8.00000000e+00 7.00000000e+00]\n",
            "   [7.00000000e+00 9.00000000e+00 8.00000000e+00]]\n",
            "\n",
            "  [[1.08188782e+02 1.00423470e+02 8.74949036e+01]\n",
            "   [1.09653061e+02 1.03663261e+02 8.99438782e+01]\n",
            "   [1.10408165e+02 1.04551025e+02 9.26530685e+01]\n",
            "   ...\n",
            "   [7.21426392e+00 8.78573608e+00 8.00000000e+00]\n",
            "   [6.13776731e+00 8.13776684e+00 7.13776731e+00]\n",
            "   [7.00000000e+00 9.00000000e+00 8.00000000e+00]]\n",
            "\n",
            "  [[1.08841835e+02 1.05698982e+02 9.39795914e+01]\n",
            "   [1.24852051e+02 1.21637756e+02 1.12209190e+02]\n",
            "   [1.86096954e+02 1.82882660e+02 1.73882675e+02]\n",
            "   ...\n",
            "   [7.83162785e+00 8.16837215e+00 8.00000000e+00]\n",
            "   [7.00000000e+00 9.00000000e+00 8.00000000e+00]\n",
            "   [7.00000000e+00 9.00000000e+00 8.00000000e+00]]\n",
            "\n",
            "  ...\n",
            "\n",
            "  [[1.13086838e+02 1.06086838e+02 9.00868378e+01]\n",
            "   [1.16775536e+02 1.09775536e+02 9.37755356e+01]\n",
            "   [1.13749931e+02 1.06749931e+02 9.07499313e+01]\n",
            "   ...\n",
            "   [8.25253143e+01 7.85253143e+01 6.65253143e+01]\n",
            "   [8.21480179e+01 7.81480179e+01 6.61480179e+01]\n",
            "   [8.11225433e+01 7.71225433e+01 6.61225433e+01]]\n",
            "\n",
            "  [[1.11428360e+02 1.04428360e+02 8.84283600e+01]\n",
            "   [1.10867188e+02 1.03867188e+02 8.78671875e+01]\n",
            "   [1.02484589e+02 9.54845886e+01 7.94845886e+01]\n",
            "   ...\n",
            "   [7.45458450e+01 7.05458450e+01 5.85458412e+01]\n",
            "   [9.19287415e+01 8.79287415e+01 7.59287415e+01]\n",
            "   [8.80764008e+01 8.40764008e+01 7.30764008e+01]]\n",
            "\n",
            "  [[8.70714645e+01 8.00714645e+01 6.40714645e+01]\n",
            "   [9.21224747e+01 8.51224747e+01 6.91224747e+01]\n",
            "   [9.72704086e+01 9.02704086e+01 7.42704086e+01]\n",
            "   ...\n",
            "   [7.86223450e+01 7.46223450e+01 6.26223412e+01]\n",
            "   [8.25000916e+01 7.85000916e+01 6.65000916e+01]\n",
            "   [8.68623276e+01 8.28623276e+01 7.18623276e+01]]]\n",
            "\n",
            "\n",
            " ...\n",
            "\n",
            "\n",
            " [[[1.00000000e+01 2.00000000e+00 2.29591817e-01]\n",
            "   [9.38265324e+00 4.38265276e+00 1.38265288e+00]\n",
            "   [9.14285755e+00 4.14285755e+00 1.28571439e+00]\n",
            "   ...\n",
            "   [1.90943619e+02 1.81515091e+02 1.76300827e+02]\n",
            "   [1.88658356e+02 1.85137970e+02 1.80469604e+02]\n",
            "   [2.14219498e+02 2.14760345e+02 2.08989914e+02]]\n",
            "\n",
            "  [[1.14744911e+01 6.47449064e+00 3.47449064e+00]\n",
            "   [9.85714340e+00 4.85714340e+00 1.85714340e+00]\n",
            "   [1.06581631e+01 6.08673429e+00 2.65816259e+00]\n",
            "   ...\n",
            "   [1.95719299e+02 1.86290771e+02 1.81474426e+02]\n",
            "   [1.94459305e+02 1.91602188e+02 1.86602188e+02]\n",
            "   [2.19571747e+02 2.20571747e+02 2.15571747e+02]]\n",
            "\n",
            "  [[8.98979568e+00 4.20408154e+00 1.20408154e+00]\n",
            "   [9.00000000e+00 4.21428585e+00 1.21428585e+00]\n",
            "   [9.61734676e+00 5.83163261e+00 2.40306091e+00]\n",
            "   ...\n",
            "   [1.88494949e+02 1.78494949e+02 1.77663345e+02]\n",
            "   [1.97372437e+02 1.92459229e+02 1.90015335e+02]\n",
            "   [1.99775558e+02 1.99132736e+02 1.97132736e+02]]\n",
            "\n",
            "  ...\n",
            "\n",
            "  [[1.00000000e+00 3.00000000e+00 0.00000000e+00]\n",
            "   [1.00000000e+00 3.00000000e+00 0.00000000e+00]\n",
            "   [1.00000000e+00 3.00000000e+00 0.00000000e+00]\n",
            "   ...\n",
            "   [7.09181786e+00 9.00000000e+00 6.04590893e+00]\n",
            "   [1.08674908e+00 5.44395733e+00 1.65822124e+00]\n",
            "   [4.01014662e+00 8.36735535e+00 4.58161879e+00]]\n",
            "\n",
            "  [[9.28558350e-01 2.92855835e+00 0.00000000e+00]\n",
            "   [9.28558350e-01 2.92855835e+00 0.00000000e+00]\n",
            "   [9.28558350e-01 2.92855835e+00 0.00000000e+00]\n",
            "   ...\n",
            "   [4.21426392e+00 8.57147217e+00 4.78573608e+00]\n",
            "   [1.37779385e-01 5.13777924e+00 1.13777936e+00]\n",
            "   [6.42822266e-01 6.64282227e+00 2.64282227e+00]]\n",
            "\n",
            "  [[0.00000000e+00 2.00000000e+00 0.00000000e+00]\n",
            "   [0.00000000e+00 2.00000000e+00 0.00000000e+00]\n",
            "   [0.00000000e+00 2.00000000e+00 0.00000000e+00]\n",
            "   ...\n",
            "   [5.86223602e+00 1.02194443e+01 6.43370819e+00]\n",
            "   [7.14416504e-02 5.47454357e+00 1.47454369e+00]\n",
            "   [1.77039814e+00 7.77039814e+00 3.77039814e+00]]]\n",
            "\n",
            "\n",
            " [[[3.50000000e+01 3.10000000e+01 2.80000000e+01]\n",
            "   [3.59540825e+01 3.19540825e+01 2.89540825e+01]\n",
            "   [3.70000000e+01 3.30000000e+01 3.00000000e+01]\n",
            "   ...\n",
            "   [4.22142639e+01 4.02142639e+01 4.12142639e+01]\n",
            "   [4.03316269e+01 3.83316269e+01 3.93316269e+01]\n",
            "   [3.92295799e+01 3.72295799e+01 3.82295799e+01]]\n",
            "\n",
            "  [[3.60000000e+01 3.20000000e+01 2.90000000e+01]\n",
            "   [3.60663261e+01 3.20663261e+01 2.90663261e+01]\n",
            "   [3.72704086e+01 3.32704086e+01 3.02704086e+01]\n",
            "   ...\n",
            "   [4.22703896e+01 4.02703896e+01 4.12703896e+01]\n",
            "   [4.10663261e+01 3.90663261e+01 4.00663261e+01]\n",
            "   [4.00714302e+01 3.80714302e+01 3.90714302e+01]]\n",
            "\n",
            "  [[3.67857132e+01 3.27857132e+01 2.97857151e+01]\n",
            "   [3.69846954e+01 3.29846954e+01 2.99846935e+01]\n",
            "   [3.81683693e+01 3.41683693e+01 3.11683674e+01]\n",
            "   ...\n",
            "   [4.30000000e+01 4.10000000e+01 4.20000000e+01]\n",
            "   [4.19846916e+01 3.99846916e+01 4.09846916e+01]\n",
            "   [4.17857132e+01 3.97857132e+01 4.07857132e+01]]\n",
            "\n",
            "  ...\n",
            "\n",
            "  [[1.00000000e+01 1.00000000e+01 1.00000000e+01]\n",
            "   [1.09846935e+01 1.09846935e+01 1.09846935e+01]\n",
            "   [9.95407963e+00 9.95407963e+00 9.95407963e+00]\n",
            "   ...\n",
            "   [2.51683788e+01 2.67397900e+01 2.59540844e+01]\n",
            "   [2.49285583e+01 2.64999695e+01 2.57142639e+01]\n",
            "   [2.31377525e+01 2.47091637e+01 2.39234581e+01]]\n",
            "\n",
            "  [[9.07141113e+00 9.07141113e+00 9.07141113e+00]\n",
            "   [1.00663099e+01 1.00663099e+01 1.00663099e+01]\n",
            "   [9.98469734e+00 9.98469734e+00 9.98469734e+00]\n",
            "   ...\n",
            "   [2.50561104e+01 2.50561104e+01 2.50561104e+01]\n",
            "   [2.49285583e+01 2.49285583e+01 2.49285583e+01]\n",
            "   [2.30459042e+01 2.30459042e+01 2.30459042e+01]]\n",
            "\n",
            "  [[7.77040958e+00 7.77040958e+00 7.77040958e+00]\n",
            "   [9.92857170e+00 9.92857170e+00 9.92857170e+00]\n",
            "   [1.00000000e+01 1.00000000e+01 1.00000000e+01]\n",
            "   ...\n",
            "   [2.43571472e+01 2.43571472e+01 2.43571472e+01]\n",
            "   [2.39285583e+01 2.39285583e+01 2.39285583e+01]\n",
            "   [2.26428223e+01 2.26428223e+01 2.26428223e+01]]]\n",
            "\n",
            "\n",
            " [[[1.96612244e+02 1.90438782e+02 1.71025513e+02]\n",
            "   [1.93663269e+02 1.90520416e+02 1.72714294e+02]\n",
            "   [1.87357147e+02 1.88418365e+02 1.74147949e+02]\n",
            "   ...\n",
            "   [1.01642921e+02 6.29949265e+01 4.57041397e+01]\n",
            "   [1.02979591e+02 6.39336624e+01 4.90714417e+01]\n",
            "   [1.05040840e+02 6.43265533e+01 5.36122704e+01]]\n",
            "\n",
            "  [[1.93428574e+02 1.89290817e+02 1.72479584e+02]\n",
            "   [1.90494904e+02 1.88341827e+02 1.73071426e+02]\n",
            "   [1.91642868e+02 1.92127548e+02 1.80198975e+02]\n",
            "   ...\n",
            "   [9.97857590e+01 6.57857361e+01 5.29031448e+01]\n",
            "   [9.98622055e+01 6.27907791e+01 5.45764923e+01]\n",
            "   [9.51887741e+01 5.81173439e+01 5.19030609e+01]]\n",
            "\n",
            "  [[1.94801025e+02 1.95096939e+02 1.79806122e+02]\n",
            "   [1.94040817e+02 1.95255096e+02 1.81142853e+02]\n",
            "   [1.92760208e+02 1.93433670e+02 1.81525497e+02]\n",
            "   ...\n",
            "   [9.16836319e+01 6.32346840e+01 5.73265572e+01]\n",
            "   [8.76581650e+01 5.85153084e+01 5.71581650e+01]\n",
            "   [9.13673935e+01 6.06531105e+01 6.20816841e+01]]\n",
            "\n",
            "  ...\n",
            "\n",
            "  [[1.73938782e+02 1.71153046e+02 1.61510254e+02]\n",
            "   [1.73714310e+02 1.73714310e+02 1.61714310e+02]\n",
            "   [1.71382629e+02 1.73811203e+02 1.60596924e+02]\n",
            "   ...\n",
            "   [1.74382614e+02 1.84382614e+02 1.76382614e+02]\n",
            "   [1.72341843e+02 1.82341843e+02 1.73229568e+02]\n",
            "   [1.74923508e+02 1.83352036e+02 1.72780563e+02]]\n",
            "\n",
            "  [[1.70785736e+02 1.67785736e+02 1.58785736e+02]\n",
            "   [1.73066360e+02 1.73066360e+02 1.63066360e+02]\n",
            "   [1.68413300e+02 1.70841873e+02 1.59199020e+02]\n",
            "   ...\n",
            "   [1.75000000e+02 1.85056137e+02 1.73887726e+02]\n",
            "   [1.75142883e+02 1.83142883e+02 1.70132675e+02]\n",
            "   [1.77545868e+02 1.85545868e+02 1.71739655e+02]]\n",
            "\n",
            "  [[1.74127533e+02 1.71127533e+02 1.64127533e+02]\n",
            "   [1.75428543e+02 1.75428543e+02 1.67428543e+02]\n",
            "   [1.73066360e+02 1.75280640e+02 1.64280640e+02]\n",
            "   ...\n",
            "   [1.75494949e+02 1.84137741e+02 1.70923477e+02]\n",
            "   [1.73714264e+02 1.81714264e+02 1.66714264e+02]\n",
            "   [1.73214111e+02 1.81800888e+02 1.65627335e+02]]]], shape=(32, 224, 224, 3), dtype=float32) tf.Tensor(\n",
            "[[0. 0. 0. 0. 0. 0. 0. 1. 0. 0.]\n",
            " [0. 0. 0. 0. 0. 0. 0. 0. 0. 1.]\n",
            " [1. 0. 0. 0. 0. 0. 0. 0. 0. 0.]\n",
            " [0. 0. 0. 0. 1. 0. 0. 0. 0. 0.]\n",
            " [0. 0. 0. 0. 0. 0. 0. 0. 1. 0.]\n",
            " [0. 0. 0. 0. 0. 0. 0. 1. 0. 0.]\n",
            " [0. 0. 0. 0. 0. 0. 0. 1. 0. 0.]\n",
            " [0. 0. 0. 0. 0. 0. 0. 0. 1. 0.]\n",
            " [0. 0. 0. 0. 0. 0. 0. 1. 0. 0.]\n",
            " [0. 0. 1. 0. 0. 0. 0. 0. 0. 0.]\n",
            " [0. 0. 0. 0. 0. 0. 1. 0. 0. 0.]\n",
            " [0. 0. 0. 0. 0. 1. 0. 0. 0. 0.]\n",
            " [0. 0. 0. 1. 0. 0. 0. 0. 0. 0.]\n",
            " [0. 0. 0. 0. 0. 0. 0. 0. 0. 1.]\n",
            " [0. 0. 0. 1. 0. 0. 0. 0. 0. 0.]\n",
            " [1. 0. 0. 0. 0. 0. 0. 0. 0. 0.]\n",
            " [0. 0. 0. 0. 0. 0. 0. 0. 1. 0.]\n",
            " [0. 0. 0. 1. 0. 0. 0. 0. 0. 0.]\n",
            " [0. 0. 1. 0. 0. 0. 0. 0. 0. 0.]\n",
            " [0. 0. 0. 0. 0. 0. 0. 0. 1. 0.]\n",
            " [0. 0. 0. 0. 0. 0. 1. 0. 0. 0.]\n",
            " [0. 1. 0. 0. 0. 0. 0. 0. 0. 0.]\n",
            " [0. 0. 0. 1. 0. 0. 0. 0. 0. 0.]\n",
            " [0. 0. 0. 0. 0. 0. 0. 1. 0. 0.]\n",
            " [0. 0. 0. 0. 0. 1. 0. 0. 0. 0.]\n",
            " [0. 0. 0. 1. 0. 0. 0. 0. 0. 0.]\n",
            " [0. 1. 0. 0. 0. 0. 0. 0. 0. 0.]\n",
            " [0. 0. 0. 0. 1. 0. 0. 0. 0. 0.]\n",
            " [0. 0. 0. 0. 1. 0. 0. 0. 0. 0.]\n",
            " [1. 0. 0. 0. 0. 0. 0. 0. 0. 0.]\n",
            " [0. 0. 0. 0. 0. 1. 0. 0. 0. 0.]\n",
            " [0. 0. 0. 0. 0. 1. 0. 0. 0. 0.]], shape=(32, 10), dtype=float32)\n"
          ]
        }
      ]
    },
    {
      "cell_type": "markdown",
      "source": [
        "## Model 0 : Building a transfer learning feature extraction model using the Keras Functional API\n"
      ],
      "metadata": {
        "id": "CNhbogdIcCe1"
      }
    },
    {
      "cell_type": "code",
      "source": [
        "# 1. Create the base model with tf.keras.applications\n",
        "base_model = tf.keras.applications.EfficientNetB0(include_top=False)\n",
        "# 2. Freeze the base model (so the underlying pre-trained patterns\n",
        "# aren't updated during training)\n",
        "base_model.trainable = False\n",
        "# 3. Create inputs into our model\n",
        "inputs = tf.keras.layers.Input(shape=(224,224,3), name=\"input_layer\")\n",
        "# 4. If using ResNet50V2 you will need to normalized inputs \n",
        "#x = tf.keras.layers.exprimental.preprocessing.Rescalling(1,/255)\n",
        "# 5. Pass the inputs to the base_model\n",
        "x = base_model(inputs)\n",
        "print(f\"Shape after passing inputs through base model: {x.shape}\")\n",
        "# 6. Average pool the output of the base model (aggregate all the most important information\n",
        "x = tf.keras.layers.GlobalAveragePooling2D(name=\"global_average_pool\")(x)\n",
        "print(f\"Shape after GlobalAveragePooling2D:{x.shape}\")\n",
        "#7. Create the output activation layer\n",
        "outputs = tf.keras.layers.Dense(10, activation=\"softmax\", name=\"output_layer\")(x)\n",
        "# 8. Combine the inputs with outputs into\n",
        "model_0 = tf.keras.Model(inputs,outputs)\n",
        "# 9. Compile for the model\n",
        "model_0.compile(loss=\"categorical_crossentropy\",\n",
        "                optimizer=tf.keras.optimizers.Adam(),\n",
        "                metrics=[\"accuracy\"])\n",
        "# 10. Fit the model and save it's history\n",
        "history_10_percent = model_0.fit(train_data_10_percent,\n",
        "                                 epochs=5,\n",
        "                                 steps_per_epoch=len(train_data_10_percent),\n",
        "                                 validation_data=test_data,\n",
        "                                 validation_steps=int(0.25 * len(test_data)),\n",
        "                                 callbacks=[create_tensorboard_callback(dir_name=\"transfer_learning\",\n",
        "                                                                        experiment_name=\"10_percent_feature_extraction\")])"
      ],
      "metadata": {
        "colab": {
          "base_uri": "https://localhost:8080/"
        },
        "id": "KFBIM0Cgg1yS",
        "outputId": "bd0fdfc1-298d-4f4b-b70a-86e46f93636b"
      },
      "execution_count": null,
      "outputs": [
        {
          "output_type": "stream",
          "name": "stdout",
          "text": [
            "Downloading data from https://storage.googleapis.com/keras-applications/efficientnetb0_notop.h5\n",
            "16711680/16705208 [==============================] - 0s 0us/step\n",
            "16719872/16705208 [==============================] - 0s 0us/step\n",
            "Shape after passing inputs through base model: (None, 7, 7, 1280)\n",
            "Shape after GlobalAveragePooling2D:(None, 1280)\n",
            "Saving TensorBoard log files to: transfer_learning/10_percent_feature_extraction/20220209-055853\n"
          ]
        },
        {
          "output_type": "stream",
          "name": "stderr",
          "text": [
            "/usr/local/lib/python3.7/dist-packages/keras/engine/functional.py:1410: CustomMaskWarning: Custom mask layers require a config and must override get_config. When loading, the custom mask layer must be passed to the custom_objects argument.\n",
            "  layer_config = serialize_layer_fn(layer)\n"
          ]
        },
        {
          "output_type": "stream",
          "name": "stdout",
          "text": [
            "Epoch 1/5\n",
            "24/24 [==============================] - 26s 357ms/step - loss: 1.8607 - accuracy: 0.4333 - val_loss: 1.3575 - val_accuracy: 0.6941\n",
            "Epoch 2/5\n",
            "24/24 [==============================] - 7s 268ms/step - loss: 1.1396 - accuracy: 0.7467 - val_loss: 0.9381 - val_accuracy: 0.7928\n",
            "Epoch 3/5\n",
            "24/24 [==============================] - 7s 261ms/step - loss: 0.8415 - accuracy: 0.8027 - val_loss: 0.7643 - val_accuracy: 0.8257\n",
            "Epoch 4/5\n",
            "24/24 [==============================] - 9s 354ms/step - loss: 0.6805 - accuracy: 0.8387 - val_loss: 0.6659 - val_accuracy: 0.8339\n",
            "Epoch 5/5\n",
            "24/24 [==============================] - 7s 263ms/step - loss: 0.5811 - accuracy: 0.8773 - val_loss: 0.6112 - val_accuracy: 0.8470\n"
          ]
        }
      ]
    },
    {
      "cell_type": "code",
      "source": [
        "# Evaluate on the full test dataset\n",
        "model_0.evaluate(test_data)"
      ],
      "metadata": {
        "colab": {
          "base_uri": "https://localhost:8080/"
        },
        "id": "AuifQKuEqnAm",
        "outputId": "32855aa6-e0e7-41e0-f5bd-f7eabaaa8439"
      },
      "execution_count": null,
      "outputs": [
        {
          "output_type": "stream",
          "name": "stdout",
          "text": [
            "79/79 [==============================] - 12s 151ms/step - loss: 0.6176 - accuracy: 0.8376\n"
          ]
        },
        {
          "output_type": "execute_result",
          "data": {
            "text/plain": [
              "[0.6175616383552551, 0.8375999927520752]"
            ]
          },
          "metadata": {},
          "execution_count": 16
        }
      ]
    },
    {
      "cell_type": "code",
      "source": [
        "# Check the layers in our base model\n",
        "for layer_number, layer in enumerate(base_model.layers):\n",
        "  print(layer_number, layer.name)"
      ],
      "metadata": {
        "id": "CqQ33yCkrAxw"
      },
      "execution_count": null,
      "outputs": []
    },
    {
      "cell_type": "code",
      "source": [
        "# How about we get a summary of the base model?\n",
        "model_0.summary()"
      ],
      "metadata": {
        "colab": {
          "base_uri": "https://localhost:8080/"
        },
        "id": "T3S1Try6rArh",
        "outputId": "4718398e-a093-4c30-b566-347f1db4c7a0"
      },
      "execution_count": null,
      "outputs": [
        {
          "output_type": "stream",
          "name": "stdout",
          "text": [
            "Model: \"model\"\n",
            "_________________________________________________________________\n",
            " Layer (type)                Output Shape              Param #   \n",
            "=================================================================\n",
            " input_layer (InputLayer)    [(None, 224, 224, 3)]     0         \n",
            "                                                                 \n",
            " efficientnetb0 (Functional)  (None, None, None, 1280)  4049571  \n",
            "                                                                 \n",
            " global_average_pool (Global  (None, 1280)             0         \n",
            " AveragePooling2D)                                               \n",
            "                                                                 \n",
            " output_layer (Dense)        (None, 10)                12810     \n",
            "                                                                 \n",
            "=================================================================\n",
            "Total params: 4,062,381\n",
            "Trainable params: 12,810\n",
            "Non-trainable params: 4,049,571\n",
            "_________________________________________________________________\n"
          ]
        }
      ]
    },
    {
      "cell_type": "code",
      "source": [
        "base_model.summary()"
      ],
      "metadata": {
        "colab": {
          "base_uri": "https://localhost:8080/"
        },
        "id": "Y3vYUfqxsAMp",
        "outputId": "1fc0f542-0852-4adb-8b23-0b99c4d936e7"
      },
      "execution_count": null,
      "outputs": [
        {
          "output_type": "stream",
          "name": "stdout",
          "text": [
            "Model: \"efficientnetb0\"\n",
            "__________________________________________________________________________________________________\n",
            " Layer (type)                   Output Shape         Param #     Connected to                     \n",
            "==================================================================================================\n",
            " input_1 (InputLayer)           [(None, None, None,  0           []                               \n",
            "                                 3)]                                                              \n",
            "                                                                                                  \n",
            " rescaling (Rescaling)          (None, None, None,   0           ['input_1[0][0]']                \n",
            "                                3)                                                                \n",
            "                                                                                                  \n",
            " normalization (Normalization)  (None, None, None,   7           ['rescaling[0][0]']              \n",
            "                                3)                                                                \n",
            "                                                                                                  \n",
            " stem_conv_pad (ZeroPadding2D)  (None, None, None,   0           ['normalization[0][0]']          \n",
            "                                3)                                                                \n",
            "                                                                                                  \n",
            " stem_conv (Conv2D)             (None, None, None,   864         ['stem_conv_pad[0][0]']          \n",
            "                                32)                                                               \n",
            "                                                                                                  \n",
            " stem_bn (BatchNormalization)   (None, None, None,   128         ['stem_conv[0][0]']              \n",
            "                                32)                                                               \n",
            "                                                                                                  \n",
            " stem_activation (Activation)   (None, None, None,   0           ['stem_bn[0][0]']                \n",
            "                                32)                                                               \n",
            "                                                                                                  \n",
            " block1a_dwconv (DepthwiseConv2  (None, None, None,   288        ['stem_activation[0][0]']        \n",
            " D)                             32)                                                               \n",
            "                                                                                                  \n",
            " block1a_bn (BatchNormalization  (None, None, None,   128        ['block1a_dwconv[0][0]']         \n",
            " )                              32)                                                               \n",
            "                                                                                                  \n",
            " block1a_activation (Activation  (None, None, None,   0          ['block1a_bn[0][0]']             \n",
            " )                              32)                                                               \n",
            "                                                                                                  \n",
            " block1a_se_squeeze (GlobalAver  (None, 32)          0           ['block1a_activation[0][0]']     \n",
            " agePooling2D)                                                                                    \n",
            "                                                                                                  \n",
            " block1a_se_reshape (Reshape)   (None, 1, 1, 32)     0           ['block1a_se_squeeze[0][0]']     \n",
            "                                                                                                  \n",
            " block1a_se_reduce (Conv2D)     (None, 1, 1, 8)      264         ['block1a_se_reshape[0][0]']     \n",
            "                                                                                                  \n",
            " block1a_se_expand (Conv2D)     (None, 1, 1, 32)     288         ['block1a_se_reduce[0][0]']      \n",
            "                                                                                                  \n",
            " block1a_se_excite (Multiply)   (None, None, None,   0           ['block1a_activation[0][0]',     \n",
            "                                32)                               'block1a_se_expand[0][0]']      \n",
            "                                                                                                  \n",
            " block1a_project_conv (Conv2D)  (None, None, None,   512         ['block1a_se_excite[0][0]']      \n",
            "                                16)                                                               \n",
            "                                                                                                  \n",
            " block1a_project_bn (BatchNorma  (None, None, None,   64         ['block1a_project_conv[0][0]']   \n",
            " lization)                      16)                                                               \n",
            "                                                                                                  \n",
            " block2a_expand_conv (Conv2D)   (None, None, None,   1536        ['block1a_project_bn[0][0]']     \n",
            "                                96)                                                               \n",
            "                                                                                                  \n",
            " block2a_expand_bn (BatchNormal  (None, None, None,   384        ['block2a_expand_conv[0][0]']    \n",
            " ization)                       96)                                                               \n",
            "                                                                                                  \n",
            " block2a_expand_activation (Act  (None, None, None,   0          ['block2a_expand_bn[0][0]']      \n",
            " ivation)                       96)                                                               \n",
            "                                                                                                  \n",
            " block2a_dwconv_pad (ZeroPaddin  (None, None, None,   0          ['block2a_expand_activation[0][0]\n",
            " g2D)                           96)                              ']                               \n",
            "                                                                                                  \n",
            " block2a_dwconv (DepthwiseConv2  (None, None, None,   864        ['block2a_dwconv_pad[0][0]']     \n",
            " D)                             96)                                                               \n",
            "                                                                                                  \n",
            " block2a_bn (BatchNormalization  (None, None, None,   384        ['block2a_dwconv[0][0]']         \n",
            " )                              96)                                                               \n",
            "                                                                                                  \n",
            " block2a_activation (Activation  (None, None, None,   0          ['block2a_bn[0][0]']             \n",
            " )                              96)                                                               \n",
            "                                                                                                  \n",
            " block2a_se_squeeze (GlobalAver  (None, 96)          0           ['block2a_activation[0][0]']     \n",
            " agePooling2D)                                                                                    \n",
            "                                                                                                  \n",
            " block2a_se_reshape (Reshape)   (None, 1, 1, 96)     0           ['block2a_se_squeeze[0][0]']     \n",
            "                                                                                                  \n",
            " block2a_se_reduce (Conv2D)     (None, 1, 1, 4)      388         ['block2a_se_reshape[0][0]']     \n",
            "                                                                                                  \n",
            " block2a_se_expand (Conv2D)     (None, 1, 1, 96)     480         ['block2a_se_reduce[0][0]']      \n",
            "                                                                                                  \n",
            " block2a_se_excite (Multiply)   (None, None, None,   0           ['block2a_activation[0][0]',     \n",
            "                                96)                               'block2a_se_expand[0][0]']      \n",
            "                                                                                                  \n",
            " block2a_project_conv (Conv2D)  (None, None, None,   2304        ['block2a_se_excite[0][0]']      \n",
            "                                24)                                                               \n",
            "                                                                                                  \n",
            " block2a_project_bn (BatchNorma  (None, None, None,   96         ['block2a_project_conv[0][0]']   \n",
            " lization)                      24)                                                               \n",
            "                                                                                                  \n",
            " block2b_expand_conv (Conv2D)   (None, None, None,   3456        ['block2a_project_bn[0][0]']     \n",
            "                                144)                                                              \n",
            "                                                                                                  \n",
            " block2b_expand_bn (BatchNormal  (None, None, None,   576        ['block2b_expand_conv[0][0]']    \n",
            " ization)                       144)                                                              \n",
            "                                                                                                  \n",
            " block2b_expand_activation (Act  (None, None, None,   0          ['block2b_expand_bn[0][0]']      \n",
            " ivation)                       144)                                                              \n",
            "                                                                                                  \n",
            " block2b_dwconv (DepthwiseConv2  (None, None, None,   1296       ['block2b_expand_activation[0][0]\n",
            " D)                             144)                             ']                               \n",
            "                                                                                                  \n",
            " block2b_bn (BatchNormalization  (None, None, None,   576        ['block2b_dwconv[0][0]']         \n",
            " )                              144)                                                              \n",
            "                                                                                                  \n",
            " block2b_activation (Activation  (None, None, None,   0          ['block2b_bn[0][0]']             \n",
            " )                              144)                                                              \n",
            "                                                                                                  \n",
            " block2b_se_squeeze (GlobalAver  (None, 144)         0           ['block2b_activation[0][0]']     \n",
            " agePooling2D)                                                                                    \n",
            "                                                                                                  \n",
            " block2b_se_reshape (Reshape)   (None, 1, 1, 144)    0           ['block2b_se_squeeze[0][0]']     \n",
            "                                                                                                  \n",
            " block2b_se_reduce (Conv2D)     (None, 1, 1, 6)      870         ['block2b_se_reshape[0][0]']     \n",
            "                                                                                                  \n",
            " block2b_se_expand (Conv2D)     (None, 1, 1, 144)    1008        ['block2b_se_reduce[0][0]']      \n",
            "                                                                                                  \n",
            " block2b_se_excite (Multiply)   (None, None, None,   0           ['block2b_activation[0][0]',     \n",
            "                                144)                              'block2b_se_expand[0][0]']      \n",
            "                                                                                                  \n",
            " block2b_project_conv (Conv2D)  (None, None, None,   3456        ['block2b_se_excite[0][0]']      \n",
            "                                24)                                                               \n",
            "                                                                                                  \n",
            " block2b_project_bn (BatchNorma  (None, None, None,   96         ['block2b_project_conv[0][0]']   \n",
            " lization)                      24)                                                               \n",
            "                                                                                                  \n",
            " block2b_drop (Dropout)         (None, None, None,   0           ['block2b_project_bn[0][0]']     \n",
            "                                24)                                                               \n",
            "                                                                                                  \n",
            " block2b_add (Add)              (None, None, None,   0           ['block2b_drop[0][0]',           \n",
            "                                24)                               'block2a_project_bn[0][0]']     \n",
            "                                                                                                  \n",
            " block3a_expand_conv (Conv2D)   (None, None, None,   3456        ['block2b_add[0][0]']            \n",
            "                                144)                                                              \n",
            "                                                                                                  \n",
            " block3a_expand_bn (BatchNormal  (None, None, None,   576        ['block3a_expand_conv[0][0]']    \n",
            " ization)                       144)                                                              \n",
            "                                                                                                  \n",
            " block3a_expand_activation (Act  (None, None, None,   0          ['block3a_expand_bn[0][0]']      \n",
            " ivation)                       144)                                                              \n",
            "                                                                                                  \n",
            " block3a_dwconv_pad (ZeroPaddin  (None, None, None,   0          ['block3a_expand_activation[0][0]\n",
            " g2D)                           144)                             ']                               \n",
            "                                                                                                  \n",
            " block3a_dwconv (DepthwiseConv2  (None, None, None,   3600       ['block3a_dwconv_pad[0][0]']     \n",
            " D)                             144)                                                              \n",
            "                                                                                                  \n",
            " block3a_bn (BatchNormalization  (None, None, None,   576        ['block3a_dwconv[0][0]']         \n",
            " )                              144)                                                              \n",
            "                                                                                                  \n",
            " block3a_activation (Activation  (None, None, None,   0          ['block3a_bn[0][0]']             \n",
            " )                              144)                                                              \n",
            "                                                                                                  \n",
            " block3a_se_squeeze (GlobalAver  (None, 144)         0           ['block3a_activation[0][0]']     \n",
            " agePooling2D)                                                                                    \n",
            "                                                                                                  \n",
            " block3a_se_reshape (Reshape)   (None, 1, 1, 144)    0           ['block3a_se_squeeze[0][0]']     \n",
            "                                                                                                  \n",
            " block3a_se_reduce (Conv2D)     (None, 1, 1, 6)      870         ['block3a_se_reshape[0][0]']     \n",
            "                                                                                                  \n",
            " block3a_se_expand (Conv2D)     (None, 1, 1, 144)    1008        ['block3a_se_reduce[0][0]']      \n",
            "                                                                                                  \n",
            " block3a_se_excite (Multiply)   (None, None, None,   0           ['block3a_activation[0][0]',     \n",
            "                                144)                              'block3a_se_expand[0][0]']      \n",
            "                                                                                                  \n",
            " block3a_project_conv (Conv2D)  (None, None, None,   5760        ['block3a_se_excite[0][0]']      \n",
            "                                40)                                                               \n",
            "                                                                                                  \n",
            " block3a_project_bn (BatchNorma  (None, None, None,   160        ['block3a_project_conv[0][0]']   \n",
            " lization)                      40)                                                               \n",
            "                                                                                                  \n",
            " block3b_expand_conv (Conv2D)   (None, None, None,   9600        ['block3a_project_bn[0][0]']     \n",
            "                                240)                                                              \n",
            "                                                                                                  \n",
            " block3b_expand_bn (BatchNormal  (None, None, None,   960        ['block3b_expand_conv[0][0]']    \n",
            " ization)                       240)                                                              \n",
            "                                                                                                  \n",
            " block3b_expand_activation (Act  (None, None, None,   0          ['block3b_expand_bn[0][0]']      \n",
            " ivation)                       240)                                                              \n",
            "                                                                                                  \n",
            " block3b_dwconv (DepthwiseConv2  (None, None, None,   6000       ['block3b_expand_activation[0][0]\n",
            " D)                             240)                             ']                               \n",
            "                                                                                                  \n",
            " block3b_bn (BatchNormalization  (None, None, None,   960        ['block3b_dwconv[0][0]']         \n",
            " )                              240)                                                              \n",
            "                                                                                                  \n",
            " block3b_activation (Activation  (None, None, None,   0          ['block3b_bn[0][0]']             \n",
            " )                              240)                                                              \n",
            "                                                                                                  \n",
            " block3b_se_squeeze (GlobalAver  (None, 240)         0           ['block3b_activation[0][0]']     \n",
            " agePooling2D)                                                                                    \n",
            "                                                                                                  \n",
            " block3b_se_reshape (Reshape)   (None, 1, 1, 240)    0           ['block3b_se_squeeze[0][0]']     \n",
            "                                                                                                  \n",
            " block3b_se_reduce (Conv2D)     (None, 1, 1, 10)     2410        ['block3b_se_reshape[0][0]']     \n",
            "                                                                                                  \n",
            " block3b_se_expand (Conv2D)     (None, 1, 1, 240)    2640        ['block3b_se_reduce[0][0]']      \n",
            "                                                                                                  \n",
            " block3b_se_excite (Multiply)   (None, None, None,   0           ['block3b_activation[0][0]',     \n",
            "                                240)                              'block3b_se_expand[0][0]']      \n",
            "                                                                                                  \n",
            " block3b_project_conv (Conv2D)  (None, None, None,   9600        ['block3b_se_excite[0][0]']      \n",
            "                                40)                                                               \n",
            "                                                                                                  \n",
            " block3b_project_bn (BatchNorma  (None, None, None,   160        ['block3b_project_conv[0][0]']   \n",
            " lization)                      40)                                                               \n",
            "                                                                                                  \n",
            " block3b_drop (Dropout)         (None, None, None,   0           ['block3b_project_bn[0][0]']     \n",
            "                                40)                                                               \n",
            "                                                                                                  \n",
            " block3b_add (Add)              (None, None, None,   0           ['block3b_drop[0][0]',           \n",
            "                                40)                               'block3a_project_bn[0][0]']     \n",
            "                                                                                                  \n",
            " block4a_expand_conv (Conv2D)   (None, None, None,   9600        ['block3b_add[0][0]']            \n",
            "                                240)                                                              \n",
            "                                                                                                  \n",
            " block4a_expand_bn (BatchNormal  (None, None, None,   960        ['block4a_expand_conv[0][0]']    \n",
            " ization)                       240)                                                              \n",
            "                                                                                                  \n",
            " block4a_expand_activation (Act  (None, None, None,   0          ['block4a_expand_bn[0][0]']      \n",
            " ivation)                       240)                                                              \n",
            "                                                                                                  \n",
            " block4a_dwconv_pad (ZeroPaddin  (None, None, None,   0          ['block4a_expand_activation[0][0]\n",
            " g2D)                           240)                             ']                               \n",
            "                                                                                                  \n",
            " block4a_dwconv (DepthwiseConv2  (None, None, None,   2160       ['block4a_dwconv_pad[0][0]']     \n",
            " D)                             240)                                                              \n",
            "                                                                                                  \n",
            " block4a_bn (BatchNormalization  (None, None, None,   960        ['block4a_dwconv[0][0]']         \n",
            " )                              240)                                                              \n",
            "                                                                                                  \n",
            " block4a_activation (Activation  (None, None, None,   0          ['block4a_bn[0][0]']             \n",
            " )                              240)                                                              \n",
            "                                                                                                  \n",
            " block4a_se_squeeze (GlobalAver  (None, 240)         0           ['block4a_activation[0][0]']     \n",
            " agePooling2D)                                                                                    \n",
            "                                                                                                  \n",
            " block4a_se_reshape (Reshape)   (None, 1, 1, 240)    0           ['block4a_se_squeeze[0][0]']     \n",
            "                                                                                                  \n",
            " block4a_se_reduce (Conv2D)     (None, 1, 1, 10)     2410        ['block4a_se_reshape[0][0]']     \n",
            "                                                                                                  \n",
            " block4a_se_expand (Conv2D)     (None, 1, 1, 240)    2640        ['block4a_se_reduce[0][0]']      \n",
            "                                                                                                  \n",
            " block4a_se_excite (Multiply)   (None, None, None,   0           ['block4a_activation[0][0]',     \n",
            "                                240)                              'block4a_se_expand[0][0]']      \n",
            "                                                                                                  \n",
            " block4a_project_conv (Conv2D)  (None, None, None,   19200       ['block4a_se_excite[0][0]']      \n",
            "                                80)                                                               \n",
            "                                                                                                  \n",
            " block4a_project_bn (BatchNorma  (None, None, None,   320        ['block4a_project_conv[0][0]']   \n",
            " lization)                      80)                                                               \n",
            "                                                                                                  \n",
            " block4b_expand_conv (Conv2D)   (None, None, None,   38400       ['block4a_project_bn[0][0]']     \n",
            "                                480)                                                              \n",
            "                                                                                                  \n",
            " block4b_expand_bn (BatchNormal  (None, None, None,   1920       ['block4b_expand_conv[0][0]']    \n",
            " ization)                       480)                                                              \n",
            "                                                                                                  \n",
            " block4b_expand_activation (Act  (None, None, None,   0          ['block4b_expand_bn[0][0]']      \n",
            " ivation)                       480)                                                              \n",
            "                                                                                                  \n",
            " block4b_dwconv (DepthwiseConv2  (None, None, None,   4320       ['block4b_expand_activation[0][0]\n",
            " D)                             480)                             ']                               \n",
            "                                                                                                  \n",
            " block4b_bn (BatchNormalization  (None, None, None,   1920       ['block4b_dwconv[0][0]']         \n",
            " )                              480)                                                              \n",
            "                                                                                                  \n",
            " block4b_activation (Activation  (None, None, None,   0          ['block4b_bn[0][0]']             \n",
            " )                              480)                                                              \n",
            "                                                                                                  \n",
            " block4b_se_squeeze (GlobalAver  (None, 480)         0           ['block4b_activation[0][0]']     \n",
            " agePooling2D)                                                                                    \n",
            "                                                                                                  \n",
            " block4b_se_reshape (Reshape)   (None, 1, 1, 480)    0           ['block4b_se_squeeze[0][0]']     \n",
            "                                                                                                  \n",
            " block4b_se_reduce (Conv2D)     (None, 1, 1, 20)     9620        ['block4b_se_reshape[0][0]']     \n",
            "                                                                                                  \n",
            " block4b_se_expand (Conv2D)     (None, 1, 1, 480)    10080       ['block4b_se_reduce[0][0]']      \n",
            "                                                                                                  \n",
            " block4b_se_excite (Multiply)   (None, None, None,   0           ['block4b_activation[0][0]',     \n",
            "                                480)                              'block4b_se_expand[0][0]']      \n",
            "                                                                                                  \n",
            " block4b_project_conv (Conv2D)  (None, None, None,   38400       ['block4b_se_excite[0][0]']      \n",
            "                                80)                                                               \n",
            "                                                                                                  \n",
            " block4b_project_bn (BatchNorma  (None, None, None,   320        ['block4b_project_conv[0][0]']   \n",
            " lization)                      80)                                                               \n",
            "                                                                                                  \n",
            " block4b_drop (Dropout)         (None, None, None,   0           ['block4b_project_bn[0][0]']     \n",
            "                                80)                                                               \n",
            "                                                                                                  \n",
            " block4b_add (Add)              (None, None, None,   0           ['block4b_drop[0][0]',           \n",
            "                                80)                               'block4a_project_bn[0][0]']     \n",
            "                                                                                                  \n",
            " block4c_expand_conv (Conv2D)   (None, None, None,   38400       ['block4b_add[0][0]']            \n",
            "                                480)                                                              \n",
            "                                                                                                  \n",
            " block4c_expand_bn (BatchNormal  (None, None, None,   1920       ['block4c_expand_conv[0][0]']    \n",
            " ization)                       480)                                                              \n",
            "                                                                                                  \n",
            " block4c_expand_activation (Act  (None, None, None,   0          ['block4c_expand_bn[0][0]']      \n",
            " ivation)                       480)                                                              \n",
            "                                                                                                  \n",
            " block4c_dwconv (DepthwiseConv2  (None, None, None,   4320       ['block4c_expand_activation[0][0]\n",
            " D)                             480)                             ']                               \n",
            "                                                                                                  \n",
            " block4c_bn (BatchNormalization  (None, None, None,   1920       ['block4c_dwconv[0][0]']         \n",
            " )                              480)                                                              \n",
            "                                                                                                  \n",
            " block4c_activation (Activation  (None, None, None,   0          ['block4c_bn[0][0]']             \n",
            " )                              480)                                                              \n",
            "                                                                                                  \n",
            " block4c_se_squeeze (GlobalAver  (None, 480)         0           ['block4c_activation[0][0]']     \n",
            " agePooling2D)                                                                                    \n",
            "                                                                                                  \n",
            " block4c_se_reshape (Reshape)   (None, 1, 1, 480)    0           ['block4c_se_squeeze[0][0]']     \n",
            "                                                                                                  \n",
            " block4c_se_reduce (Conv2D)     (None, 1, 1, 20)     9620        ['block4c_se_reshape[0][0]']     \n",
            "                                                                                                  \n",
            " block4c_se_expand (Conv2D)     (None, 1, 1, 480)    10080       ['block4c_se_reduce[0][0]']      \n",
            "                                                                                                  \n",
            " block4c_se_excite (Multiply)   (None, None, None,   0           ['block4c_activation[0][0]',     \n",
            "                                480)                              'block4c_se_expand[0][0]']      \n",
            "                                                                                                  \n",
            " block4c_project_conv (Conv2D)  (None, None, None,   38400       ['block4c_se_excite[0][0]']      \n",
            "                                80)                                                               \n",
            "                                                                                                  \n",
            " block4c_project_bn (BatchNorma  (None, None, None,   320        ['block4c_project_conv[0][0]']   \n",
            " lization)                      80)                                                               \n",
            "                                                                                                  \n",
            " block4c_drop (Dropout)         (None, None, None,   0           ['block4c_project_bn[0][0]']     \n",
            "                                80)                                                               \n",
            "                                                                                                  \n",
            " block4c_add (Add)              (None, None, None,   0           ['block4c_drop[0][0]',           \n",
            "                                80)                               'block4b_add[0][0]']            \n",
            "                                                                                                  \n",
            " block5a_expand_conv (Conv2D)   (None, None, None,   38400       ['block4c_add[0][0]']            \n",
            "                                480)                                                              \n",
            "                                                                                                  \n",
            " block5a_expand_bn (BatchNormal  (None, None, None,   1920       ['block5a_expand_conv[0][0]']    \n",
            " ization)                       480)                                                              \n",
            "                                                                                                  \n",
            " block5a_expand_activation (Act  (None, None, None,   0          ['block5a_expand_bn[0][0]']      \n",
            " ivation)                       480)                                                              \n",
            "                                                                                                  \n",
            " block5a_dwconv (DepthwiseConv2  (None, None, None,   12000      ['block5a_expand_activation[0][0]\n",
            " D)                             480)                             ']                               \n",
            "                                                                                                  \n",
            " block5a_bn (BatchNormalization  (None, None, None,   1920       ['block5a_dwconv[0][0]']         \n",
            " )                              480)                                                              \n",
            "                                                                                                  \n",
            " block5a_activation (Activation  (None, None, None,   0          ['block5a_bn[0][0]']             \n",
            " )                              480)                                                              \n",
            "                                                                                                  \n",
            " block5a_se_squeeze (GlobalAver  (None, 480)         0           ['block5a_activation[0][0]']     \n",
            " agePooling2D)                                                                                    \n",
            "                                                                                                  \n",
            " block5a_se_reshape (Reshape)   (None, 1, 1, 480)    0           ['block5a_se_squeeze[0][0]']     \n",
            "                                                                                                  \n",
            " block5a_se_reduce (Conv2D)     (None, 1, 1, 20)     9620        ['block5a_se_reshape[0][0]']     \n",
            "                                                                                                  \n",
            " block5a_se_expand (Conv2D)     (None, 1, 1, 480)    10080       ['block5a_se_reduce[0][0]']      \n",
            "                                                                                                  \n",
            " block5a_se_excite (Multiply)   (None, None, None,   0           ['block5a_activation[0][0]',     \n",
            "                                480)                              'block5a_se_expand[0][0]']      \n",
            "                                                                                                  \n",
            " block5a_project_conv (Conv2D)  (None, None, None,   53760       ['block5a_se_excite[0][0]']      \n",
            "                                112)                                                              \n",
            "                                                                                                  \n",
            " block5a_project_bn (BatchNorma  (None, None, None,   448        ['block5a_project_conv[0][0]']   \n",
            " lization)                      112)                                                              \n",
            "                                                                                                  \n",
            " block5b_expand_conv (Conv2D)   (None, None, None,   75264       ['block5a_project_bn[0][0]']     \n",
            "                                672)                                                              \n",
            "                                                                                                  \n",
            " block5b_expand_bn (BatchNormal  (None, None, None,   2688       ['block5b_expand_conv[0][0]']    \n",
            " ization)                       672)                                                              \n",
            "                                                                                                  \n",
            " block5b_expand_activation (Act  (None, None, None,   0          ['block5b_expand_bn[0][0]']      \n",
            " ivation)                       672)                                                              \n",
            "                                                                                                  \n",
            " block5b_dwconv (DepthwiseConv2  (None, None, None,   16800      ['block5b_expand_activation[0][0]\n",
            " D)                             672)                             ']                               \n",
            "                                                                                                  \n",
            " block5b_bn (BatchNormalization  (None, None, None,   2688       ['block5b_dwconv[0][0]']         \n",
            " )                              672)                                                              \n",
            "                                                                                                  \n",
            " block5b_activation (Activation  (None, None, None,   0          ['block5b_bn[0][0]']             \n",
            " )                              672)                                                              \n",
            "                                                                                                  \n",
            " block5b_se_squeeze (GlobalAver  (None, 672)         0           ['block5b_activation[0][0]']     \n",
            " agePooling2D)                                                                                    \n",
            "                                                                                                  \n",
            " block5b_se_reshape (Reshape)   (None, 1, 1, 672)    0           ['block5b_se_squeeze[0][0]']     \n",
            "                                                                                                  \n",
            " block5b_se_reduce (Conv2D)     (None, 1, 1, 28)     18844       ['block5b_se_reshape[0][0]']     \n",
            "                                                                                                  \n",
            " block5b_se_expand (Conv2D)     (None, 1, 1, 672)    19488       ['block5b_se_reduce[0][0]']      \n",
            "                                                                                                  \n",
            " block5b_se_excite (Multiply)   (None, None, None,   0           ['block5b_activation[0][0]',     \n",
            "                                672)                              'block5b_se_expand[0][0]']      \n",
            "                                                                                                  \n",
            " block5b_project_conv (Conv2D)  (None, None, None,   75264       ['block5b_se_excite[0][0]']      \n",
            "                                112)                                                              \n",
            "                                                                                                  \n",
            " block5b_project_bn (BatchNorma  (None, None, None,   448        ['block5b_project_conv[0][0]']   \n",
            " lization)                      112)                                                              \n",
            "                                                                                                  \n",
            " block5b_drop (Dropout)         (None, None, None,   0           ['block5b_project_bn[0][0]']     \n",
            "                                112)                                                              \n",
            "                                                                                                  \n",
            " block5b_add (Add)              (None, None, None,   0           ['block5b_drop[0][0]',           \n",
            "                                112)                              'block5a_project_bn[0][0]']     \n",
            "                                                                                                  \n",
            " block5c_expand_conv (Conv2D)   (None, None, None,   75264       ['block5b_add[0][0]']            \n",
            "                                672)                                                              \n",
            "                                                                                                  \n",
            " block5c_expand_bn (BatchNormal  (None, None, None,   2688       ['block5c_expand_conv[0][0]']    \n",
            " ization)                       672)                                                              \n",
            "                                                                                                  \n",
            " block5c_expand_activation (Act  (None, None, None,   0          ['block5c_expand_bn[0][0]']      \n",
            " ivation)                       672)                                                              \n",
            "                                                                                                  \n",
            " block5c_dwconv (DepthwiseConv2  (None, None, None,   16800      ['block5c_expand_activation[0][0]\n",
            " D)                             672)                             ']                               \n",
            "                                                                                                  \n",
            " block5c_bn (BatchNormalization  (None, None, None,   2688       ['block5c_dwconv[0][0]']         \n",
            " )                              672)                                                              \n",
            "                                                                                                  \n",
            " block5c_activation (Activation  (None, None, None,   0          ['block5c_bn[0][0]']             \n",
            " )                              672)                                                              \n",
            "                                                                                                  \n",
            " block5c_se_squeeze (GlobalAver  (None, 672)         0           ['block5c_activation[0][0]']     \n",
            " agePooling2D)                                                                                    \n",
            "                                                                                                  \n",
            " block5c_se_reshape (Reshape)   (None, 1, 1, 672)    0           ['block5c_se_squeeze[0][0]']     \n",
            "                                                                                                  \n",
            " block5c_se_reduce (Conv2D)     (None, 1, 1, 28)     18844       ['block5c_se_reshape[0][0]']     \n",
            "                                                                                                  \n",
            " block5c_se_expand (Conv2D)     (None, 1, 1, 672)    19488       ['block5c_se_reduce[0][0]']      \n",
            "                                                                                                  \n",
            " block5c_se_excite (Multiply)   (None, None, None,   0           ['block5c_activation[0][0]',     \n",
            "                                672)                              'block5c_se_expand[0][0]']      \n",
            "                                                                                                  \n",
            " block5c_project_conv (Conv2D)  (None, None, None,   75264       ['block5c_se_excite[0][0]']      \n",
            "                                112)                                                              \n",
            "                                                                                                  \n",
            " block5c_project_bn (BatchNorma  (None, None, None,   448        ['block5c_project_conv[0][0]']   \n",
            " lization)                      112)                                                              \n",
            "                                                                                                  \n",
            " block5c_drop (Dropout)         (None, None, None,   0           ['block5c_project_bn[0][0]']     \n",
            "                                112)                                                              \n",
            "                                                                                                  \n",
            " block5c_add (Add)              (None, None, None,   0           ['block5c_drop[0][0]',           \n",
            "                                112)                              'block5b_add[0][0]']            \n",
            "                                                                                                  \n",
            " block6a_expand_conv (Conv2D)   (None, None, None,   75264       ['block5c_add[0][0]']            \n",
            "                                672)                                                              \n",
            "                                                                                                  \n",
            " block6a_expand_bn (BatchNormal  (None, None, None,   2688       ['block6a_expand_conv[0][0]']    \n",
            " ization)                       672)                                                              \n",
            "                                                                                                  \n",
            " block6a_expand_activation (Act  (None, None, None,   0          ['block6a_expand_bn[0][0]']      \n",
            " ivation)                       672)                                                              \n",
            "                                                                                                  \n",
            " block6a_dwconv_pad (ZeroPaddin  (None, None, None,   0          ['block6a_expand_activation[0][0]\n",
            " g2D)                           672)                             ']                               \n",
            "                                                                                                  \n",
            " block6a_dwconv (DepthwiseConv2  (None, None, None,   16800      ['block6a_dwconv_pad[0][0]']     \n",
            " D)                             672)                                                              \n",
            "                                                                                                  \n",
            " block6a_bn (BatchNormalization  (None, None, None,   2688       ['block6a_dwconv[0][0]']         \n",
            " )                              672)                                                              \n",
            "                                                                                                  \n",
            " block6a_activation (Activation  (None, None, None,   0          ['block6a_bn[0][0]']             \n",
            " )                              672)                                                              \n",
            "                                                                                                  \n",
            " block6a_se_squeeze (GlobalAver  (None, 672)         0           ['block6a_activation[0][0]']     \n",
            " agePooling2D)                                                                                    \n",
            "                                                                                                  \n",
            " block6a_se_reshape (Reshape)   (None, 1, 1, 672)    0           ['block6a_se_squeeze[0][0]']     \n",
            "                                                                                                  \n",
            " block6a_se_reduce (Conv2D)     (None, 1, 1, 28)     18844       ['block6a_se_reshape[0][0]']     \n",
            "                                                                                                  \n",
            " block6a_se_expand (Conv2D)     (None, 1, 1, 672)    19488       ['block6a_se_reduce[0][0]']      \n",
            "                                                                                                  \n",
            " block6a_se_excite (Multiply)   (None, None, None,   0           ['block6a_activation[0][0]',     \n",
            "                                672)                              'block6a_se_expand[0][0]']      \n",
            "                                                                                                  \n",
            " block6a_project_conv (Conv2D)  (None, None, None,   129024      ['block6a_se_excite[0][0]']      \n",
            "                                192)                                                              \n",
            "                                                                                                  \n",
            " block6a_project_bn (BatchNorma  (None, None, None,   768        ['block6a_project_conv[0][0]']   \n",
            " lization)                      192)                                                              \n",
            "                                                                                                  \n",
            " block6b_expand_conv (Conv2D)   (None, None, None,   221184      ['block6a_project_bn[0][0]']     \n",
            "                                1152)                                                             \n",
            "                                                                                                  \n",
            " block6b_expand_bn (BatchNormal  (None, None, None,   4608       ['block6b_expand_conv[0][0]']    \n",
            " ization)                       1152)                                                             \n",
            "                                                                                                  \n",
            " block6b_expand_activation (Act  (None, None, None,   0          ['block6b_expand_bn[0][0]']      \n",
            " ivation)                       1152)                                                             \n",
            "                                                                                                  \n",
            " block6b_dwconv (DepthwiseConv2  (None, None, None,   28800      ['block6b_expand_activation[0][0]\n",
            " D)                             1152)                            ']                               \n",
            "                                                                                                  \n",
            " block6b_bn (BatchNormalization  (None, None, None,   4608       ['block6b_dwconv[0][0]']         \n",
            " )                              1152)                                                             \n",
            "                                                                                                  \n",
            " block6b_activation (Activation  (None, None, None,   0          ['block6b_bn[0][0]']             \n",
            " )                              1152)                                                             \n",
            "                                                                                                  \n",
            " block6b_se_squeeze (GlobalAver  (None, 1152)        0           ['block6b_activation[0][0]']     \n",
            " agePooling2D)                                                                                    \n",
            "                                                                                                  \n",
            " block6b_se_reshape (Reshape)   (None, 1, 1, 1152)   0           ['block6b_se_squeeze[0][0]']     \n",
            "                                                                                                  \n",
            " block6b_se_reduce (Conv2D)     (None, 1, 1, 48)     55344       ['block6b_se_reshape[0][0]']     \n",
            "                                                                                                  \n",
            " block6b_se_expand (Conv2D)     (None, 1, 1, 1152)   56448       ['block6b_se_reduce[0][0]']      \n",
            "                                                                                                  \n",
            " block6b_se_excite (Multiply)   (None, None, None,   0           ['block6b_activation[0][0]',     \n",
            "                                1152)                             'block6b_se_expand[0][0]']      \n",
            "                                                                                                  \n",
            " block6b_project_conv (Conv2D)  (None, None, None,   221184      ['block6b_se_excite[0][0]']      \n",
            "                                192)                                                              \n",
            "                                                                                                  \n",
            " block6b_project_bn (BatchNorma  (None, None, None,   768        ['block6b_project_conv[0][0]']   \n",
            " lization)                      192)                                                              \n",
            "                                                                                                  \n",
            " block6b_drop (Dropout)         (None, None, None,   0           ['block6b_project_bn[0][0]']     \n",
            "                                192)                                                              \n",
            "                                                                                                  \n",
            " block6b_add (Add)              (None, None, None,   0           ['block6b_drop[0][0]',           \n",
            "                                192)                              'block6a_project_bn[0][0]']     \n",
            "                                                                                                  \n",
            " block6c_expand_conv (Conv2D)   (None, None, None,   221184      ['block6b_add[0][0]']            \n",
            "                                1152)                                                             \n",
            "                                                                                                  \n",
            " block6c_expand_bn (BatchNormal  (None, None, None,   4608       ['block6c_expand_conv[0][0]']    \n",
            " ization)                       1152)                                                             \n",
            "                                                                                                  \n",
            " block6c_expand_activation (Act  (None, None, None,   0          ['block6c_expand_bn[0][0]']      \n",
            " ivation)                       1152)                                                             \n",
            "                                                                                                  \n",
            " block6c_dwconv (DepthwiseConv2  (None, None, None,   28800      ['block6c_expand_activation[0][0]\n",
            " D)                             1152)                            ']                               \n",
            "                                                                                                  \n",
            " block6c_bn (BatchNormalization  (None, None, None,   4608       ['block6c_dwconv[0][0]']         \n",
            " )                              1152)                                                             \n",
            "                                                                                                  \n",
            " block6c_activation (Activation  (None, None, None,   0          ['block6c_bn[0][0]']             \n",
            " )                              1152)                                                             \n",
            "                                                                                                  \n",
            " block6c_se_squeeze (GlobalAver  (None, 1152)        0           ['block6c_activation[0][0]']     \n",
            " agePooling2D)                                                                                    \n",
            "                                                                                                  \n",
            " block6c_se_reshape (Reshape)   (None, 1, 1, 1152)   0           ['block6c_se_squeeze[0][0]']     \n",
            "                                                                                                  \n",
            " block6c_se_reduce (Conv2D)     (None, 1, 1, 48)     55344       ['block6c_se_reshape[0][0]']     \n",
            "                                                                                                  \n",
            " block6c_se_expand (Conv2D)     (None, 1, 1, 1152)   56448       ['block6c_se_reduce[0][0]']      \n",
            "                                                                                                  \n",
            " block6c_se_excite (Multiply)   (None, None, None,   0           ['block6c_activation[0][0]',     \n",
            "                                1152)                             'block6c_se_expand[0][0]']      \n",
            "                                                                                                  \n",
            " block6c_project_conv (Conv2D)  (None, None, None,   221184      ['block6c_se_excite[0][0]']      \n",
            "                                192)                                                              \n",
            "                                                                                                  \n",
            " block6c_project_bn (BatchNorma  (None, None, None,   768        ['block6c_project_conv[0][0]']   \n",
            " lization)                      192)                                                              \n",
            "                                                                                                  \n",
            " block6c_drop (Dropout)         (None, None, None,   0           ['block6c_project_bn[0][0]']     \n",
            "                                192)                                                              \n",
            "                                                                                                  \n",
            " block6c_add (Add)              (None, None, None,   0           ['block6c_drop[0][0]',           \n",
            "                                192)                              'block6b_add[0][0]']            \n",
            "                                                                                                  \n",
            " block6d_expand_conv (Conv2D)   (None, None, None,   221184      ['block6c_add[0][0]']            \n",
            "                                1152)                                                             \n",
            "                                                                                                  \n",
            " block6d_expand_bn (BatchNormal  (None, None, None,   4608       ['block6d_expand_conv[0][0]']    \n",
            " ization)                       1152)                                                             \n",
            "                                                                                                  \n",
            " block6d_expand_activation (Act  (None, None, None,   0          ['block6d_expand_bn[0][0]']      \n",
            " ivation)                       1152)                                                             \n",
            "                                                                                                  \n",
            " block6d_dwconv (DepthwiseConv2  (None, None, None,   28800      ['block6d_expand_activation[0][0]\n",
            " D)                             1152)                            ']                               \n",
            "                                                                                                  \n",
            " block6d_bn (BatchNormalization  (None, None, None,   4608       ['block6d_dwconv[0][0]']         \n",
            " )                              1152)                                                             \n",
            "                                                                                                  \n",
            " block6d_activation (Activation  (None, None, None,   0          ['block6d_bn[0][0]']             \n",
            " )                              1152)                                                             \n",
            "                                                                                                  \n",
            " block6d_se_squeeze (GlobalAver  (None, 1152)        0           ['block6d_activation[0][0]']     \n",
            " agePooling2D)                                                                                    \n",
            "                                                                                                  \n",
            " block6d_se_reshape (Reshape)   (None, 1, 1, 1152)   0           ['block6d_se_squeeze[0][0]']     \n",
            "                                                                                                  \n",
            " block6d_se_reduce (Conv2D)     (None, 1, 1, 48)     55344       ['block6d_se_reshape[0][0]']     \n",
            "                                                                                                  \n",
            " block6d_se_expand (Conv2D)     (None, 1, 1, 1152)   56448       ['block6d_se_reduce[0][0]']      \n",
            "                                                                                                  \n",
            " block6d_se_excite (Multiply)   (None, None, None,   0           ['block6d_activation[0][0]',     \n",
            "                                1152)                             'block6d_se_expand[0][0]']      \n",
            "                                                                                                  \n",
            " block6d_project_conv (Conv2D)  (None, None, None,   221184      ['block6d_se_excite[0][0]']      \n",
            "                                192)                                                              \n",
            "                                                                                                  \n",
            " block6d_project_bn (BatchNorma  (None, None, None,   768        ['block6d_project_conv[0][0]']   \n",
            " lization)                      192)                                                              \n",
            "                                                                                                  \n",
            " block6d_drop (Dropout)         (None, None, None,   0           ['block6d_project_bn[0][0]']     \n",
            "                                192)                                                              \n",
            "                                                                                                  \n",
            " block6d_add (Add)              (None, None, None,   0           ['block6d_drop[0][0]',           \n",
            "                                192)                              'block6c_add[0][0]']            \n",
            "                                                                                                  \n",
            " block7a_expand_conv (Conv2D)   (None, None, None,   221184      ['block6d_add[0][0]']            \n",
            "                                1152)                                                             \n",
            "                                                                                                  \n",
            " block7a_expand_bn (BatchNormal  (None, None, None,   4608       ['block7a_expand_conv[0][0]']    \n",
            " ization)                       1152)                                                             \n",
            "                                                                                                  \n",
            " block7a_expand_activation (Act  (None, None, None,   0          ['block7a_expand_bn[0][0]']      \n",
            " ivation)                       1152)                                                             \n",
            "                                                                                                  \n",
            " block7a_dwconv (DepthwiseConv2  (None, None, None,   10368      ['block7a_expand_activation[0][0]\n",
            " D)                             1152)                            ']                               \n",
            "                                                                                                  \n",
            " block7a_bn (BatchNormalization  (None, None, None,   4608       ['block7a_dwconv[0][0]']         \n",
            " )                              1152)                                                             \n",
            "                                                                                                  \n",
            " block7a_activation (Activation  (None, None, None,   0          ['block7a_bn[0][0]']             \n",
            " )                              1152)                                                             \n",
            "                                                                                                  \n",
            " block7a_se_squeeze (GlobalAver  (None, 1152)        0           ['block7a_activation[0][0]']     \n",
            " agePooling2D)                                                                                    \n",
            "                                                                                                  \n",
            " block7a_se_reshape (Reshape)   (None, 1, 1, 1152)   0           ['block7a_se_squeeze[0][0]']     \n",
            "                                                                                                  \n",
            " block7a_se_reduce (Conv2D)     (None, 1, 1, 48)     55344       ['block7a_se_reshape[0][0]']     \n",
            "                                                                                                  \n",
            " block7a_se_expand (Conv2D)     (None, 1, 1, 1152)   56448       ['block7a_se_reduce[0][0]']      \n",
            "                                                                                                  \n",
            " block7a_se_excite (Multiply)   (None, None, None,   0           ['block7a_activation[0][0]',     \n",
            "                                1152)                             'block7a_se_expand[0][0]']      \n",
            "                                                                                                  \n",
            " block7a_project_conv (Conv2D)  (None, None, None,   368640      ['block7a_se_excite[0][0]']      \n",
            "                                320)                                                              \n",
            "                                                                                                  \n",
            " block7a_project_bn (BatchNorma  (None, None, None,   1280       ['block7a_project_conv[0][0]']   \n",
            " lization)                      320)                                                              \n",
            "                                                                                                  \n",
            " top_conv (Conv2D)              (None, None, None,   409600      ['block7a_project_bn[0][0]']     \n",
            "                                1280)                                                             \n",
            "                                                                                                  \n",
            " top_bn (BatchNormalization)    (None, None, None,   5120        ['top_conv[0][0]']               \n",
            "                                1280)                                                             \n",
            "                                                                                                  \n",
            " top_activation (Activation)    (None, None, None,   0           ['top_bn[0][0]']                 \n",
            "                                1280)                                                             \n",
            "                                                                                                  \n",
            "==================================================================================================\n",
            "Total params: 4,049,571\n",
            "Trainable params: 0\n",
            "Non-trainable params: 4,049,571\n",
            "__________________________________________________________________________________________________\n"
          ]
        }
      ]
    },
    {
      "cell_type": "code",
      "source": [
        "# Check out our model's training curves \n",
        "plot_loss_curves(history_10_percent)"
      ],
      "metadata": {
        "colab": {
          "base_uri": "https://localhost:8080/",
          "height": 573
        },
        "id": "5yOaVCPKs8qV",
        "outputId": "1c3f7388-79f4-4192-9a8c-77c37723c487"
      },
      "execution_count": null,
      "outputs": [
        {
          "output_type": "display_data",
          "data": {
            "image/png": "[encoded data removed]",
            "text/plain": [
              "<Figure size 432x288 with 1 Axes>"
            ]
          },
          "metadata": {
            "needs_background": "light"
          }
        },
        {
          "output_type": "display_data",
          "data": {
            "image/png": "[encoded data removed]",
            "text/plain": [
              "<Figure size 432x288 with 1 Axes>"
            ]
          },
          "metadata": {
            "needs_background": "light"
          }
        }
      ]
    },
    {
      "cell_type": "markdown",
      "source": [
        "# Getting a feature vector from a trained model\n",
        "\n",
        "Lets demonstrate the Global Average Pooling 2D layers...\n",
        "\n",
        "We have a tensor after our model goes through \"base_model\" of shape(None,7,7,1280)...\n",
        "\n",
        "But when it passes through GlobalAveragePooling2D, it turns into (None , 1280)\n"
      ],
      "metadata": {
        "id": "UYGRApqVtli5"
      }
    },
    {
      "cell_type": "code",
      "source": [
        "# Define the input shape\n",
        "input_shape = (1,4,4,3)\n",
        "# Create a random tensor\n",
        "tf.random.set_seed(42)\n",
        "input_tensor = tf.random.normal(input_shape)\n",
        "print(f\"Random input tensor:\\n {input_tensor}\\n\")\n",
        "# Pass the random tensor through a global average pooling 2D layers\n",
        "global_average_pooled_tensor = tf.keras.layers.GlobalAveragePooling2D()(input_tensor)\n",
        "print(f\"2D global average pooled random tensor:\\n {global_average_pooled_tensor}\\n\")\n",
        "# check the shape of the dofferent tensors\n",
        "print(f\"Shape of the input tensor: {input_tensor.shape}\")\n",
        "print(f\"Shape of Global Average Pooled 2D tensor: {global_average_pooled_tensor.shape}\")"
      ],
      "metadata": {
        "colab": {
          "base_uri": "https://localhost:8080/"
        },
        "id": "875sfeQTtY7h",
        "outputId": "1cba1591-3714-4584-95d6-269a6141619d"
      },
      "execution_count": null,
      "outputs": [
        {
          "output_type": "stream",
          "name": "stdout",
          "text": [
            "Random input tensor:\n",
            " [[[[ 0.3274685  -0.8426258   0.3194337 ]\n",
            "   [-1.4075519  -2.3880599  -1.0392479 ]\n",
            "   [-0.5573232   0.539707    1.6994323 ]\n",
            "   [ 0.28893656 -1.5066116  -0.2645474 ]]\n",
            "\n",
            "  [[-0.59722406 -1.9171132  -0.62044144]\n",
            "   [ 0.8504023  -0.40604794 -3.0258412 ]\n",
            "   [ 0.9058464   0.29855987 -0.22561555]\n",
            "   [-0.7616443  -1.8917141  -0.93847126]]\n",
            "\n",
            "  [[ 0.77852213 -0.47338897  0.97772694]\n",
            "   [ 0.24694404  0.20573747 -0.5256233 ]\n",
            "   [ 0.32410017  0.02545409 -0.10638497]\n",
            "   [-0.6369475   1.1603122   0.2507359 ]]\n",
            "\n",
            "  [[-0.41728503  0.4012578  -1.4145443 ]\n",
            "   [-0.5931857  -1.6617213   0.33567193]\n",
            "   [ 0.10815629  0.23479682 -0.56668764]\n",
            "   [-0.35819843  0.88698614  0.52744764]]]]\n",
            "\n",
            "2D global average pooled random tensor:\n",
            " [[-0.09368646 -0.45840448 -0.2885598 ]]\n",
            "\n",
            "Shape of the input tensor: (1, 4, 4, 3)\n",
            "Shape of Global Average Pooled 2D tensor: (1, 3)\n"
          ]
        }
      ]
    },
    {
      "cell_type": "code",
      "source": [
        "# Let's replicate the GlobalAveragePool2D layer\n",
        "tf.reduce_mean(input_tensor, axis=[1,2])"
      ],
      "metadata": {
        "colab": {
          "base_uri": "https://localhost:8080/"
        },
        "id": "LL8GVrDStYWn",
        "outputId": "855b383c-5e9e-46ca-c72b-9bec31f83cd5"
      },
      "execution_count": null,
      "outputs": [
        {
          "output_type": "execute_result",
          "data": {
            "text/plain": [
              "<tf.Tensor: shape=(1, 3), dtype=float32, numpy=array([[-0.09368646, -0.45840448, -0.2885598 ]], dtype=float32)>"
            ]
          },
          "metadata": {},
          "execution_count": 22
        }
      ]
    },
    {
      "cell_type": "markdown",
      "source": [
        "## Running a series of transfer learning experiments\n",
        "\n",
        "from 10% to 1% of training data\n",
        "1. **model_1** : use feature extraction transfer learning with 1% of the training data with data augmentation\n",
        "\n",
        "2. **model_2** : use feature extraction transfer learning with 10% of the training with the data augmentation\n",
        "\n",
        "3. **model_3** : use fine-tuning trasnsfer learning on 10% of the training data with data augmentation\n",
        "\n",
        "4. **model_4** : use fine-tuning trasfer learning in 100% of the training data with data augmentation\n",
        "\n",
        "**Note:** same datasets will be use "
      ],
      "metadata": {
        "id": "3MqbePYN5_nz"
      }
    },
    {
      "cell_type": "code",
      "source": [
        "# Download and unzip data - preprocessed from Food101\n",
        "!wget https://storage.googleapis.com/ztm_tf_course/food_vision/10_food_classes_1_percent.zip"
      ],
      "metadata": {
        "colab": {
          "base_uri": "https://localhost:8080/"
        },
        "id": "x8bSL3Ov8GCJ",
        "outputId": "6a5d8bab-4976-42f9-d3f7-f13ea52d28ed"
      },
      "execution_count": null,
      "outputs": [
        {
          "output_type": "stream",
          "name": "stdout",
          "text": [
            "--2022-02-09 21:46:35--  https://storage.googleapis.com/ztm_tf_course/food_vision/10_food_classes_1_percent.zip\n",
            "Resolving storage.googleapis.com (storage.googleapis.com)... 142.250.148.128, 74.125.129.128, 209.85.234.128, ...\n",
            "Connecting to storage.googleapis.com (storage.googleapis.com)|142.250.148.128|:443... connected.\n",
            "HTTP request sent, awaiting response... 200 OK\n",
            "Length: 133612354 (127M) [application/zip]\n",
            "Saving to: ‘10_food_classes_1_percent.zip’\n",
            "\n",
            "10_food_classes_1_p 100%[===================>] 127.42M  88.8MB/s    in 1.4s    \n",
            "\n",
            "2022-02-09 21:46:37 (88.8 MB/s) - ‘10_food_classes_1_percent.zip’ saved [133612354/133612354]\n",
            "\n"
          ]
        }
      ]
    },
    {
      "cell_type": "code",
      "source": [
        "unzip_data(\"/content/10_food_classes_10_percent.zip\")"
      ],
      "metadata": {
        "id": "96kH7XQ88F7z"
      },
      "execution_count": null,
      "outputs": []
    },
    {
      "cell_type": "code",
      "source": [
        "# Create training and test dirs\n",
        "train_dir_1_percent = \"10_food_classes_1_percent/train\"\n",
        "test_dir = \"10_food_classes_1_percent/test\""
      ],
      "metadata": {
        "id": "H2Hwh-Hz8Fyx"
      },
      "execution_count": null,
      "outputs": []
    },
    {
      "cell_type": "code",
      "source": [
        "# How many images are we working with?\n",
        "walk_through_dir(\"10_food_classes_1_percent/\")"
      ],
      "metadata": {
        "id": "yttLbr1Y8Fsi",
        "colab": {
          "base_uri": "https://localhost:8080/"
        },
        "outputId": "4685b1bb-18c8-4ccc-a3eb-5b139d49dfb5"
      },
      "execution_count": null,
      "outputs": [
        {
          "output_type": "stream",
          "name": "stdout",
          "text": [
            "There are 2 directories and 0 images in '10_food_classes_1_percent/'.\n",
            "There are 10 directories and 0 images in '10_food_classes_1_percent/test'.\n",
            "There are 0 directories and 250 images in '10_food_classes_1_percent/test/fried_rice'.\n",
            "There are 0 directories and 250 images in '10_food_classes_1_percent/test/steak'.\n",
            "There are 0 directories and 250 images in '10_food_classes_1_percent/test/chicken_curry'.\n",
            "There are 0 directories and 250 images in '10_food_classes_1_percent/test/pizza'.\n",
            "There are 0 directories and 250 images in '10_food_classes_1_percent/test/hamburger'.\n",
            "There are 0 directories and 250 images in '10_food_classes_1_percent/test/ramen'.\n",
            "There are 0 directories and 250 images in '10_food_classes_1_percent/test/chicken_wings'.\n",
            "There are 0 directories and 250 images in '10_food_classes_1_percent/test/ice_cream'.\n",
            "There are 0 directories and 250 images in '10_food_classes_1_percent/test/sushi'.\n",
            "There are 0 directories and 250 images in '10_food_classes_1_percent/test/grilled_salmon'.\n",
            "There are 10 directories and 0 images in '10_food_classes_1_percent/train'.\n",
            "There are 0 directories and 7 images in '10_food_classes_1_percent/train/fried_rice'.\n",
            "There are 0 directories and 7 images in '10_food_classes_1_percent/train/steak'.\n",
            "There are 0 directories and 7 images in '10_food_classes_1_percent/train/chicken_curry'.\n",
            "There are 0 directories and 7 images in '10_food_classes_1_percent/train/pizza'.\n",
            "There are 0 directories and 7 images in '10_food_classes_1_percent/train/hamburger'.\n",
            "There are 0 directories and 7 images in '10_food_classes_1_percent/train/ramen'.\n",
            "There are 0 directories and 7 images in '10_food_classes_1_percent/train/chicken_wings'.\n",
            "There are 0 directories and 7 images in '10_food_classes_1_percent/train/ice_cream'.\n",
            "There are 0 directories and 7 images in '10_food_classes_1_percent/train/sushi'.\n",
            "There are 0 directories and 7 images in '10_food_classes_1_percent/train/grilled_salmon'.\n"
          ]
        }
      ]
    },
    {
      "cell_type": "markdown",
      "source": [
        "## Getting and preprocessing data for model_1"
      ],
      "metadata": {
        "id": "gE8seg5hdSke"
      }
    },
    {
      "cell_type": "code",
      "source": [
        "import tensorflow as tf"
      ],
      "metadata": {
        "id": "MAoU-EyRfKxq"
      },
      "execution_count": null,
      "outputs": []
    },
    {
      "cell_type": "code",
      "source": [
        "# Setup data loader\n",
        "IMG_SIZE = (224,224)\n",
        "BATCH_SIZE = 32\n",
        "train_data_1_percent = tf.keras.preprocessing.image_dataset_from_directory(train_dir_1_percent,\n",
        "                                                                           label_mode = \"categorical\",\n",
        "                                                                           image_size=IMG_SIZE,\n",
        "                                                                           batch_size=32) # default\n",
        "\n",
        "test_data = tf.keras.preprocessing.image_dataset_from_directory(test_dir,\n",
        "                                                                label_mode=\"categorical\",\n",
        "                                                                image_size=IMG_SIZE,\n",
        "                                                                batch_size=BATCH_SIZE)"
      ],
      "metadata": {
        "id": "oTlG1THC4F8d",
        "colab": {
          "base_uri": "https://localhost:8080/"
        },
        "outputId": "2c6f4510-886a-4969-9a40-002d2ac13084"
      },
      "execution_count": null,
      "outputs": [
        {
          "output_type": "stream",
          "name": "stdout",
          "text": [
            "Found 70 files belonging to 10 classes.\n",
            "Found 2500 files belonging to 10 classes.\n"
          ]
        }
      ]
    },
    {
      "cell_type": "markdown",
      "source": [
        "## Adding data augmentation right into the model\n",
        "\n",
        "To add data augmentation right into our models, we can use the layers inside:\n",
        "\n",
        "* `tf.keras.layers.experimental.preprocessing()`\n",
        "* "
      ],
      "metadata": {
        "id": "shDnJKjvg7tv"
      }
    },
    {
      "cell_type": "code",
      "source": [
        "import tensorflow as tf\n",
        "from tensorflow import keras\n",
        "from tensorflow.keras import layers\n",
        "from tensorflow.keras.layers.experimental import preprocessing"
      ],
      "metadata": {
        "id": "YyrhcIkqght5"
      },
      "execution_count": null,
      "outputs": []
    },
    {
      "cell_type": "code",
      "source": [
        "# Create data augmentation stage with horizontal flipping, rotations, zooms, etc\n",
        "data_augmentation = keras.Sequential([\n",
        "   preprocessing.RandomFlip(\"horizontal\"),\n",
        "   preprocessing.RandomRotation(0.2),\n",
        "   preprocessing.RandomZoom(0.2),\n",
        "   preprocessing.RandomHeight(0.2),\n",
        "   preprocessing.RandomWidth(0.2),\n",
        "# preprocessing.Rescale(1./255), # Keep for models like ResNet50V2 \n",
        "# but EfficientNet is having build-in rescaling \n",
        "],   name=\"data_augmentation\"\n",
        ")"
      ],
      "metadata": {
        "id": "5iFBl0lBidaw"
      },
      "execution_count": null,
      "outputs": []
    },
    {
      "cell_type": "markdown",
      "source": [
        "Visualize our data augmentation layer (and see what happens to our data)"
      ],
      "metadata": {
        "id": "ekuKRuX164we"
      }
    },
    {
      "cell_type": "code",
      "source": [
        "# View a random image and compare it to it's augmented version\n",
        "import matplotlib.pyplot as plt\n",
        "import matplotlib.image as mpimg\n",
        "import os\n",
        "import random\n"
      ],
      "metadata": {
        "id": "KZb3BUBb4yGr"
      },
      "execution_count": null,
      "outputs": []
    },
    {
      "cell_type": "markdown",
      "source": [
        "`tf.keras.layers.experimental.preprocessing.RandomZoom`"
      ],
      "metadata": {
        "id": "BcjVojWml388"
      }
    },
    {
      "cell_type": "markdown",
      "source": [
        "## Adding data augmentation right into the model\n",
        "* `tf.keras.layers.experimental.preprocessing()`"
      ],
      "metadata": {
        "id": "ZoJXRxNFqSMz"
      }
    },
    {
      "cell_type": "code",
      "source": [
        "train_data_1_percent.class_names"
      ],
      "metadata": {
        "colab": {
          "base_uri": "https://localhost:8080/"
        },
        "id": "QjgjieOn4xrs",
        "outputId": "d66eddd4-bc1c-4894-d9b6-f1fbe9406800"
      },
      "execution_count": null,
      "outputs": [
        {
          "output_type": "execute_result",
          "data": {
            "text/plain": [
              "['chicken_curry',\n",
              " 'chicken_wings',\n",
              " 'fried_rice',\n",
              " 'grilled_salmon',\n",
              " 'hamburger',\n",
              " 'ice_cream',\n",
              " 'pizza',\n",
              " 'ramen',\n",
              " 'steak',\n",
              " 'sushi']"
            ]
          },
          "metadata": {},
          "execution_count": 32
        }
      ]
    },
    {
      "cell_type": "code",
      "source": [
        "target_class = random.choice(train_data_1_percent.class_names)\n",
        "target_dir = \"/content/10_food_classes_1_percent/train/\" + \n",
        "               target_class \n",
        "target_dir\n",
        "random_image=random.choice(os.listdir(target_dir))\n",
        "random_image_path = target_dir + \"/\" + random_image\n",
        "print(random_image)\n",
        "# Read in the random image\n",
        "print(random_image_path)\n",
        "img = mpimg.imread(random_image_path) \n",
        "plt.imshow(img)\n",
        "plt.title(f\"random image from class : {target_class}\")\n",
        "plt.axis(False)\n",
        "#print(img)\n",
        "# Let's plot our augmented random image\n",
        "augmentaed_img = data_augmentation(img)\n",
        "plt.figure()\n",
        "augmentaed_img = data_augmentation(tf.expand_dims(img, axis=0))\n",
        "plt.imshow(tf.squeeze(augmentaed_img)/255.)\n",
        "plt.title(f\"augmented image from class : {target_class}\")\n",
        "plt.axis(False)"
      ],
      "metadata": {
        "colab": {
          "base_uri": "https://localhost:8080/",
          "height": 130
        },
        "id": "of3W3eg191iP",
        "outputId": "85cdb831-2e01-4cc1-9beb-c45f32d85bd3"
      },
      "execution_count": null,
      "outputs": [
        {
          "output_type": "error",
          "ename": "SyntaxError",
          "evalue": "ignored",
          "traceback": [
            "\u001b[0;36m  File \u001b[0;32m\"<ipython-input-1-3b12007ac83b>\"\u001b[0;36m, line \u001b[0;32m2\u001b[0m\n\u001b[0;31m    target_dir = \"/content/10_food_classes_1_percent/train/\" +\u001b[0m\n\u001b[0m                                                               ^\u001b[0m\n\u001b[0;31mSyntaxError\u001b[0m\u001b[0;31m:\u001b[0m invalid syntax\n"
          ]
        }
      ]
    },
    {
      "cell_type": "markdown",
      "source": [
        "Model 1 : Feature extraction transfer learning on 1% of the data with data augmentation"
      ],
      "metadata": {
        "id": "b0QnPmL1EaOq"
      }
    },
    {
      "cell_type": "code",
      "source": [
        "# 1. Setup input shape and base model, freezing the base model layers\n",
        "input_shape = (224,224,3)\n",
        "base_model = tf.keras.applications.EfficientNetB0(include_top=False)\n",
        "base_model.trainable = False\n",
        "\n",
        "# 2. Create input layer\n",
        "inputs = layers.Input(shape=input_shape, name=\"input_layer\")\n",
        "\n",
        "# 3. Add in data augmentation Sequential model as a layer\n",
        "x = data_augmentation(inputs)\n",
        "\n",
        "# 4. Give base_model the inputs (after augmentation) and don't train it\n",
        "x = base_model(x, training=False)\n",
        "\n",
        "# 5. Pool output features of the base model\n",
        "x = layers.GlobalAveragePooling2D(name=\"global_average_pooling_layer\")(x)\n",
        "\n",
        "# 6. Put a dense layer on as the output\n",
        "outputs = layers.Dense(10, activation=\"softmax\", name=\"output_layers\")(x)\n",
        "\n",
        "# 7. Make a model using the inputs and outputs\n",
        "model_1 = keras.Model(inputs,outputs)\n",
        "\n",
        "# 8. Compile the model\n",
        "model_1.compile(loss=\"categorical_crossentropy\",\n",
        "                optimizer=tf.keras.optimizers.Adam(),\n",
        "                metrics=[\"accuracy\"])\n",
        "\n",
        "# 9. Fit the model\n",
        "history_1_percent = model_1.fit(train_data_1_percent,\n",
        "                                epochs=5,\n",
        "                                steps_per_epoch=len(train_data_1_percent),\n",
        "                                validation_data=test_data,\n",
        "                                validation_steps=int(0.25*len(test_data)),\n",
        "                                # Track model training logs\n",
        "                                callbacks=[create_tensorboard_callback(\n",
        "                                    dir_name=\"transfer_learning\",\n",
        "                                    experiment_name=\"1_percent_data_aug\")])"
      ],
      "metadata": {
        "colab": {
          "base_uri": "https://localhost:8080/"
        },
        "id": "NotRg2QZCLHs",
        "outputId": "8143a109-7148-478c-8954-150399134426"
      },
      "execution_count": null,
      "outputs": [
        {
          "output_type": "stream",
          "name": "stdout",
          "text": [
            "WARNING:tensorflow:Model was constructed with shape (None, 512, 3) for input KerasTensor(type_spec=TensorSpec(shape=(None, 512, 3), dtype=tf.uint8, name='random_flip_2_input'), name='random_flip_2_input', description=\"created by layer 'random_flip_2_input'\"), but it was called on an input with incompatible shape (None, 224, 224, 3).\n",
            "Saving TensorBoard log files to: transfer_learning/1_percent_data_aug/20220209-063851\n"
          ]
        },
        {
          "output_type": "stream",
          "name": "stderr",
          "text": [
            "/usr/local/lib/python3.7/dist-packages/keras/engine/functional.py:1410: CustomMaskWarning: Custom mask layers require a config and must override get_config. When loading, the custom mask layer must be passed to the custom_objects argument.\n",
            "  layer_config = serialize_layer_fn(layer)\n"
          ]
        },
        {
          "output_type": "stream",
          "name": "stdout",
          "text": [
            "Epoch 1/5\n",
            "WARNING:tensorflow:Model was constructed with shape (None, 512, 3) for input KerasTensor(type_spec=TensorSpec(shape=(None, 512, 3), dtype=tf.uint8, name='random_flip_2_input'), name='random_flip_2_input', description=\"created by layer 'random_flip_2_input'\"), but it was called on an input with incompatible shape (None, 224, 224, 3).\n",
            "WARNING:tensorflow:Model was constructed with shape (None, 512, 3) for input KerasTensor(type_spec=TensorSpec(shape=(None, 512, 3), dtype=tf.uint8, name='random_flip_2_input'), name='random_flip_2_input', description=\"created by layer 'random_flip_2_input'\"), but it was called on an input with incompatible shape (None, 224, 224, 3).\n",
            "3/3 [==============================] - ETA: 0s - loss: 2.3964 - accuracy: 0.1000WARNING:tensorflow:Model was constructed with shape (None, 512, 3) for input KerasTensor(type_spec=TensorSpec(shape=(None, 512, 3), dtype=tf.uint8, name='random_flip_2_input'), name='random_flip_2_input', description=\"created by layer 'random_flip_2_input'\"), but it was called on an input with incompatible shape (None, 224, 224, 3).\n",
            "3/3 [==============================] - 61s 22s/step - loss: 2.3964 - accuracy: 0.1000 - val_loss: 2.3352 - val_accuracy: 0.0806\n",
            "Epoch 2/5\n",
            "3/3 [==============================] - 45s 21s/step - loss: 2.1746 - accuracy: 0.2000 - val_loss: 2.2310 - val_accuracy: 0.1349\n",
            "Epoch 3/5\n",
            "3/3 [==============================] - 45s 21s/step - loss: 2.0122 - accuracy: 0.3571 - val_loss: 2.1153 - val_accuracy: 0.2007\n",
            "Epoch 4/5\n",
            "3/3 [==============================] - 44s 21s/step - loss: 1.7468 - accuracy: 0.6000 - val_loss: 1.9923 - val_accuracy: 0.3141\n",
            "Epoch 5/5\n",
            "3/3 [==============================] - 45s 21s/step - loss: 1.6646 - accuracy: 0.6000 - val_loss: 1.9020 - val_accuracy: 0.3882\n"
          ]
        }
      ]
    },
    {
      "cell_type": "code",
      "source": [
        ""
      ],
      "metadata": {
        "id": "qOZC88CYZR_g"
      },
      "execution_count": null,
      "outputs": []
    },
    {
      "cell_type": "code",
      "source": [
        "target_class"
      ],
      "metadata": {
        "colab": {
          "base_uri": "https://localhost:8080/",
          "height": 35
        },
        "id": "zcttvmue8Y3D",
        "outputId": "f3e67ef0-d972-4bed-c4d7-76dcad9ac171"
      },
      "execution_count": null,
      "outputs": [
        {
          "output_type": "execute_result",
          "data": {
            "application/vnd.google.colaboratory.intrinsic+json": {
              "type": "string"
            },
            "text/plain": [
              "'fried_rice'"
            ]
          },
          "metadata": {},
          "execution_count": 34
        }
      ]
    },
    {
      "cell_type": "code",
      "source": [
        "target_dir"
      ],
      "metadata": {
        "colab": {
          "base_uri": "https://localhost:8080/",
          "height": 35
        },
        "id": "irgVdKg98cZ9",
        "outputId": "f2a9b05b-955d-4be9-9315-a4560aae5ee7"
      },
      "execution_count": null,
      "outputs": [
        {
          "output_type": "execute_result",
          "data": {
            "application/vnd.google.colaboratory.intrinsic+json": {
              "type": "string"
            },
            "text/plain": [
              "'/content/10_food_classes_1_percent/train/fried_rice'"
            ]
          },
          "metadata": {},
          "execution_count": 35
        }
      ]
    },
    {
      "cell_type": "markdown",
      "source": [
        "# Model 2: \n",
        "\n",
        "> Feature extraction transfer learning model with 10% of data and data augmentation"
      ],
      "metadata": {
        "id": "OHUR126vdWwb"
      }
    },
    {
      "cell_type": "code",
      "source": [
        "# Get the 10%of the data .....\n",
        "!wget https://storage.googleapis.com/ztm_tf_course/food_vision/10_food_classes_10_percent.zip\n"
      ],
      "metadata": {
        "id": "o87Bryt3dCnB",
        "colab": {
          "base_uri": "https://localhost:8080/"
        },
        "outputId": "532108c9-a427-4b84-da1a-59a27b0ba81e"
      },
      "execution_count": null,
      "outputs": [
        {
          "output_type": "stream",
          "name": "stdout",
          "text": [
            "--2022-02-15 02:00:27--  https://storage.googleapis.com/ztm_tf_course/food_vision/10_food_classes_10_percent.zip\n",
            "Resolving storage.googleapis.com (storage.googleapis.com)... 142.250.157.128, 142.251.8.128, 74.125.203.128, ...\n",
            "Connecting to storage.googleapis.com (storage.googleapis.com)|142.250.157.128|:443... connected.\n",
            "HTTP request sent, awaiting response... 200 OK\n",
            "Length: 168546183 (161M) [application/zip]\n",
            "Saving to: ‘10_food_classes_10_percent.zip’\n",
            "\n",
            "10_food_classes_10_ 100%[===================>] 160.74M   214MB/s    in 0.8s    \n",
            "\n",
            "2022-02-15 02:00:28 (214 MB/s) - ‘10_food_classes_10_percent.zip’ saved [168546183/168546183]\n",
            "\n"
          ]
        }
      ]
    },
    {
      "cell_type": "code",
      "source": [
        "unzip_data(\"10_food_classes_10_percent.zip\")"
      ],
      "metadata": {
        "id": "LIPfueJ4dCZA"
      },
      "execution_count": null,
      "outputs": []
    },
    {
      "cell_type": "code",
      "source": [
        "test_dir = \"/content/10_food_classes_10_percent/test/\"\n",
        "train_dir_10_percent = \"/content/10_food_classes_10_percent/train/\""
      ],
      "metadata": {
        "id": "nPY5EkkwdCOm"
      },
      "execution_count": null,
      "outputs": []
    },
    {
      "cell_type": "code",
      "source": [
        "import tensorflow as tf"
      ],
      "metadata": {
        "id": "60BodUxxdCFM"
      },
      "execution_count": null,
      "outputs": []
    },
    {
      "cell_type": "code",
      "source": [
        "IMG_SIZE = (224,224)"
      ],
      "metadata": {
        "id": "ClEKWisviadl"
      },
      "execution_count": null,
      "outputs": []
    },
    {
      "cell_type": "code",
      "source": [
        "# how many images in our directories?\n",
        "walk_through_dir(\"10_food_classes_10_percent\")"
      ],
      "metadata": {
        "colab": {
          "base_uri": "https://localhost:8080/"
        },
        "id": "bjUTUZJMlQcV",
        "outputId": "095cc878-7786-49ce-a457-dfd227b1967b"
      },
      "execution_count": null,
      "outputs": [
        {
          "output_type": "stream",
          "name": "stdout",
          "text": [
            "There are 2 directories and 0 images in '10_food_classes_10_percent'.\n",
            "There are 10 directories and 0 images in '10_food_classes_10_percent/test'.\n",
            "There are 0 directories and 250 images in '10_food_classes_10_percent/test/chicken_wings'.\n",
            "There are 0 directories and 250 images in '10_food_classes_10_percent/test/pizza'.\n",
            "There are 0 directories and 250 images in '10_food_classes_10_percent/test/steak'.\n",
            "There are 0 directories and 250 images in '10_food_classes_10_percent/test/chicken_curry'.\n",
            "There are 0 directories and 250 images in '10_food_classes_10_percent/test/ice_cream'.\n",
            "There are 0 directories and 250 images in '10_food_classes_10_percent/test/ramen'.\n",
            "There are 0 directories and 250 images in '10_food_classes_10_percent/test/fried_rice'.\n",
            "There are 0 directories and 250 images in '10_food_classes_10_percent/test/hamburger'.\n",
            "There are 0 directories and 250 images in '10_food_classes_10_percent/test/sushi'.\n",
            "There are 0 directories and 250 images in '10_food_classes_10_percent/test/grilled_salmon'.\n",
            "There are 10 directories and 0 images in '10_food_classes_10_percent/train'.\n",
            "There are 0 directories and 75 images in '10_food_classes_10_percent/train/chicken_wings'.\n",
            "There are 0 directories and 75 images in '10_food_classes_10_percent/train/pizza'.\n",
            "There are 0 directories and 75 images in '10_food_classes_10_percent/train/steak'.\n",
            "There are 0 directories and 75 images in '10_food_classes_10_percent/train/chicken_curry'.\n",
            "There are 0 directories and 75 images in '10_food_classes_10_percent/train/ice_cream'.\n",
            "There are 0 directories and 75 images in '10_food_classes_10_percent/train/ramen'.\n",
            "There are 0 directories and 75 images in '10_food_classes_10_percent/train/fried_rice'.\n",
            "There are 0 directories and 75 images in '10_food_classes_10_percent/train/hamburger'.\n",
            "There are 0 directories and 75 images in '10_food_classes_10_percent/train/sushi'.\n",
            "There are 0 directories and 75 images in '10_food_classes_10_percent/train/grilled_salmon'.\n"
          ]
        }
      ]
    },
    {
      "cell_type": "code",
      "source": [
        "train_data_10_percent = tf.keras.preprocessing.image_dataset_from_directory(\n",
        "    train_dir_10_percent,\n",
        "    label_mode=\"categorical\",\n",
        "    image_size=IMG_SIZE\n",
        ")\n",
        "test_data = tf.keras.preprocessing.image_dataset_from_directory(\n",
        "    test_dir,\n",
        "    image_size=IMG_SIZE,\n",
        "    label_mode=\"categorical\"\n",
        ")"
      ],
      "metadata": {
        "id": "p-8k4YucdB6L",
        "colab": {
          "base_uri": "https://localhost:8080/"
        },
        "outputId": "de5272f2-fc9a-45a1-cfa6-1406678dda84"
      },
      "execution_count": null,
      "outputs": [
        {
          "output_type": "stream",
          "name": "stdout",
          "text": [
            "Found 750 files belonging to 10 classes.\n",
            "Found 2500 files belonging to 10 classes.\n"
          ]
        }
      ]
    },
    {
      "cell_type": "code",
      "source": [
        "# Create model 2 with data augmentation built in\n",
        "from tensorflow.keras import layers\n",
        "from tensorflow.keras.layers.experimental import preprocessing\n",
        "from tensorflow.keras.models import Sequential "
      ],
      "metadata": {
        "id": "t1yvLVNddBu5"
      },
      "execution_count": null,
      "outputs": []
    },
    {
      "cell_type": "code",
      "source": [
        "# Build data augmentation layer\n",
        "data_augmentation = Sequential([\n",
        "  preprocessing.RandomFlip(\"horizontal\"),\n",
        "  preprocessing.RandomHeight(0.2),\n",
        "  preprocessing.RandomWidth(0.2),\n",
        "  preprocessing.RandomZoom(0.2),\n",
        "  preprocessing.RandomRotation(0.2),\n",
        "  # preprocessing.Rescaling(1./255)\n",
        "  # if you are using model such as ResNet50v2, you will need\n",
        "  # to rescale your data, efficeintnet as rescaling built-in\n",
        "], name=\"data_augmentation\")\n",
        "# data_augmentation.summary()\n",
        "\n",
        "# Setup the inpurt shape to our model\n",
        "input_shape = (224, 224, 3)\n",
        "\n",
        "# Create a frozen base model (also called the backbone)\n",
        "base_model = tf.keras.applications.EfficientNetB0(include_top=False)\n",
        "base_model.trainable = False\n",
        "\n",
        "# Create the input and outputs (including the layers in between)\n",
        "inputs = layers.Input(shape=input_shape, name=\"input_layer\")\n",
        "x = data_augmentation(inputs) # augment our training images\n",
        "# (augmentation doesn't occur on test data)\n",
        "x = base_model(x, training=False) # pass augmented images to base model\n",
        "# in infereance mode, this also insure batchnorms layer doesn't get updated\n",
        "x = layers.GlobalAveragePooling2D(name=\"global_average_pooling_2D\")(x)\n",
        "outputs = layers.Dense(10, activation=\"softmax\", name=\"output_layer\")(x)\n",
        "model_2 = tf.keras.Model(inputs,outputs)\n",
        "\n",
        "# Compile \n",
        "model_2.compile(loss=\"categorical_crossentropy\",\n",
        "                optimizer=tf.keras.optimizers.Adam(),\n",
        "                metrics=[\"accuracy\"])"
      ],
      "metadata": {
        "id": "TjYpRjFZmeYw",
        "colab": {
          "base_uri": "https://localhost:8080/"
        },
        "outputId": "833c543e-e2c8-4b35-ba5e-ed8b7c8c527a"
      },
      "execution_count": null,
      "outputs": [
        {
          "output_type": "stream",
          "name": "stdout",
          "text": [
            "Downloading data from https://storage.googleapis.com/keras-applications/efficientnetb0_notop.h5\n",
            "16711680/16705208 [==============================] - 0s 0us/step\n",
            "16719872/16705208 [==============================] - 0s 0us/step\n"
          ]
        }
      ]
    },
    {
      "cell_type": "code",
      "source": [
        "model_2.summary()"
      ],
      "metadata": {
        "colab": {
          "base_uri": "https://localhost:8080/"
        },
        "id": "w7DCIewhuWyI",
        "outputId": "dbbe6b2d-3a0b-4fff-b0de-c284e6265419"
      },
      "execution_count": null,
      "outputs": [
        {
          "output_type": "stream",
          "name": "stdout",
          "text": [
            "Model: \"model\"\n",
            "_________________________________________________________________\n",
            " Layer (type)                Output Shape              Param #   \n",
            "=================================================================\n",
            " input_layer (InputLayer)    [(None, 224, 224, 3)]     0         \n",
            "                                                                 \n",
            " data_augmentation (Sequenti  (None, None, None, 3)    0         \n",
            " al)                                                             \n",
            "                                                                 \n",
            " efficientnetb0 (Functional)  (None, None, None, 1280)  4049571  \n",
            "                                                                 \n",
            " global_average_pooling_2D (  (None, 1280)             0         \n",
            " GlobalAveragePooling2D)                                         \n",
            "                                                                 \n",
            " output_layer (Dense)        (None, 10)                12810     \n",
            "                                                                 \n",
            "=================================================================\n",
            "Total params: 4,062,381\n",
            "Trainable params: 12,810\n",
            "Non-trainable params: 4,049,571\n",
            "_________________________________________________________________\n"
          ]
        }
      ]
    },
    {
      "cell_type": "markdown",
      "source": [
        "# What are callbacks ?\n",
        ">\n",
        "* Callbacks are a tool which can add helpful functionality to your models during training, evaluation or inferance \n",
        "\n",
        "> TensorBoard \n",
        "* `tf.keras.callbacks.TensorBoard()`\n",
        "\n",
        "> Model Checkpoinint \n",
        "* `tf.keras.callbacks.ModelCheckpoint()`\n",
        "\n",
        "> Early Stopping\n",
        "* `tf.keras.callbacks.EarlyStopping`"
      ],
      "metadata": {
        "id": "1eFCGHm_9X2a"
      }
    },
    {
      "cell_type": "markdown",
      "source": [
        "# Creating a ModelCheckpoint Callback\n",
        "\n",
        "* The ModelCheckpoint callback intermediately saves our model (the full model or just weights) during training.\n",
        " \n",
        "This is useful so we can come and start where we left off"
      ],
      "metadata": {
        "id": "vpKm8OQy_-7N"
      }
    },
    {
      "cell_type": "code",
      "source": [
        "# Set checkpoint path \n",
        "checkpoint_path = \"ten_percent_model_checkpoints_weight/checkpoint.ckpt\"\n",
        "\n",
        "# Create a ModelCheckpoint callback that saves the model's weights only\n",
        "checkpoint_callback = tf.keras.callbacks.ModelCheckpoint(filepath=checkpoint_path,\n",
        "                                                         save_weights_only = True,\n",
        "                                                         save_best_only = False,\n",
        "                                                         save_freq=\"epoch\",\n",
        "                                                         verbose=1)"
      ],
      "metadata": {
        "id": "d5UlGAT5_-K1"
      },
      "execution_count": null,
      "outputs": []
    },
    {
      "cell_type": "markdown",
      "source": [
        "# Fit model 2 passing in the ModelCheckpoint callback"
      ],
      "metadata": {
        "id": "-OT1h2shTZHm"
      }
    },
    {
      "cell_type": "code",
      "source": [
        "# Fit the model saving checkpoints every epoch\n",
        "initial_epochs = 5\n",
        "history_10_percent_data_aug = model_2.fit(train_data_10_percent,\n",
        "                                          epochs=initial_epochs,\n",
        "                                          validation_data=test_data,\n",
        "                                          validation_steps=int(0.25 * len(test_data)),\n",
        "                                          callbacks=[create_tensorboard_callback(dir_name=\"transfer_learning\",\n",
        "                                                      experiment_name=\"10_percent_data_aug\"),\n",
        "                                                     checkpoint_callback])\n"
      ],
      "metadata": {
        "id": "OAwuJoG0TlBL",
        "colab": {
          "base_uri": "https://localhost:8080/"
        },
        "outputId": "27bdefd6-a900-4395-e1b1-7a25fe8ea527"
      },
      "execution_count": null,
      "outputs": [
        {
          "output_type": "stream",
          "name": "stdout",
          "text": [
            "Saving TensorBoard log files to: transfer_learning/10_percent_data_aug/20220215-020037\n",
            "Epoch 1/5\n"
          ]
        },
        {
          "output_type": "stream",
          "name": "stderr",
          "text": [
            "/usr/local/lib/python3.7/dist-packages/keras/engine/functional.py:1410: CustomMaskWarning: Custom mask layers require a config and must override get_config. When loading, the custom mask layer must be passed to the custom_objects argument.\n",
            "  layer_config = serialize_layer_fn(layer)\n"
          ]
        },
        {
          "output_type": "stream",
          "name": "stdout",
          "text": [
            "24/24 [==============================] - ETA: 0s - loss: 2.0689 - accuracy: 0.3027\n",
            "Epoch 00001: saving model to ten_percent_model_checkpoints_weight/checkpoint.ckpt\n",
            "24/24 [==============================] - 39s 796ms/step - loss: 2.0689 - accuracy: 0.3027 - val_loss: 1.5515 - val_accuracy: 0.6168\n",
            "Epoch 2/5\n",
            "24/24 [==============================] - ETA: 0s - loss: 1.3721 - accuracy: 0.6840\n",
            "Epoch 00002: saving model to ten_percent_model_checkpoints_weight/checkpoint.ckpt\n",
            "24/24 [==============================] - 16s 666ms/step - loss: 1.3721 - accuracy: 0.6840 - val_loss: 1.1060 - val_accuracy: 0.7599\n",
            "Epoch 3/5\n",
            "24/24 [==============================] - ETA: 0s - loss: 1.0842 - accuracy: 0.7173\n",
            "Epoch 00003: saving model to ten_percent_model_checkpoints_weight/checkpoint.ckpt\n",
            "24/24 [==============================] - 16s 637ms/step - loss: 1.0842 - accuracy: 0.7173 - val_loss: 0.8916 - val_accuracy: 0.7928\n",
            "Epoch 4/5\n",
            "24/24 [==============================] - ETA: 0s - loss: 0.9212 - accuracy: 0.7613\n",
            "Epoch 00004: saving model to ten_percent_model_checkpoints_weight/checkpoint.ckpt\n",
            "24/24 [==============================] - 17s 679ms/step - loss: 0.9212 - accuracy: 0.7613 - val_loss: 0.7783 - val_accuracy: 0.7928\n",
            "Epoch 5/5\n",
            "24/24 [==============================] - ETA: 0s - loss: 0.8201 - accuracy: 0.7987\n",
            "Epoch 00005: saving model to ten_percent_model_checkpoints_weight/checkpoint.ckpt\n",
            "24/24 [==============================] - 15s 604ms/step - loss: 0.8201 - accuracy: 0.7987 - val_loss: 0.6878 - val_accuracy: 0.8240\n"
          ]
        }
      ]
    },
    {
      "cell_type": "code",
      "source": [
        "# Check model_2 results on all test_data\n",
        "results_10_percent_data_aug = model_2.evaluate(test_data)\n",
        "results_10_percent_data_aug "
      ],
      "metadata": {
        "colab": {
          "base_uri": "https://localhost:8080/"
        },
        "id": "MS8dt4iXuJeG",
        "outputId": "0264a81f-0e40-40d5-908c-401062c9314c"
      },
      "execution_count": null,
      "outputs": [
        {
          "output_type": "stream",
          "name": "stdout",
          "text": [
            "79/79 [==============================] - 12s 143ms/step - loss: 0.6913 - accuracy: 0.8228\n"
          ]
        },
        {
          "output_type": "execute_result",
          "data": {
            "text/plain": [
              "[0.6912581324577332, 0.8227999806404114]"
            ]
          },
          "metadata": {},
          "execution_count": 19
        }
      ]
    },
    {
      "cell_type": "code",
      "source": [
        "# plot model loss curves\n",
        "plot_loss_curves(history_10_percent_data_aug)"
      ],
      "metadata": {
        "colab": {
          "base_uri": "https://localhost:8080/",
          "height": 573
        },
        "id": "34SxINhguJOt",
        "outputId": "47ed190e-ee58-4d4f-df8b-56d92f36737b"
      },
      "execution_count": null,
      "outputs": [
        {
          "output_type": "display_data",
          "data": {
            "image/png": "[encoded data removed]",
            "text/plain": [
              "<Figure size 432x288 with 1 Axes>"
            ]
          },
          "metadata": {
            "needs_background": "light"
          }
        },
        {
          "output_type": "display_data",
          "data": {
            "image/png": "[encoded data removed]",
            "text/plain": [
              "<Figure size 432x288 with 1 Axes>"
            ]
          },
          "metadata": {
            "needs_background": "light"
          }
        }
      ]
    },
    {
      "cell_type": "markdown",
      "source": [
        "## Loading in checkpointed weights\n",
        "Loading in checkpointed weights returns a model to a specifiv checkpoint"
      ],
      "metadata": {
        "id": "DygKCPpqvkZ1"
      }
    },
    {
      "cell_type": "code",
      "source": [
        "# Load in saved model weights and evaluate model\n",
        "model_2.load_weights(checkpoint_path)"
      ],
      "metadata": {
        "colab": {
          "base_uri": "https://localhost:8080/"
        },
        "id": "jsL4WXnsu3Ra",
        "outputId": "09237f4e-961b-41ec-b38e-13ac2a328c11"
      },
      "execution_count": null,
      "outputs": [
        {
          "output_type": "execute_result",
          "data": {
            "text/plain": [
              "<tensorflow.python.training.tracking.util.CheckpointLoadStatus at 0x7fcc3d91d410>"
            ]
          },
          "metadata": {},
          "execution_count": 21
        }
      ]
    },
    {
      "cell_type": "code",
      "source": [
        "checkpoint_path"
      ],
      "metadata": {
        "colab": {
          "base_uri": "https://localhost:8080/",
          "height": 35
        },
        "id": "mMxmjkiWu3Dp",
        "outputId": "d64c5547-5fc2-495d-c1a3-3c0b882923cb"
      },
      "execution_count": null,
      "outputs": [
        {
          "output_type": "execute_result",
          "data": {
            "application/vnd.google.colaboratory.intrinsic+json": {
              "type": "string"
            },
            "text/plain": [
              "'ten_percent_model_checkpoints_weight/checkpoint.ckpt'"
            ]
          },
          "metadata": {},
          "execution_count": 22
        }
      ]
    },
    {
      "cell_type": "code",
      "source": [
        "# Evaluate model_2 with loaded weights\n",
        "loaded_weights_model_results = model_2.evaluate(test_data)"
      ],
      "metadata": {
        "colab": {
          "base_uri": "https://localhost:8080/"
        },
        "id": "EhP0bcyau204",
        "outputId": "4dd7c416-bc5a-4fc6-e7d3-a9e2a7f7c8d6"
      },
      "execution_count": null,
      "outputs": [
        {
          "output_type": "stream",
          "name": "stdout",
          "text": [
            "79/79 [==============================] - 11s 128ms/step - loss: 0.6913 - accuracy: 0.8228\n"
          ]
        }
      ]
    },
    {
      "cell_type": "code",
      "source": [
        "# If the results from our previously evaluated model_2 match the loaded weights,\n",
        "# evereything has worked !\n",
        "results_10_percent_data_aug"
      ],
      "metadata": {
        "colab": {
          "base_uri": "https://localhost:8080/"
        },
        "id": "9ObAoSNKzuRN",
        "outputId": "df48e628-1305-49db-dd11-0a3500c0e656"
      },
      "execution_count": null,
      "outputs": [
        {
          "output_type": "execute_result",
          "data": {
            "text/plain": [
              "[0.6912581324577332, 0.8227999806404114]"
            ]
          },
          "metadata": {},
          "execution_count": 24
        }
      ]
    },
    {
      "cell_type": "code",
      "source": [
        "loaded_weights_model_results"
      ],
      "metadata": {
        "colab": {
          "base_uri": "https://localhost:8080/"
        },
        "id": "pUO5MOLKzt89",
        "outputId": "3af8ef98-9095-4a99-eaf9-8def8c5316d2"
      },
      "execution_count": null,
      "outputs": [
        {
          "output_type": "execute_result",
          "data": {
            "text/plain": [
              "[0.6912583112716675, 0.8227999806404114]"
            ]
          },
          "metadata": {},
          "execution_count": 25
        }
      ]
    },
    {
      "cell_type": "code",
      "source": [
        " # Check to see if loaded model results are very close to our previous non-loaded model\n",
        " import numpy as np\n",
        " np.isclose(np.array(results_10_percent_data_aug), np.array(loaded_weights_model_results))"
      ],
      "metadata": {
        "colab": {
          "base_uri": "https://localhost:8080/"
        },
        "id": "goc2QTqu06DZ",
        "outputId": "bdc036f5-942f-4ff9-c6d0-5cd12afdb598"
      },
      "execution_count": null,
      "outputs": [
        {
          "output_type": "execute_result",
          "data": {
            "text/plain": [
              "array([ True,  True])"
            ]
          },
          "metadata": {},
          "execution_count": 26
        }
      ]
    },
    {
      "cell_type": "code",
      "source": [
        "# Check the differnce between the two results\n",
        "print(np.array(results_10_percent_data_aug) - np.array(loaded_weights_model_results))"
      ],
      "metadata": {
        "colab": {
          "base_uri": "https://localhost:8080/"
        },
        "id": "z7y2CCwN05nC",
        "outputId": "dd847298-7335-4fa7-cdc2-c949c2b59002"
      },
      "execution_count": null,
      "outputs": [
        {
          "output_type": "stream",
          "name": "stdout",
          "text": [
            "[-1.78813934e-07  0.00000000e+00]\n"
          ]
        }
      ]
    },
    {
      "cell_type": "markdown",
      "source": [
        "# Model 3 : Fine-tuning an existing model on 10% of the data\n",
        "\n",
        "> **Note** : Fine-tuning usally works best after training a feature extraction model for epochs with large amount data"
      ],
      "metadata": {
        "id": "yJ8nB0dW2e9m"
      }
    },
    {
      "cell_type": "code",
      "source": [
        "# Layers in loaded model\n",
        "model_2.layers "
      ],
      "metadata": {
        "id": "yHs6X6M905FK",
        "colab": {
          "base_uri": "https://localhost:8080/"
        },
        "outputId": "f231dd85-21fa-4f32-93f6-243be7d2d813"
      },
      "execution_count": null,
      "outputs": [
        {
          "output_type": "execute_result",
          "data": {
            "text/plain": [
              "[<keras.engine.input_layer.InputLayer at 0x7fcd2838b710>,\n",
              " <keras.engine.sequential.Sequential at 0x7fcd2839c610>,\n",
              " <keras.engine.functional.Functional at 0x7fcd27456e10>,\n",
              " <keras.layers.pooling.GlobalAveragePooling2D at 0x7fcd28832950>,\n",
              " <keras.layers.core.dense.Dense at 0x7fcd28832ed0>]"
            ]
          },
          "metadata": {},
          "execution_count": 28
        }
      ]
    },
    {
      "cell_type": "code",
      "source": [
        "# Are these layers trainable?\n",
        "for layer in model_2.layers:\n",
        "   print(layer, layer.trainable)"
      ],
      "metadata": {
        "id": "S6BIWfY60426",
        "colab": {
          "base_uri": "https://localhost:8080/"
        },
        "outputId": "c6664f48-9ec7-474d-e0e6-a7adf79acddb"
      },
      "execution_count": null,
      "outputs": [
        {
          "output_type": "stream",
          "name": "stdout",
          "text": [
            "<keras.engine.input_layer.InputLayer object at 0x7fcd2838b710> True\n",
            "<keras.engine.sequential.Sequential object at 0x7fcd2839c610> True\n",
            "<keras.engine.functional.Functional object at 0x7fcd27456e10> False\n",
            "<keras.layers.pooling.GlobalAveragePooling2D object at 0x7fcd28832950> True\n",
            "<keras.layers.core.dense.Dense object at 0x7fcd28832ed0> True\n"
          ]
        }
      ]
    },
    {
      "cell_type": "code",
      "source": [
        "# What layers are in our base_model (EfficientNetB0) are they trainable? \n",
        "for i,layer in enumerate(model_2.layers[2].layers):\n",
        "  print(i,layer.name, layer.trainable)"
      ],
      "metadata": {
        "id": "5b-hYGGM04pK",
        "colab": {
          "base_uri": "https://localhost:8080/"
        },
        "outputId": "0b58a1b6-9398-4e38-b78f-be2b83ecaac8"
      },
      "execution_count": null,
      "outputs": [
        {
          "output_type": "stream",
          "name": "stdout",
          "text": [
            "0 input_1 False\n",
            "1 rescaling False\n",
            "2 normalization False\n",
            "3 stem_conv_pad False\n",
            "4 stem_conv False\n",
            "5 stem_bn False\n",
            "6 stem_activation False\n",
            "7 block1a_dwconv False\n",
            "8 block1a_bn False\n",
            "9 block1a_activation False\n",
            "10 block1a_se_squeeze False\n",
            "11 block1a_se_reshape False\n",
            "12 block1a_se_reduce False\n",
            "13 block1a_se_expand False\n",
            "14 block1a_se_excite False\n",
            "15 block1a_project_conv False\n",
            "16 block1a_project_bn False\n",
            "17 block2a_expand_conv False\n",
            "18 block2a_expand_bn False\n",
            "19 block2a_expand_activation False\n",
            "20 block2a_dwconv_pad False\n",
            "21 block2a_dwconv False\n",
            "22 block2a_bn False\n",
            "23 block2a_activation False\n",
            "24 block2a_se_squeeze False\n",
            "25 block2a_se_reshape False\n",
            "26 block2a_se_reduce False\n",
            "27 block2a_se_expand False\n",
            "28 block2a_se_excite False\n",
            "29 block2a_project_conv False\n",
            "30 block2a_project_bn False\n",
            "31 block2b_expand_conv False\n",
            "32 block2b_expand_bn False\n",
            "33 block2b_expand_activation False\n",
            "34 block2b_dwconv False\n",
            "35 block2b_bn False\n",
            "36 block2b_activation False\n",
            "37 block2b_se_squeeze False\n",
            "38 block2b_se_reshape False\n",
            "39 block2b_se_reduce False\n",
            "40 block2b_se_expand False\n",
            "41 block2b_se_excite False\n",
            "42 block2b_project_conv False\n",
            "43 block2b_project_bn False\n",
            "44 block2b_drop False\n",
            "45 block2b_add False\n",
            "46 block3a_expand_conv False\n",
            "47 block3a_expand_bn False\n",
            "48 block3a_expand_activation False\n",
            "49 block3a_dwconv_pad False\n",
            "50 block3a_dwconv False\n",
            "51 block3a_bn False\n",
            "52 block3a_activation False\n",
            "53 block3a_se_squeeze False\n",
            "54 block3a_se_reshape False\n",
            "55 block3a_se_reduce False\n",
            "56 block3a_se_expand False\n",
            "57 block3a_se_excite False\n",
            "58 block3a_project_conv False\n",
            "59 block3a_project_bn False\n",
            "60 block3b_expand_conv False\n",
            "61 block3b_expand_bn False\n",
            "62 block3b_expand_activation False\n",
            "63 block3b_dwconv False\n",
            "64 block3b_bn False\n",
            "65 block3b_activation False\n",
            "66 block3b_se_squeeze False\n",
            "67 block3b_se_reshape False\n",
            "68 block3b_se_reduce False\n",
            "69 block3b_se_expand False\n",
            "70 block3b_se_excite False\n",
            "71 block3b_project_conv False\n",
            "72 block3b_project_bn False\n",
            "73 block3b_drop False\n",
            "74 block3b_add False\n",
            "75 block4a_expand_conv False\n",
            "76 block4a_expand_bn False\n",
            "77 block4a_expand_activation False\n",
            "78 block4a_dwconv_pad False\n",
            "79 block4a_dwconv False\n",
            "80 block4a_bn False\n",
            "81 block4a_activation False\n",
            "82 block4a_se_squeeze False\n",
            "83 block4a_se_reshape False\n",
            "84 block4a_se_reduce False\n",
            "85 block4a_se_expand False\n",
            "86 block4a_se_excite False\n",
            "87 block4a_project_conv False\n",
            "88 block4a_project_bn False\n",
            "89 block4b_expand_conv False\n",
            "90 block4b_expand_bn False\n",
            "91 block4b_expand_activation False\n",
            "92 block4b_dwconv False\n",
            "93 block4b_bn False\n",
            "94 block4b_activation False\n",
            "95 block4b_se_squeeze False\n",
            "96 block4b_se_reshape False\n",
            "97 block4b_se_reduce False\n",
            "98 block4b_se_expand False\n",
            "99 block4b_se_excite False\n",
            "100 block4b_project_conv False\n",
            "101 block4b_project_bn False\n",
            "102 block4b_drop False\n",
            "103 block4b_add False\n",
            "104 block4c_expand_conv False\n",
            "105 block4c_expand_bn False\n",
            "106 block4c_expand_activation False\n",
            "107 block4c_dwconv False\n",
            "108 block4c_bn False\n",
            "109 block4c_activation False\n",
            "110 block4c_se_squeeze False\n",
            "111 block4c_se_reshape False\n",
            "112 block4c_se_reduce False\n",
            "113 block4c_se_expand False\n",
            "114 block4c_se_excite False\n",
            "115 block4c_project_conv False\n",
            "116 block4c_project_bn False\n",
            "117 block4c_drop False\n",
            "118 block4c_add False\n",
            "119 block5a_expand_conv False\n",
            "120 block5a_expand_bn False\n",
            "121 block5a_expand_activation False\n",
            "122 block5a_dwconv False\n",
            "123 block5a_bn False\n",
            "124 block5a_activation False\n",
            "125 block5a_se_squeeze False\n",
            "126 block5a_se_reshape False\n",
            "127 block5a_se_reduce False\n",
            "128 block5a_se_expand False\n",
            "129 block5a_se_excite False\n",
            "130 block5a_project_conv False\n",
            "131 block5a_project_bn False\n",
            "132 block5b_expand_conv False\n",
            "133 block5b_expand_bn False\n",
            "134 block5b_expand_activation False\n",
            "135 block5b_dwconv False\n",
            "136 block5b_bn False\n",
            "137 block5b_activation False\n",
            "138 block5b_se_squeeze False\n",
            "139 block5b_se_reshape False\n",
            "140 block5b_se_reduce False\n",
            "141 block5b_se_expand False\n",
            "142 block5b_se_excite False\n",
            "143 block5b_project_conv False\n",
            "144 block5b_project_bn False\n",
            "145 block5b_drop False\n",
            "146 block5b_add False\n",
            "147 block5c_expand_conv False\n",
            "148 block5c_expand_bn False\n",
            "149 block5c_expand_activation False\n",
            "150 block5c_dwconv False\n",
            "151 block5c_bn False\n",
            "152 block5c_activation False\n",
            "153 block5c_se_squeeze False\n",
            "154 block5c_se_reshape False\n",
            "155 block5c_se_reduce False\n",
            "156 block5c_se_expand False\n",
            "157 block5c_se_excite False\n",
            "158 block5c_project_conv False\n",
            "159 block5c_project_bn False\n",
            "160 block5c_drop False\n",
            "161 block5c_add False\n",
            "162 block6a_expand_conv False\n",
            "163 block6a_expand_bn False\n",
            "164 block6a_expand_activation False\n",
            "165 block6a_dwconv_pad False\n",
            "166 block6a_dwconv False\n",
            "167 block6a_bn False\n",
            "168 block6a_activation False\n",
            "169 block6a_se_squeeze False\n",
            "170 block6a_se_reshape False\n",
            "171 block6a_se_reduce False\n",
            "172 block6a_se_expand False\n",
            "173 block6a_se_excite False\n",
            "174 block6a_project_conv False\n",
            "175 block6a_project_bn False\n",
            "176 block6b_expand_conv False\n",
            "177 block6b_expand_bn False\n",
            "178 block6b_expand_activation False\n",
            "179 block6b_dwconv False\n",
            "180 block6b_bn False\n",
            "181 block6b_activation False\n",
            "182 block6b_se_squeeze False\n",
            "183 block6b_se_reshape False\n",
            "184 block6b_se_reduce False\n",
            "185 block6b_se_expand False\n",
            "186 block6b_se_excite False\n",
            "187 block6b_project_conv False\n",
            "188 block6b_project_bn False\n",
            "189 block6b_drop False\n",
            "190 block6b_add False\n",
            "191 block6c_expand_conv False\n",
            "192 block6c_expand_bn False\n",
            "193 block6c_expand_activation False\n",
            "194 block6c_dwconv False\n",
            "195 block6c_bn False\n",
            "196 block6c_activation False\n",
            "197 block6c_se_squeeze False\n",
            "198 block6c_se_reshape False\n",
            "199 block6c_se_reduce False\n",
            "200 block6c_se_expand False\n",
            "201 block6c_se_excite False\n",
            "202 block6c_project_conv False\n",
            "203 block6c_project_bn False\n",
            "204 block6c_drop False\n",
            "205 block6c_add False\n",
            "206 block6d_expand_conv False\n",
            "207 block6d_expand_bn False\n",
            "208 block6d_expand_activation False\n",
            "209 block6d_dwconv False\n",
            "210 block6d_bn False\n",
            "211 block6d_activation False\n",
            "212 block6d_se_squeeze False\n",
            "213 block6d_se_reshape False\n",
            "214 block6d_se_reduce False\n",
            "215 block6d_se_expand False\n",
            "216 block6d_se_excite False\n",
            "217 block6d_project_conv False\n",
            "218 block6d_project_bn False\n",
            "219 block6d_drop False\n",
            "220 block6d_add False\n",
            "221 block7a_expand_conv False\n",
            "222 block7a_expand_bn False\n",
            "223 block7a_expand_activation False\n",
            "224 block7a_dwconv False\n",
            "225 block7a_bn False\n",
            "226 block7a_activation False\n",
            "227 block7a_se_squeeze False\n",
            "228 block7a_se_reshape False\n",
            "229 block7a_se_reduce False\n",
            "230 block7a_se_expand False\n",
            "231 block7a_se_excite False\n",
            "232 block7a_project_conv False\n",
            "233 block7a_project_bn False\n",
            "234 top_conv False\n",
            "235 top_bn False\n",
            "236 top_activation False\n"
          ]
        }
      ]
    },
    {
      "cell_type": "code",
      "source": [
        "# How many traininable variables are in our base model?\n",
        "print(len(model_2.layers[2].trainable_variables))"
      ],
      "metadata": {
        "colab": {
          "base_uri": "https://localhost:8080/"
        },
        "id": "htuOh5eDjDmg",
        "outputId": "db1c3878-78c0-456c-90d4-34096562d9be"
      },
      "execution_count": null,
      "outputs": [
        {
          "output_type": "stream",
          "name": "stdout",
          "text": [
            "0\n"
          ]
        }
      ]
    },
    {
      "cell_type": "code",
      "source": [
        "# Freeze all layers except for the last 10\n",
        "for layer in base_model.layers[:-10]:\n",
        "  print(layer.name)"
      ],
      "metadata": {
        "colab": {
          "base_uri": "https://localhost:8080/"
        },
        "id": "z556cvI5jDHy",
        "outputId": "50fca01a-041a-441b-b62f-2081096ea781"
      },
      "execution_count": null,
      "outputs": [
        {
          "output_type": "stream",
          "name": "stdout",
          "text": [
            "input_1\n",
            "rescaling\n",
            "normalization\n",
            "stem_conv_pad\n",
            "stem_conv\n",
            "stem_bn\n",
            "stem_activation\n",
            "block1a_dwconv\n",
            "block1a_bn\n",
            "block1a_activation\n",
            "block1a_se_squeeze\n",
            "block1a_se_reshape\n",
            "block1a_se_reduce\n",
            "block1a_se_expand\n",
            "block1a_se_excite\n",
            "block1a_project_conv\n",
            "block1a_project_bn\n",
            "block2a_expand_conv\n",
            "block2a_expand_bn\n",
            "block2a_expand_activation\n",
            "block2a_dwconv_pad\n",
            "block2a_dwconv\n",
            "block2a_bn\n",
            "block2a_activation\n",
            "block2a_se_squeeze\n",
            "block2a_se_reshape\n",
            "block2a_se_reduce\n",
            "block2a_se_expand\n",
            "block2a_se_excite\n",
            "block2a_project_conv\n",
            "block2a_project_bn\n",
            "block2b_expand_conv\n",
            "block2b_expand_bn\n",
            "block2b_expand_activation\n",
            "block2b_dwconv\n",
            "block2b_bn\n",
            "block2b_activation\n",
            "block2b_se_squeeze\n",
            "block2b_se_reshape\n",
            "block2b_se_reduce\n",
            "block2b_se_expand\n",
            "block2b_se_excite\n",
            "block2b_project_conv\n",
            "block2b_project_bn\n",
            "block2b_drop\n",
            "block2b_add\n",
            "block3a_expand_conv\n",
            "block3a_expand_bn\n",
            "block3a_expand_activation\n",
            "block3a_dwconv_pad\n",
            "block3a_dwconv\n",
            "block3a_bn\n",
            "block3a_activation\n",
            "block3a_se_squeeze\n",
            "block3a_se_reshape\n",
            "block3a_se_reduce\n",
            "block3a_se_expand\n",
            "block3a_se_excite\n",
            "block3a_project_conv\n",
            "block3a_project_bn\n",
            "block3b_expand_conv\n",
            "block3b_expand_bn\n",
            "block3b_expand_activation\n",
            "block3b_dwconv\n",
            "block3b_bn\n",
            "block3b_activation\n",
            "block3b_se_squeeze\n",
            "block3b_se_reshape\n",
            "block3b_se_reduce\n",
            "block3b_se_expand\n",
            "block3b_se_excite\n",
            "block3b_project_conv\n",
            "block3b_project_bn\n",
            "block3b_drop\n",
            "block3b_add\n",
            "block4a_expand_conv\n",
            "block4a_expand_bn\n",
            "block4a_expand_activation\n",
            "block4a_dwconv_pad\n",
            "block4a_dwconv\n",
            "block4a_bn\n",
            "block4a_activation\n",
            "block4a_se_squeeze\n",
            "block4a_se_reshape\n",
            "block4a_se_reduce\n",
            "block4a_se_expand\n",
            "block4a_se_excite\n",
            "block4a_project_conv\n",
            "block4a_project_bn\n",
            "block4b_expand_conv\n",
            "block4b_expand_bn\n",
            "block4b_expand_activation\n",
            "block4b_dwconv\n",
            "block4b_bn\n",
            "block4b_activation\n",
            "block4b_se_squeeze\n",
            "block4b_se_reshape\n",
            "block4b_se_reduce\n",
            "block4b_se_expand\n",
            "block4b_se_excite\n",
            "block4b_project_conv\n",
            "block4b_project_bn\n",
            "block4b_drop\n",
            "block4b_add\n",
            "block4c_expand_conv\n",
            "block4c_expand_bn\n",
            "block4c_expand_activation\n",
            "block4c_dwconv\n",
            "block4c_bn\n",
            "block4c_activation\n",
            "block4c_se_squeeze\n",
            "block4c_se_reshape\n",
            "block4c_se_reduce\n",
            "block4c_se_expand\n",
            "block4c_se_excite\n",
            "block4c_project_conv\n",
            "block4c_project_bn\n",
            "block4c_drop\n",
            "block4c_add\n",
            "block5a_expand_conv\n",
            "block5a_expand_bn\n",
            "block5a_expand_activation\n",
            "block5a_dwconv\n",
            "block5a_bn\n",
            "block5a_activation\n",
            "block5a_se_squeeze\n",
            "block5a_se_reshape\n",
            "block5a_se_reduce\n",
            "block5a_se_expand\n",
            "block5a_se_excite\n",
            "block5a_project_conv\n",
            "block5a_project_bn\n",
            "block5b_expand_conv\n",
            "block5b_expand_bn\n",
            "block5b_expand_activation\n",
            "block5b_dwconv\n",
            "block5b_bn\n",
            "block5b_activation\n",
            "block5b_se_squeeze\n",
            "block5b_se_reshape\n",
            "block5b_se_reduce\n",
            "block5b_se_expand\n",
            "block5b_se_excite\n",
            "block5b_project_conv\n",
            "block5b_project_bn\n",
            "block5b_drop\n",
            "block5b_add\n",
            "block5c_expand_conv\n",
            "block5c_expand_bn\n",
            "block5c_expand_activation\n",
            "block5c_dwconv\n",
            "block5c_bn\n",
            "block5c_activation\n",
            "block5c_se_squeeze\n",
            "block5c_se_reshape\n",
            "block5c_se_reduce\n",
            "block5c_se_expand\n",
            "block5c_se_excite\n",
            "block5c_project_conv\n",
            "block5c_project_bn\n",
            "block5c_drop\n",
            "block5c_add\n",
            "block6a_expand_conv\n",
            "block6a_expand_bn\n",
            "block6a_expand_activation\n",
            "block6a_dwconv_pad\n",
            "block6a_dwconv\n",
            "block6a_bn\n",
            "block6a_activation\n",
            "block6a_se_squeeze\n",
            "block6a_se_reshape\n",
            "block6a_se_reduce\n",
            "block6a_se_expand\n",
            "block6a_se_excite\n",
            "block6a_project_conv\n",
            "block6a_project_bn\n",
            "block6b_expand_conv\n",
            "block6b_expand_bn\n",
            "block6b_expand_activation\n",
            "block6b_dwconv\n",
            "block6b_bn\n",
            "block6b_activation\n",
            "block6b_se_squeeze\n",
            "block6b_se_reshape\n",
            "block6b_se_reduce\n",
            "block6b_se_expand\n",
            "block6b_se_excite\n",
            "block6b_project_conv\n",
            "block6b_project_bn\n",
            "block6b_drop\n",
            "block6b_add\n",
            "block6c_expand_conv\n",
            "block6c_expand_bn\n",
            "block6c_expand_activation\n",
            "block6c_dwconv\n",
            "block6c_bn\n",
            "block6c_activation\n",
            "block6c_se_squeeze\n",
            "block6c_se_reshape\n",
            "block6c_se_reduce\n",
            "block6c_se_expand\n",
            "block6c_se_excite\n",
            "block6c_project_conv\n",
            "block6c_project_bn\n",
            "block6c_drop\n",
            "block6c_add\n",
            "block6d_expand_conv\n",
            "block6d_expand_bn\n",
            "block6d_expand_activation\n",
            "block6d_dwconv\n",
            "block6d_bn\n",
            "block6d_activation\n",
            "block6d_se_squeeze\n",
            "block6d_se_reshape\n",
            "block6d_se_reduce\n",
            "block6d_se_expand\n",
            "block6d_se_excite\n",
            "block6d_project_conv\n",
            "block6d_project_bn\n",
            "block6d_drop\n",
            "block6d_add\n",
            "block7a_expand_conv\n",
            "block7a_expand_bn\n",
            "block7a_expand_activation\n",
            "block7a_dwconv\n",
            "block7a_bn\n",
            "block7a_activation\n"
          ]
        }
      ]
    },
    {
      "cell_type": "code",
      "source": [
        "# To begin fine-tuning, \n",
        "# let's start by setting the last 10 layers of our base_model.trainable = True\n",
        "base_model.trainable = True\n",
        "\n",
        " # Freeze all layers except for the last 10\n",
        "for layers in base_model.layers[:-10]:\n",
        "   layer.trainable = False\n",
        "\n",
        "# Recompile (we have to recompile our models every time we make a change)\n",
        "model_2.compile(loss=\"categorical_crossentropy\",\n",
        "                optimizer=tf.keras.optimizers.Adam(lr=0.001), \n",
        "# When fine tuning you typically want to lower the learning rate by 10x* \n",
        "                metrics=[\"accuracy\"])"
      ],
      "metadata": {
        "id": "0jFcWrq8jDSw",
        "colab": {
          "base_uri": "https://localhost:8080/"
        },
        "outputId": "d02ee966-6eed-4b85-ac01-7615752aa047"
      },
      "execution_count": null,
      "outputs": [
        {
          "output_type": "stream",
          "name": "stderr",
          "text": [
            "/usr/local/lib/python3.7/dist-packages/keras/optimizer_v2/adam.py:105: UserWarning: The `lr` argument is deprecated, use `learning_rate` instead.\n",
            "  super(Adam, self).__init__(name, **kwargs)\n"
          ]
        }
      ]
    },
    {
      "cell_type": "markdown",
      "source": [
        "> **Note :** When using fine-tuning it's best practice to lower your learning rate by some amount. how much? This is a hyperparameter you can tune. But a good rule of thumb is at least 10x (though different sources will claim other values). "
      ],
      "metadata": {
        "id": "VaaB3yiwptQp"
      }
    },
    {
      "cell_type": "code",
      "source": [
        "# Check which layers are tunable (trainable)\n",
        "for layer_number, layer in enumerate(model_2.layers[2].layers):\n",
        "  print(layer_number, layer.name, layer.trainable)"
      ],
      "metadata": {
        "colab": {
          "base_uri": "https://localhost:8080/"
        },
        "id": "7RZPGZi9oiU1",
        "outputId": "45bb48c1-9c58-4164-c0aa-5c2f28aea1ff"
      },
      "execution_count": null,
      "outputs": [
        {
          "output_type": "stream",
          "name": "stdout",
          "text": [
            "0 input_1 True\n",
            "1 rescaling True\n",
            "2 normalization True\n",
            "3 stem_conv_pad True\n",
            "4 stem_conv True\n",
            "5 stem_bn True\n",
            "6 stem_activation True\n",
            "7 block1a_dwconv True\n",
            "8 block1a_bn True\n",
            "9 block1a_activation True\n",
            "10 block1a_se_squeeze True\n",
            "11 block1a_se_reshape True\n",
            "12 block1a_se_reduce True\n",
            "13 block1a_se_expand True\n",
            "14 block1a_se_excite True\n",
            "15 block1a_project_conv True\n",
            "16 block1a_project_bn True\n",
            "17 block2a_expand_conv True\n",
            "18 block2a_expand_bn True\n",
            "19 block2a_expand_activation True\n",
            "20 block2a_dwconv_pad True\n",
            "21 block2a_dwconv True\n",
            "22 block2a_bn True\n",
            "23 block2a_activation True\n",
            "24 block2a_se_squeeze True\n",
            "25 block2a_se_reshape True\n",
            "26 block2a_se_reduce True\n",
            "27 block2a_se_expand True\n",
            "28 block2a_se_excite True\n",
            "29 block2a_project_conv True\n",
            "30 block2a_project_bn True\n",
            "31 block2b_expand_conv True\n",
            "32 block2b_expand_bn True\n",
            "33 block2b_expand_activation True\n",
            "34 block2b_dwconv True\n",
            "35 block2b_bn True\n",
            "36 block2b_activation True\n",
            "37 block2b_se_squeeze True\n",
            "38 block2b_se_reshape True\n",
            "39 block2b_se_reduce True\n",
            "40 block2b_se_expand True\n",
            "41 block2b_se_excite True\n",
            "42 block2b_project_conv True\n",
            "43 block2b_project_bn True\n",
            "44 block2b_drop True\n",
            "45 block2b_add True\n",
            "46 block3a_expand_conv True\n",
            "47 block3a_expand_bn True\n",
            "48 block3a_expand_activation True\n",
            "49 block3a_dwconv_pad True\n",
            "50 block3a_dwconv True\n",
            "51 block3a_bn True\n",
            "52 block3a_activation True\n",
            "53 block3a_se_squeeze True\n",
            "54 block3a_se_reshape True\n",
            "55 block3a_se_reduce True\n",
            "56 block3a_se_expand True\n",
            "57 block3a_se_excite True\n",
            "58 block3a_project_conv True\n",
            "59 block3a_project_bn True\n",
            "60 block3b_expand_conv True\n",
            "61 block3b_expand_bn True\n",
            "62 block3b_expand_activation True\n",
            "63 block3b_dwconv True\n",
            "64 block3b_bn True\n",
            "65 block3b_activation True\n",
            "66 block3b_se_squeeze True\n",
            "67 block3b_se_reshape True\n",
            "68 block3b_se_reduce True\n",
            "69 block3b_se_expand True\n",
            "70 block3b_se_excite True\n",
            "71 block3b_project_conv True\n",
            "72 block3b_project_bn True\n",
            "73 block3b_drop True\n",
            "74 block3b_add True\n",
            "75 block4a_expand_conv True\n",
            "76 block4a_expand_bn True\n",
            "77 block4a_expand_activation True\n",
            "78 block4a_dwconv_pad True\n",
            "79 block4a_dwconv True\n",
            "80 block4a_bn True\n",
            "81 block4a_activation True\n",
            "82 block4a_se_squeeze True\n",
            "83 block4a_se_reshape True\n",
            "84 block4a_se_reduce True\n",
            "85 block4a_se_expand True\n",
            "86 block4a_se_excite True\n",
            "87 block4a_project_conv True\n",
            "88 block4a_project_bn True\n",
            "89 block4b_expand_conv True\n",
            "90 block4b_expand_bn True\n",
            "91 block4b_expand_activation True\n",
            "92 block4b_dwconv True\n",
            "93 block4b_bn True\n",
            "94 block4b_activation True\n",
            "95 block4b_se_squeeze True\n",
            "96 block4b_se_reshape True\n",
            "97 block4b_se_reduce True\n",
            "98 block4b_se_expand True\n",
            "99 block4b_se_excite True\n",
            "100 block4b_project_conv True\n",
            "101 block4b_project_bn True\n",
            "102 block4b_drop True\n",
            "103 block4b_add True\n",
            "104 block4c_expand_conv True\n",
            "105 block4c_expand_bn True\n",
            "106 block4c_expand_activation True\n",
            "107 block4c_dwconv True\n",
            "108 block4c_bn True\n",
            "109 block4c_activation True\n",
            "110 block4c_se_squeeze True\n",
            "111 block4c_se_reshape True\n",
            "112 block4c_se_reduce True\n",
            "113 block4c_se_expand True\n",
            "114 block4c_se_excite True\n",
            "115 block4c_project_conv True\n",
            "116 block4c_project_bn True\n",
            "117 block4c_drop True\n",
            "118 block4c_add True\n",
            "119 block5a_expand_conv True\n",
            "120 block5a_expand_bn True\n",
            "121 block5a_expand_activation True\n",
            "122 block5a_dwconv True\n",
            "123 block5a_bn True\n",
            "124 block5a_activation True\n",
            "125 block5a_se_squeeze True\n",
            "126 block5a_se_reshape True\n",
            "127 block5a_se_reduce True\n",
            "128 block5a_se_expand True\n",
            "129 block5a_se_excite True\n",
            "130 block5a_project_conv True\n",
            "131 block5a_project_bn True\n",
            "132 block5b_expand_conv True\n",
            "133 block5b_expand_bn True\n",
            "134 block5b_expand_activation True\n",
            "135 block5b_dwconv True\n",
            "136 block5b_bn True\n",
            "137 block5b_activation True\n",
            "138 block5b_se_squeeze True\n",
            "139 block5b_se_reshape True\n",
            "140 block5b_se_reduce True\n",
            "141 block5b_se_expand True\n",
            "142 block5b_se_excite True\n",
            "143 block5b_project_conv True\n",
            "144 block5b_project_bn True\n",
            "145 block5b_drop True\n",
            "146 block5b_add True\n",
            "147 block5c_expand_conv True\n",
            "148 block5c_expand_bn True\n",
            "149 block5c_expand_activation True\n",
            "150 block5c_dwconv True\n",
            "151 block5c_bn True\n",
            "152 block5c_activation True\n",
            "153 block5c_se_squeeze True\n",
            "154 block5c_se_reshape True\n",
            "155 block5c_se_reduce True\n",
            "156 block5c_se_expand True\n",
            "157 block5c_se_excite True\n",
            "158 block5c_project_conv True\n",
            "159 block5c_project_bn True\n",
            "160 block5c_drop True\n",
            "161 block5c_add True\n",
            "162 block6a_expand_conv True\n",
            "163 block6a_expand_bn True\n",
            "164 block6a_expand_activation True\n",
            "165 block6a_dwconv_pad True\n",
            "166 block6a_dwconv True\n",
            "167 block6a_bn True\n",
            "168 block6a_activation True\n",
            "169 block6a_se_squeeze True\n",
            "170 block6a_se_reshape True\n",
            "171 block6a_se_reduce True\n",
            "172 block6a_se_expand True\n",
            "173 block6a_se_excite True\n",
            "174 block6a_project_conv True\n",
            "175 block6a_project_bn True\n",
            "176 block6b_expand_conv True\n",
            "177 block6b_expand_bn True\n",
            "178 block6b_expand_activation True\n",
            "179 block6b_dwconv True\n",
            "180 block6b_bn True\n",
            "181 block6b_activation True\n",
            "182 block6b_se_squeeze True\n",
            "183 block6b_se_reshape True\n",
            "184 block6b_se_reduce True\n",
            "185 block6b_se_expand True\n",
            "186 block6b_se_excite True\n",
            "187 block6b_project_conv True\n",
            "188 block6b_project_bn True\n",
            "189 block6b_drop True\n",
            "190 block6b_add True\n",
            "191 block6c_expand_conv True\n",
            "192 block6c_expand_bn True\n",
            "193 block6c_expand_activation True\n",
            "194 block6c_dwconv True\n",
            "195 block6c_bn True\n",
            "196 block6c_activation True\n",
            "197 block6c_se_squeeze True\n",
            "198 block6c_se_reshape True\n",
            "199 block6c_se_reduce True\n",
            "200 block6c_se_expand True\n",
            "201 block6c_se_excite True\n",
            "202 block6c_project_conv True\n",
            "203 block6c_project_bn True\n",
            "204 block6c_drop True\n",
            "205 block6c_add True\n",
            "206 block6d_expand_conv True\n",
            "207 block6d_expand_bn True\n",
            "208 block6d_expand_activation True\n",
            "209 block6d_dwconv True\n",
            "210 block6d_bn True\n",
            "211 block6d_activation True\n",
            "212 block6d_se_squeeze True\n",
            "213 block6d_se_reshape True\n",
            "214 block6d_se_reduce True\n",
            "215 block6d_se_expand True\n",
            "216 block6d_se_excite True\n",
            "217 block6d_project_conv True\n",
            "218 block6d_project_bn True\n",
            "219 block6d_drop True\n",
            "220 block6d_add True\n",
            "221 block7a_expand_conv True\n",
            "222 block7a_expand_bn True\n",
            "223 block7a_expand_activation True\n",
            "224 block7a_dwconv True\n",
            "225 block7a_bn True\n",
            "226 block7a_activation False\n",
            "227 block7a_se_squeeze True\n",
            "228 block7a_se_reshape True\n",
            "229 block7a_se_reduce True\n",
            "230 block7a_se_expand True\n",
            "231 block7a_se_excite True\n",
            "232 block7a_project_conv True\n",
            "233 block7a_project_bn True\n",
            "234 top_conv True\n",
            "235 top_bn True\n",
            "236 top_activation True\n"
          ]
        }
      ]
    },
    {
      "cell_type": "code",
      "source": [
        "# Fine tune for another 5 epochs\n",
        "fine_tune_epochs = initial_epochs + 5\n",
        "\n",
        "# Refit the model (same as model_2 except with more trainable layers)   \n",
        "history_fine_10_percent_data_aug = model_2.fit(train_data_10_percent,\n",
        "                                               epochs=fine_tune_epochs,\n",
        "                                               validation_data=test_data,\n",
        "                                               validation_steps=int(0.25 * len(test_data)),\n",
        "                                               initial_epoch=history_10_percent_data_aug.epoch[-1],\n",
        "                                               # start training from previous last epochs\n",
        "                                               callbacks=[create_tensorboard_callback(dir_name=\"transfer_learning\",\n",
        "                                                                                      experiment_name=\"10_percent_fine_tune_last_10\")])"
      ],
      "metadata": {
        "id": "jCZwXjhXjC6i",
        "colab": {
          "base_uri": "https://localhost:8080/"
        },
        "outputId": "953b1b87-351d-4aee-82a5-f9574112faac"
      },
      "execution_count": null,
      "outputs": [
        {
          "output_type": "stream",
          "name": "stderr",
          "text": [
            "/usr/local/lib/python3.7/dist-packages/keras/engine/functional.py:1410: CustomMaskWarning: Custom mask layers require a config and must override get_config. When loading, the custom mask layer must be passed to the custom_objects argument.\n",
            "  layer_config = serialize_layer_fn(layer)\n"
          ]
        },
        {
          "output_type": "stream",
          "name": "stdout",
          "text": [
            "Saving TensorBoard log files to: transfer_learning/10_percent_fine_tune_last_10/20220215-020259\n",
            "Epoch 5/10\n",
            "24/24 [==============================] - 49s 2s/step - loss: 2.7080 - accuracy: 0.1440 - val_loss: 2.3725 - val_accuracy: 0.0938\n",
            "Epoch 6/10\n",
            "24/24 [==============================] - 33s 1s/step - loss: 2.3619 - accuracy: 0.0933 - val_loss: 2.3073 - val_accuracy: 0.1053\n",
            "Epoch 7/10\n",
            "24/24 [==============================] - 31s 1s/step - loss: 2.3184 - accuracy: 0.1080 - val_loss: 2.3072 - val_accuracy: 0.0954\n",
            "Epoch 8/10\n",
            "24/24 [==============================] - 32s 1s/step - loss: 2.3175 - accuracy: 0.1067 - val_loss: 2.3050 - val_accuracy: 0.1118\n",
            "Epoch 9/10\n",
            "24/24 [==============================] - 29s 1s/step - loss: 2.3065 - accuracy: 0.0920 - val_loss: 2.3013 - val_accuracy: 0.1069\n",
            "Epoch 10/10\n",
            "24/24 [==============================] - 31s 1s/step - loss: 2.3028 - accuracy: 0.1093 - val_loss: 2.2962 - val_accuracy: 0.1727\n"
          ]
        }
      ]
    },
    {
      "cell_type": "code",
      "source": [
        "plot_loss_curves(history_fine_10_percent_data_aug)"
      ],
      "metadata": {
        "id": "IvFOPw5ZWGbI",
        "colab": {
          "base_uri": "https://localhost:8080/",
          "height": 573
        },
        "outputId": "268b04ae-3871-4bef-987d-a998bdd91d1d"
      },
      "execution_count": null,
      "outputs": [
        {
          "output_type": "display_data",
          "data": {
            "image/png": "[encoded data removed]",
            "text/plain": [
              "<Figure size 432x288 with 1 Axes>"
            ]
          },
          "metadata": {
            "needs_background": "light"
          }
        },
        {
          "output_type": "display_data",
          "data": {
            "image/png": "[encoded data removed]",
            "text/plain": [
              "<Figure size 432x288 with 1 Axes>"
            ]
          },
          "metadata": {
            "needs_background": "light"
          }
        }
      ]
    },
    {
      "cell_type": "markdown",
      "source": [
        "The `plot_loss_curves` function works great with models `fit()` with another (e.g. before and after fine-tuning)."
      ],
      "metadata": {
        "id": "75XJqgr3bzd0"
      }
    },
    {
      "cell_type": "code",
      "source": [
        "import matplotlib.pyplot as plt\n",
        "from matplotlib.pyplot import figure"
      ],
      "metadata": {
        "id": "SkknpnJENuGn"
      },
      "execution_count": null,
      "outputs": []
    },
    {
      "cell_type": "code",
      "source": [
        "# Let's create a function to compare training histories\n",
        "def compare_historys(orignal_history, new_history, initial_epochs=5):\n",
        "  \"\"\"\n",
        "  Compares two TensorFlow History objects.\n",
        "  \"\"\"\n",
        "  # Get orignal history measurements\n",
        "  acc = orignal_history.history[\"accuracy\"]\n",
        "  loss = orignal_history.history[\"loss\"]\n",
        "\n",
        "  val_acc = orignal_history.history[\"val_accuracy\"]\n",
        "  val_loss = orignal_history.history[\"val_loss\"]\n",
        "\n",
        "  # Combine orignal history metrics with new_history metrics\n",
        "  total_acc = acc + new_history.history[\"accuracy\"]\n",
        "  total_loss = loss + new_history.history[\"loss\"]\n",
        "\n",
        "  total_val_acc = val_acc + new_history.history[\"val_accuracy\"]\n",
        "  total_val_loss = val_loss + new_history.history[\"val_loss\"]\n",
        "\n",
        "  # Make plots accuracy\n",
        "  plt.figure(figsize=(16,16))\n",
        "  plt.subplot(2,1,1)\n",
        "  plt.plot(total_acc, label=\"Training Accuracy\")\n",
        "  plt.plot(total_val_acc, label=\"Val Accuracy\")\n",
        "  plt.plot([initial_epochs-1, initial_epochs-1], plt.ylim(), label=\"Start Fine Tuning\")\n",
        "\n",
        "  # Make plot for loss\n",
        "  plt.figure(figsize=(16,16))\n",
        "  plt.subplot(2,1,2)\n",
        "  plt.plot(total_loss, label=\"Training loss\")\n",
        "  plt.plot(total_val_loss, label= \"Val Accuracy\")\n",
        "  plt.plot([initial_epochs-1, initial_epochs-1], plt.ylim(), label=\"Start Fine Tuning\")\n",
        "  plt.legend(loc=\"upper right\")\n",
        "  plt.title(\"Training and Validation Accuracy\")"
      ],
      "metadata": {
        "id": "8FbbCFOGWGVw"
      },
      "execution_count": null,
      "outputs": []
    },
    {
      "cell_type": "markdown",
      "source": [
        "To train a fine-tuning model (model-4) we need to revert model_2 back to its feature extraction weights."
      ],
      "metadata": {
        "id": "ERok5aOfH513"
      }
    },
    {
      "cell_type": "code",
      "source": [
        "compare_historys(history_10_percent_data_aug,\n",
        "                 history_fine_10_percent_data_aug,\n",
        "                 initial_epochs=5)"
      ],
      "metadata": {
        "id": "gJwzyQF2WGJu",
        "colab": {
          "base_uri": "https://localhost:8080/",
          "height": 764
        },
        "outputId": "92d7ec4b-aea4-4337-dc31-b28a7df57e99"
      },
      "execution_count": null,
      "outputs": [
        {
          "output_type": "display_data",
          "data": {
            "image/png": "[encoded data removed]",
            "text/plain": [
              "<Figure size 1152x1152 with 1 Axes>"
            ]
          },
          "metadata": {
            "needs_background": "light"
          }
        },
        {
          "output_type": "display_data",
          "data": {
            "image/png": "[encoded data removed]",
            "text/plain": [
              "<Figure size 1152x1152 with 1 Axes>"
            ]
          },
          "metadata": {
            "needs_background": "light"
          }
        }
      ]
    },
    {
      "cell_type": "markdown",
      "source": [
        "## Model 4: Fine-tuning and existing model on all of the data"
      ],
      "metadata": {
        "id": "tJOzWe-5VKVW"
      }
    },
    {
      "cell_type": "code",
      "source": [
        "# Download and unzip 10 classes of Food101 data with all images \n",
        "!wget https://storage.googleapis.com/ztm_tf_course/food_vision/10_food_classes_10_percent.zip"
      ],
      "metadata": {
        "id": "T0HpugdTWGCf",
        "colab": {
          "base_uri": "https://localhost:8080/"
        },
        "outputId": "49625ee2-9df2-4f81-d620-fec1e4ffb09f"
      },
      "execution_count": null,
      "outputs": [
        {
          "output_type": "stream",
          "name": "stdout",
          "text": [
            "--2022-02-15 03:10:32--  https://storage.googleapis.com/ztm_tf_course/food_vision/10_food_classes_10_percent.zip\n",
            "Resolving storage.googleapis.com (storage.googleapis.com)... 64.233.189.128, 108.177.97.128, 108.177.125.128, ...\n",
            "Connecting to storage.googleapis.com (storage.googleapis.com)|64.233.189.128|:443... connected.\n",
            "HTTP request sent, awaiting response... 200 OK\n",
            "Length: 168546183 (161M) [application/zip]\n",
            "Saving to: ‘10_food_classes_10_percent.zip.1’\n",
            "\n",
            "10_food_classes_10_ 100%[===================>] 160.74M   105MB/s    in 1.5s    \n",
            "\n",
            "2022-02-15 03:10:34 (105 MB/s) - ‘10_food_classes_10_percent.zip.1’ saved [168546183/168546183]\n",
            "\n"
          ]
        }
      ]
    },
    {
      "cell_type": "code",
      "source": [
        "unzip_data(\"/content/10_food_classes_10_percent.zip\")"
      ],
      "metadata": {
        "id": "DE5WbDpNWF5T"
      },
      "execution_count": null,
      "outputs": []
    },
    {
      "cell_type": "code",
      "source": [
        "# Setup training and test dir\n",
        "train_dir_all_data = \"/content/10_food_classes_10_percent/train\"\n",
        "test_dir = \"/content/10_food_classes_10_percent/test\""
      ],
      "metadata": {
        "id": "SgJPl2Qk_9_d"
      },
      "execution_count": null,
      "outputs": []
    },
    {
      "cell_type": "code",
      "source": [
        "# How many images are we working with now ?\n",
        "walk_through_dir(\"/content/10_food_classes_10_percent\")"
      ],
      "metadata": {
        "id": "DOMgoge4_9yU",
        "colab": {
          "base_uri": "https://localhost:8080/"
        },
        "outputId": "8955fb17-572b-448f-b65b-8062a83dbc06"
      },
      "execution_count": null,
      "outputs": [
        {
          "output_type": "stream",
          "name": "stdout",
          "text": [
            "There are 2 directories and 0 images in '/content/10_food_classes_10_percent'.\n",
            "There are 10 directories and 0 images in '/content/10_food_classes_10_percent/test'.\n",
            "There are 0 directories and 250 images in '/content/10_food_classes_10_percent/test/chicken_wings'.\n",
            "There are 0 directories and 250 images in '/content/10_food_classes_10_percent/test/pizza'.\n",
            "There are 0 directories and 250 images in '/content/10_food_classes_10_percent/test/steak'.\n",
            "There are 0 directories and 250 images in '/content/10_food_classes_10_percent/test/chicken_curry'.\n",
            "There are 0 directories and 250 images in '/content/10_food_classes_10_percent/test/ice_cream'.\n",
            "There are 0 directories and 250 images in '/content/10_food_classes_10_percent/test/ramen'.\n",
            "There are 0 directories and 250 images in '/content/10_food_classes_10_percent/test/fried_rice'.\n",
            "There are 0 directories and 250 images in '/content/10_food_classes_10_percent/test/hamburger'.\n",
            "There are 0 directories and 250 images in '/content/10_food_classes_10_percent/test/sushi'.\n",
            "There are 0 directories and 250 images in '/content/10_food_classes_10_percent/test/grilled_salmon'.\n",
            "There are 10 directories and 0 images in '/content/10_food_classes_10_percent/train'.\n",
            "There are 0 directories and 75 images in '/content/10_food_classes_10_percent/train/chicken_wings'.\n",
            "There are 0 directories and 75 images in '/content/10_food_classes_10_percent/train/pizza'.\n",
            "There are 0 directories and 75 images in '/content/10_food_classes_10_percent/train/steak'.\n",
            "There are 0 directories and 75 images in '/content/10_food_classes_10_percent/train/chicken_curry'.\n",
            "There are 0 directories and 75 images in '/content/10_food_classes_10_percent/train/ice_cream'.\n",
            "There are 0 directories and 75 images in '/content/10_food_classes_10_percent/train/ramen'.\n",
            "There are 0 directories and 75 images in '/content/10_food_classes_10_percent/train/fried_rice'.\n",
            "There are 0 directories and 75 images in '/content/10_food_classes_10_percent/train/hamburger'.\n",
            "There are 0 directories and 75 images in '/content/10_food_classes_10_percent/train/sushi'.\n",
            "There are 0 directories and 75 images in '/content/10_food_classes_10_percent/train/grilled_salmon'.\n"
          ]
        }
      ]
    },
    {
      "cell_type": "code",
      "source": [
        "import tensorflow as tf\n",
        "IMG_SIZE = (224,224)\n",
        "train_data_10_classes_full = tf.keras.preprocessing.image_dataset_from_directory(train_dir_all_data,\n",
        "                                                                                 label_mode=\"categorical\",\n",
        "                                                                                 image_size=IMG_SIZE)\n",
        "\n",
        "test_data = tf.keras.preprocessing.image_dataset_from_directory(test_dir,\n",
        "                                                                label_mode=\"categorical\",\n",
        "                                                                image_size=IMG_SIZE)\n"
      ],
      "metadata": {
        "id": "n_xOXYCX_9l-",
        "colab": {
          "base_uri": "https://localhost:8080/"
        },
        "outputId": "f06abb0b-9644-4c9d-e812-3c1031df5504"
      },
      "execution_count": null,
      "outputs": [
        {
          "output_type": "stream",
          "name": "stdout",
          "text": [
            "Found 750 files belonging to 10 classes.\n",
            "Found 2500 files belonging to 10 classes.\n"
          ]
        }
      ]
    },
    {
      "cell_type": "code",
      "source": [
        "# Evaluate model 2 (this is the fine-tuned on 10 percent of data version): \n",
        "model_2.evaluate(test_data)"
      ],
      "metadata": {
        "id": "MnRykj6ssC8M",
        "colab": {
          "base_uri": "https://localhost:8080/"
        },
        "outputId": "e8e1c2c4-20b7-4ccd-e2e0-c95b5d3702cc"
      },
      "execution_count": null,
      "outputs": [
        {
          "output_type": "stream",
          "name": "stdout",
          "text": [
            "79/79 [==============================] - 12s 136ms/step - loss: 2.2963 - accuracy: 0.1688\n"
          ]
        },
        {
          "output_type": "execute_result",
          "data": {
            "text/plain": [
              "[2.296269416809082, 0.1687999963760376]"
            ]
          },
          "metadata": {},
          "execution_count": 100
        }
      ]
    },
    {
      "cell_type": "code",
      "source": [
        "# To train a fine-tuning model (model_4) we need to revert \n",
        "# model_2 back to it's feature extraction weights\n",
        "\n",
        "# Load weights from checkpoint, that way we can fine-tune from\n",
        "# the same stage the 10 percent data model was fine-tuned from\n",
        "model_2.load_weights(checkpoint_path)"
      ],
      "metadata": {
        "colab": {
          "base_uri": "https://localhost:8080/"
        },
        "id": "Kfjn7UnCOzjW",
        "outputId": "e06f9a7f-fc8a-4fbb-c85f-77412bebc0fd"
      },
      "execution_count": null,
      "outputs": [
        {
          "output_type": "execute_result",
          "data": {
            "text/plain": [
              "<tensorflow.python.training.tracking.util.CheckpointLoadStatus at 0x7fcc341e90d0>"
            ]
          },
          "metadata": {},
          "execution_count": 104
        }
      ]
    },
    {
      "cell_type": "code",
      "source": [
        "# Let's evaluate model_2 now\n",
        "model_2.evaluate(test_data)"
      ],
      "metadata": {
        "colab": {
          "base_uri": "https://localhost:8080/"
        },
        "id": "O3a5ECEedQLP",
        "outputId": "318ad9a8-4ef8-4b83-cc15-fb053ad53843"
      },
      "execution_count": null,
      "outputs": [
        {
          "output_type": "stream",
          "name": "stdout",
          "text": [
            "79/79 [==============================] - 12s 137ms/step - loss: 0.6913 - accuracy: 0.8228\n"
          ]
        },
        {
          "output_type": "execute_result",
          "data": {
            "text/plain": [
              "[0.691257894039154, 0.8227999806404114]"
            ]
          },
          "metadata": {},
          "execution_count": 105
        }
      ]
    },
    {
      "cell_type": "code",
      "source": [
        "# Check to see if our model_2 has been reverted back to feature extraction results\n",
        "results_10_percent_data_aug"
      ],
      "metadata": {
        "colab": {
          "base_uri": "https://localhost:8080/"
        },
        "id": "nl4mciZOeo1X",
        "outputId": "889c37ad-b240-4ed1-80c9-9c34f500e445"
      },
      "execution_count": null,
      "outputs": [
        {
          "output_type": "execute_result",
          "data": {
            "text/plain": [
              "[0.6912581324577332, 0.8227999806404114]"
            ]
          },
          "metadata": {},
          "execution_count": 107
        }
      ]
    },
    {
      "cell_type": "markdown",
      "source": [
        "Alright, the previous steps might seem quite confusing but all we have done is:\n",
        "\n",
        "1. Trained a feature extraction transfer learning model for 5 epochs on 10% of the data augmentation (model_2) and we saved the model's weights using `ModelCheckpoint` callback.\n",
        "\n",
        "2. Fine-tuned the same model on the same 10% of the data for a further 5 epochs with  the top 10 layers of the base model unfrozen (model_3)"
      ],
      "metadata": {
        "id": "hVxJ_-HJfMbI"
      }
    },
    {
      "cell_type": "code",
      "source": [
        "# Check which layers are tunable in the whole model\n",
        "for layer_number, layer in enumerate(model_2.layers[2].layers):\n",
        "  print(layer_number, layer.name, layer.trainable)"
      ],
      "metadata": {
        "colab": {
          "base_uri": "https://localhost:8080/"
        },
        "id": "keOHqGxke59W",
        "outputId": "ea6cfd58-b768-47ac-8430-e6375012d8e8"
      },
      "execution_count": null,
      "outputs": [
        {
          "output_type": "stream",
          "name": "stdout",
          "text": [
            "0 input_1 True\n",
            "1 rescaling True\n",
            "2 normalization True\n",
            "3 stem_conv_pad True\n",
            "4 stem_conv True\n",
            "5 stem_bn True\n",
            "6 stem_activation True\n",
            "7 block1a_dwconv True\n",
            "8 block1a_bn True\n",
            "9 block1a_activation True\n",
            "10 block1a_se_squeeze True\n",
            "11 block1a_se_reshape True\n",
            "12 block1a_se_reduce True\n",
            "13 block1a_se_expand True\n",
            "14 block1a_se_excite True\n",
            "15 block1a_project_conv True\n",
            "16 block1a_project_bn True\n",
            "17 block2a_expand_conv True\n",
            "18 block2a_expand_bn True\n",
            "19 block2a_expand_activation True\n",
            "20 block2a_dwconv_pad True\n",
            "21 block2a_dwconv True\n",
            "22 block2a_bn True\n",
            "23 block2a_activation True\n",
            "24 block2a_se_squeeze True\n",
            "25 block2a_se_reshape True\n",
            "26 block2a_se_reduce True\n",
            "27 block2a_se_expand True\n",
            "28 block2a_se_excite True\n",
            "29 block2a_project_conv True\n",
            "30 block2a_project_bn True\n",
            "31 block2b_expand_conv True\n",
            "32 block2b_expand_bn True\n",
            "33 block2b_expand_activation True\n",
            "34 block2b_dwconv True\n",
            "35 block2b_bn True\n",
            "36 block2b_activation True\n",
            "37 block2b_se_squeeze True\n",
            "38 block2b_se_reshape True\n",
            "39 block2b_se_reduce True\n",
            "40 block2b_se_expand True\n",
            "41 block2b_se_excite True\n",
            "42 block2b_project_conv True\n",
            "43 block2b_project_bn True\n",
            "44 block2b_drop True\n",
            "45 block2b_add True\n",
            "46 block3a_expand_conv True\n",
            "47 block3a_expand_bn True\n",
            "48 block3a_expand_activation True\n",
            "49 block3a_dwconv_pad True\n",
            "50 block3a_dwconv True\n",
            "51 block3a_bn True\n",
            "52 block3a_activation True\n",
            "53 block3a_se_squeeze True\n",
            "54 block3a_se_reshape True\n",
            "55 block3a_se_reduce True\n",
            "56 block3a_se_expand True\n",
            "57 block3a_se_excite True\n",
            "58 block3a_project_conv True\n",
            "59 block3a_project_bn True\n",
            "60 block3b_expand_conv True\n",
            "61 block3b_expand_bn True\n",
            "62 block3b_expand_activation True\n",
            "63 block3b_dwconv True\n",
            "64 block3b_bn True\n",
            "65 block3b_activation True\n",
            "66 block3b_se_squeeze True\n",
            "67 block3b_se_reshape True\n",
            "68 block3b_se_reduce True\n",
            "69 block3b_se_expand True\n",
            "70 block3b_se_excite True\n",
            "71 block3b_project_conv True\n",
            "72 block3b_project_bn True\n",
            "73 block3b_drop True\n",
            "74 block3b_add True\n",
            "75 block4a_expand_conv True\n",
            "76 block4a_expand_bn True\n",
            "77 block4a_expand_activation True\n",
            "78 block4a_dwconv_pad True\n",
            "79 block4a_dwconv True\n",
            "80 block4a_bn True\n",
            "81 block4a_activation True\n",
            "82 block4a_se_squeeze True\n",
            "83 block4a_se_reshape True\n",
            "84 block4a_se_reduce True\n",
            "85 block4a_se_expand True\n",
            "86 block4a_se_excite True\n",
            "87 block4a_project_conv True\n",
            "88 block4a_project_bn True\n",
            "89 block4b_expand_conv True\n",
            "90 block4b_expand_bn True\n",
            "91 block4b_expand_activation True\n",
            "92 block4b_dwconv True\n",
            "93 block4b_bn True\n",
            "94 block4b_activation True\n",
            "95 block4b_se_squeeze True\n",
            "96 block4b_se_reshape True\n",
            "97 block4b_se_reduce True\n",
            "98 block4b_se_expand True\n",
            "99 block4b_se_excite True\n",
            "100 block4b_project_conv True\n",
            "101 block4b_project_bn True\n",
            "102 block4b_drop True\n",
            "103 block4b_add True\n",
            "104 block4c_expand_conv True\n",
            "105 block4c_expand_bn True\n",
            "106 block4c_expand_activation True\n",
            "107 block4c_dwconv True\n",
            "108 block4c_bn True\n",
            "109 block4c_activation True\n",
            "110 block4c_se_squeeze True\n",
            "111 block4c_se_reshape True\n",
            "112 block4c_se_reduce True\n",
            "113 block4c_se_expand True\n",
            "114 block4c_se_excite True\n",
            "115 block4c_project_conv True\n",
            "116 block4c_project_bn True\n",
            "117 block4c_drop True\n",
            "118 block4c_add True\n",
            "119 block5a_expand_conv True\n",
            "120 block5a_expand_bn True\n",
            "121 block5a_expand_activation True\n",
            "122 block5a_dwconv True\n",
            "123 block5a_bn True\n",
            "124 block5a_activation True\n",
            "125 block5a_se_squeeze True\n",
            "126 block5a_se_reshape True\n",
            "127 block5a_se_reduce True\n",
            "128 block5a_se_expand True\n",
            "129 block5a_se_excite True\n",
            "130 block5a_project_conv True\n",
            "131 block5a_project_bn True\n",
            "132 block5b_expand_conv True\n",
            "133 block5b_expand_bn True\n",
            "134 block5b_expand_activation True\n",
            "135 block5b_dwconv True\n",
            "136 block5b_bn True\n",
            "137 block5b_activation True\n",
            "138 block5b_se_squeeze True\n",
            "139 block5b_se_reshape True\n",
            "140 block5b_se_reduce True\n",
            "141 block5b_se_expand True\n",
            "142 block5b_se_excite True\n",
            "143 block5b_project_conv True\n",
            "144 block5b_project_bn True\n",
            "145 block5b_drop True\n",
            "146 block5b_add True\n",
            "147 block5c_expand_conv True\n",
            "148 block5c_expand_bn True\n",
            "149 block5c_expand_activation True\n",
            "150 block5c_dwconv True\n",
            "151 block5c_bn True\n",
            "152 block5c_activation True\n",
            "153 block5c_se_squeeze True\n",
            "154 block5c_se_reshape True\n",
            "155 block5c_se_reduce True\n",
            "156 block5c_se_expand True\n",
            "157 block5c_se_excite True\n",
            "158 block5c_project_conv True\n",
            "159 block5c_project_bn True\n",
            "160 block5c_drop True\n",
            "161 block5c_add True\n",
            "162 block6a_expand_conv True\n",
            "163 block6a_expand_bn True\n",
            "164 block6a_expand_activation True\n",
            "165 block6a_dwconv_pad True\n",
            "166 block6a_dwconv True\n",
            "167 block6a_bn True\n",
            "168 block6a_activation True\n",
            "169 block6a_se_squeeze True\n",
            "170 block6a_se_reshape True\n",
            "171 block6a_se_reduce True\n",
            "172 block6a_se_expand True\n",
            "173 block6a_se_excite True\n",
            "174 block6a_project_conv True\n",
            "175 block6a_project_bn True\n",
            "176 block6b_expand_conv True\n",
            "177 block6b_expand_bn True\n",
            "178 block6b_expand_activation True\n",
            "179 block6b_dwconv True\n",
            "180 block6b_bn True\n",
            "181 block6b_activation True\n",
            "182 block6b_se_squeeze True\n",
            "183 block6b_se_reshape True\n",
            "184 block6b_se_reduce True\n",
            "185 block6b_se_expand True\n",
            "186 block6b_se_excite True\n",
            "187 block6b_project_conv True\n",
            "188 block6b_project_bn True\n",
            "189 block6b_drop True\n",
            "190 block6b_add True\n",
            "191 block6c_expand_conv True\n",
            "192 block6c_expand_bn True\n",
            "193 block6c_expand_activation True\n",
            "194 block6c_dwconv True\n",
            "195 block6c_bn True\n",
            "196 block6c_activation True\n",
            "197 block6c_se_squeeze True\n",
            "198 block6c_se_reshape True\n",
            "199 block6c_se_reduce True\n",
            "200 block6c_se_expand True\n",
            "201 block6c_se_excite True\n",
            "202 block6c_project_conv True\n",
            "203 block6c_project_bn True\n",
            "204 block6c_drop True\n",
            "205 block6c_add True\n",
            "206 block6d_expand_conv True\n",
            "207 block6d_expand_bn True\n",
            "208 block6d_expand_activation True\n",
            "209 block6d_dwconv True\n",
            "210 block6d_bn True\n",
            "211 block6d_activation True\n",
            "212 block6d_se_squeeze True\n",
            "213 block6d_se_reshape True\n",
            "214 block6d_se_reduce True\n",
            "215 block6d_se_expand True\n",
            "216 block6d_se_excite True\n",
            "217 block6d_project_conv True\n",
            "218 block6d_project_bn True\n",
            "219 block6d_drop True\n",
            "220 block6d_add True\n",
            "221 block7a_expand_conv True\n",
            "222 block7a_expand_bn True\n",
            "223 block7a_expand_activation True\n",
            "224 block7a_dwconv True\n",
            "225 block7a_bn True\n",
            "226 block7a_activation False\n",
            "227 block7a_se_squeeze True\n",
            "228 block7a_se_reshape True\n",
            "229 block7a_se_reduce True\n",
            "230 block7a_se_expand True\n",
            "231 block7a_se_excite True\n",
            "232 block7a_project_conv True\n",
            "233 block7a_project_bn True\n",
            "234 top_conv True\n",
            "235 top_bn True\n",
            "236 top_activation True\n"
          ]
        }
      ]
    },
    {
      "cell_type": "code",
      "source": [
        " # Compile \n",
        " model_2.compile(loss=\"categorical_crossentropy\",\n",
        "                 optimizer=tf.keras.optimizers.Adam(lr=0.0001),\n",
        "                 metrics=[\"accuracy\"])"
      ],
      "metadata": {
        "colab": {
          "base_uri": "https://localhost:8080/"
        },
        "id": "TF_k-lCwe53F",
        "outputId": "511fd22b-f072-40b1-922e-e8f73719f1a8"
      },
      "execution_count": null,
      "outputs": [
        {
          "output_type": "stream",
          "name": "stderr",
          "text": [
            "/usr/local/lib/python3.7/dist-packages/keras/optimizer_v2/adam.py:105: UserWarning: The `lr` argument is deprecated, use `learning_rate` instead.\n",
            "  super(Adam, self).__init__(name, **kwargs)\n"
          ]
        }
      ]
    },
    {
      "cell_type": "code",
      "source": [
        "history_fine_10_classes_full = model_2.fit(train_data_10_classes_full,\n",
        "                                           epochs=fine_tune_epochs,\n",
        "                                           validation_steps=int(0.25 * len(test_data)),\n",
        "                                           initial_epoch=history_10_percent_data_aug.epoch[-1],\n",
        "                                           callbacks=[create_tensorboard_callback(dir_name=\"transfer_learning\",\n",
        "                                                                                  experiment_name=\"full_10_classes\")])"
      ],
      "metadata": {
        "colab": {
          "base_uri": "https://localhost:8080/"
        },
        "id": "2t5ACSwXe5xF",
        "outputId": "9e9d0f38-8075-4c8c-d538-6954beb8afcc"
      },
      "execution_count": null,
      "outputs": [
        {
          "output_type": "stream",
          "name": "stdout",
          "text": [
            "Saving TensorBoard log files to: transfer_learning/full_10_classes/20220215-041233\n"
          ]
        },
        {
          "output_type": "stream",
          "name": "stderr",
          "text": [
            "/usr/local/lib/python3.7/dist-packages/keras/engine/functional.py:1410: CustomMaskWarning: Custom mask layers require a config and must override get_config. When loading, the custom mask layer must be passed to the custom_objects argument.\n",
            "  layer_config = serialize_layer_fn(layer)\n"
          ]
        },
        {
          "output_type": "stream",
          "name": "stdout",
          "text": [
            "Epoch 5/10\n",
            "24/24 [==============================] - 28s 1s/step - loss: 0.4517 - accuracy: 0.8787\n",
            "Epoch 6/10\n",
            "24/24 [==============================] - 26s 1s/step - loss: 0.3345 - accuracy: 0.8827\n",
            "Epoch 7/10\n",
            "24/24 [==============================] - 24s 986ms/step - loss: 0.2702 - accuracy: 0.9200\n",
            "Epoch 8/10\n",
            "24/24 [==============================] - 23s 946ms/step - loss: 0.1624 - accuracy: 0.9587\n",
            "Epoch 9/10\n",
            "24/24 [==============================] - 25s 1s/step - loss: 0.1285 - accuracy: 0.9653\n",
            "Epoch 10/10\n",
            "24/24 [==============================] - 22s 930ms/step - loss: 0.0974 - accuracy: 0.9707\n"
          ]
        }
      ]
    },
    {
      "cell_type": "code",
      "source": [
        "compare_historys(orignal_history=history_10_percent_data_aug,\n",
        "                 new_history=history_fine_10_classes_full,\n",
        "                 initial_epochs=5)"
      ],
      "metadata": {
        "id": "d-tmuUOqe5rh"
      },
      "execution_count": null,
      "outputs": []
    },
    {
      "cell_type": "code",
      "source": [
        ""
      ],
      "metadata": {
        "id": "GOp52E7spexh"
      },
      "execution_count": null,
      "outputs": []
    },
    {
      "cell_type": "code",
      "source": [
        ""
      ],
      "metadata": {
        "id": "0vLLt9fFpelU"
      },
      "execution_count": null,
      "outputs": []
    },
    {
      "cell_type": "code",
      "source": [
        ""
      ],
      "metadata": {
        "id": "lkR-fIQ0peX9"
      },
      "execution_count": null,
      "outputs": []
    },
    {
      "cell_type": "code",
      "source": [
        "tf.keras.preprocessing.image.ImageDataGenerator(\n",
        "featurewise_center=False, \n",
        "samplewise_center=False,\n",
        "featurewise_std_normalization=False, \n",
        "samplewise_std_normalization=False,\n",
        "zca_whitening=False, \n",
        "zca_epsilon=1e-06, rotation_range=0, \n",
        "width_shift_range=0.0,\n",
        "height_shift_range=0.0, \n",
        "brightness_range=None, \n",
        "shear_range=0.0, \n",
        "zoom_range=0.0,\n",
        "channel_shift_range=0.0, \n",
        "fill_mode='nearest', \n",
        "cval=0.0,\n",
        "horizontal_flip=False, \n",
        "vertical_flip=False, \n",
        "rescale=None,\n",
        "preprocessing_function=None, \n",
        "data_format=None, \n",
        "validation_split=0.0, \n",
        "dtype=None\n",
        ")"
      ],
      "metadata": {
        "id": "7e5vr6EWgNxR",
        "colab": {
          "base_uri": "https://localhost:8080/"
        },
        "outputId": "5e2ac6b2-4aaf-4f45-83b3-bbe5f25dc8db"
      },
      "execution_count": null,
      "outputs": [
        {
          "output_type": "execute_result",
          "data": {
            "text/plain": [
              "<keras.preprocessing.image.ImageDataGenerator at 0x7fccae293290>"
            ]
          },
          "metadata": {},
          "execution_count": 38
        }
      ]
    },
    {
      "cell_type": "code",
      "source": [
        ""
      ],
      "metadata": {
        "id": "9OGNATpFsAyg"
      },
      "execution_count": null,
      "outputs": []
    },
    {
      "cell_type": "code",
      "source": [
        "tf.keras.callbacks.ModelCheckpoint(\n",
        "filepath,\n",
        "monitor='val_loss',\n",
        "verbose=0,\n",
        "save_best_only=False,\n",
        "save_weights_only=False,\n",
        "mode='auto',\n",
        "save_freq='epoch',    \n",
        "options=None,\n",
        "initial_value_threshold=None,\n",
        "**kwargs\n",
        ")"
      ],
      "metadata": {
        "id": "8uppUYrSsA_q"
      },
      "execution_count": null,
      "outputs": []
    },
    {
      "cell_type": "code",
      "source": [
        ""
      ],
      "metadata": {
        "id": "AqFzw9_MsAmR"
      },
      "execution_count": null,
      "outputs": []
    },
    {
      "cell_type": "code",
      "source": [
        "tf.keras.applications.efficientnet.EfficientNetB0(\n",
        "#\tWhether to include the fully-connected layer at the top of the network.\n",
        "# Defaults to True.\n",
        "include_top=True, \n",
        "# One of None (random initialization), \n",
        "#'imagenet' (pre-training on ImageNet), \n",
        "# or the path to the weights file to be loaded. Defaults to 'imagenet'.\n",
        "weights='imagenet',\n",
        "# \tOptional Keras tensor \n",
        "# (i.e. output of layers.Input()) to use as image input for the model.\n",
        "input_tensor=None,\n",
        "# Optional shape tuple, only to be specified if include_top is False. \n",
        "# It should have exactly 3 inputs channels.\n",
        "input_shape=None,\n",
        "\"\"\"\n",
        "Optional pooling mode for feature extraction when include_top is False.\n",
        "Defaults to None.\n",
        "None means that the output of the model will be the 4D tensor output \n",
        "of the last convolutional layer.\n",
        "avg means that global average pooling will be applied to the output \n",
        "of the last convolutional layer, and thus the output of the model \n",
        "will be a 2D tensor.\n",
        "max means that global max pooling will be applied.\n",
        "\"\"\"\n",
        "pooling=None,\n",
        "\"\"\"\n",
        "Optional number of classes to classify images into, only to be specified \n",
        "if include_top is True, and if no weights argument is specified. \n",
        "Defaults to 1000 (number of ImageNet classes).\n",
        "\"\"\"\n",
        "classes=1000,\n",
        "\"\"\"\n",
        "A str or callable. The activation function to use on the \"top\" layer. \n",
        "Ignored unless include_top=True. Set classifier_activation=None to \n",
        "return the logits of the \"top\" layer. Defaults to 'softmax'.\n",
        "When loading \\pretrained weights, classifier_activation can only \n",
        "be None or \"softmax\".\n",
        "classifier_activation='softmax',\n",
        "\"\"\"\n",
        "**kwargs\n",
        ")"
      ],
      "metadata": {
        "id": "RggUPaG1NCxP"
      },
      "execution_count": null,
      "outputs": []
    },
    {
      "cell_type": "code",
      "source": [
        "  #1. Create base model with tf.keras.applications\n",
        "  base_model = tf.keras.applications.EfficientNetB0(include_top=False)\n",
        "  #2. Freeze the base model (so the pre-learned patterns remain)\n",
        "  base_model.trainable = False\n",
        "  #3. Create inputs into the base model\n",
        "  inputs = tf.keras.layers.Input(shape=(224,224,3), name=\"input_layers\")\n",
        "  # 4. if using ResNet50v2, add this to speed up convergence, remove for EfficientNet\n",
        "  # x = tf.keras.layers.experimental.preprocessing.Rescaling(1./255)(inputs)\n",
        "\n",
        "  #5. Pass the inputs to the base_model (note: using tf.keras.applications, EfficientNet input)\n",
        "  x = base_model(inputs)\n",
        "  # Check data shape after passing it to base model\n",
        "  print(f\"Shape after base_model: {x.shape}\")\n",
        "  # 6. Average pool the outputs of the base model (aggregate all the most important information)\n",
        "  x = tf.keras.layers.GlobalAveragePooling2D(name=\"global_average_pooling_layers\")(x)\n",
        "  print(f\"After GlobalAveragePooling2D(): {x.shape}\")\n",
        "  # 7. Create the output activation layer\n",
        "  outputs = tf.layers.Dense(10, activation=\"softmax\", name=\"output_layer\")(x)\n",
        "  "
      ],
      "metadata": {
        "id": "edPiy8WENC_a"
      },
      "execution_count": null,
      "outputs": []
    },
    {
      "cell_type": "code",
      "source": [
        "tf.keras.utils.image_dataset_from_directory(\n",
        "directory,\n",
        "labels='inferred',\n",
        "label_mode='int',\n",
        "class_names=None,\n",
        "color_mode='rgb', \n",
        "batch_size=32, \n",
        "image_size=(256,256), \n",
        "shuffle=True, \n",
        "seed=None, \n",
        "validation_split=None, \n",
        "subset=None,\n",
        "interpolation='bilinear', \n",
        "follow_links=False,\n",
        "crop_to_aspect_ratio=False,\n",
        "**kwargs\n",
        ")"
      ],
      "metadata": {
        "id": "Tn5jE2g5J2bX"
      },
      "execution_count": null,
      "outputs": []
    },
    {
      "cell_type": "code",
      "source": [
        ""
      ],
      "metadata": {
        "id": "N1FvGSnRKH1S"
      },
      "execution_count": null,
      "outputs": []
    }
  ]
}